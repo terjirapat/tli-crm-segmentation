{
 "cells": [
  {
   "cell_type": "code",
   "execution_count": 4,
   "id": "c8db8b66-48af-417a-9a66-5ca034db0be2",
   "metadata": {
    "tags": []
   },
   "outputs": [],
   "source": [
    "import pandas as pd\n",
    "import seaborn as sns\n",
    "import matplotlib.pyplot as plt\n",
    "import numpy as np\n",
    "from package.utils import DotDict, timer, get_config, load_data, merge_data"
   ]
  },
  {
   "cell_type": "code",
   "execution_count": 5,
   "id": "bf1982a9-8b6c-4549-97ca-1d165b6cf9b4",
   "metadata": {
    "tags": []
   },
   "outputs": [
    {
     "name": "stdout",
     "output_type": "stream",
     "text": [
      "CPU times: user 15.5 s, sys: 3.47 s, total: 18.9 s\n",
      "Wall time: 35.9 s\n"
     ]
    }
   ],
   "source": [
    "%%time\n",
    "bucket_path = 's3://tli-crm-segmentation/data-zones/neutral/raw'\n",
    "dtypes = {'policyno':str, 'party_id_name_bd':str, 'party_id_govt':str, 'policy_govt':str}\n",
    "\n",
    "path = f'{bucket_path}/stg_tb_mstperson_beneficiary_party_id_name_bd_party_id_govt_202505251050.csv'\n",
    "beneid_df = pd.read_csv(path, dtype=dtypes)\n",
    "\n",
    "# path = f'{bucket_path}/stg_tb_policy_policyparticipant_202505220106.csv'\n",
    "# policybene_df = pd.read_csv(path, dtype=dtypes)"
   ]
  },
  {
   "cell_type": "code",
   "execution_count": 7,
   "id": "425469c1-25b1-467c-9b30-76d4e1026c43",
   "metadata": {
    "tags": []
   },
   "outputs": [
    {
     "data": {
      "text/plain": [
       "array(['O', 'U', 'W', 'I', 'L'], dtype=object)"
      ]
     },
     "execution_count": 7,
     "metadata": {},
     "output_type": "execute_result"
    }
   ],
   "source": [
    "beneid_df.policytype.unique()"
   ]
  },
  {
   "cell_type": "code",
   "execution_count": 18,
   "id": "75c33223-a020-4d00-b899-22221a067bd7",
   "metadata": {
    "tags": []
   },
   "outputs": [
    {
     "data": {
      "text/plain": [
       "policytype                 0\n",
       "policyno                   0\n",
       "relationshipcode           0\n",
       "party_id_name_bd    18989768\n",
       "party_id_govt       14758009\n",
       "dtype: int64"
      ]
     },
     "execution_count": 18,
     "metadata": {},
     "output_type": "execute_result"
    }
   ],
   "source": [
    "beneid_df.isna().sum()"
   ]
  },
  {
   "cell_type": "code",
   "execution_count": 11,
   "id": "f44fda93-830a-4c97-9f7c-c8da46f7a7b9",
   "metadata": {
    "tags": []
   },
   "outputs": [],
   "source": [
    "path = 's3://dev-tli-eap-inbound-bucket/test2_202505221645.csv'\n",
    "dtypes = {'policyno':str, 'party_id_name_bd':str, 'party_id_govt':str, 'policy_govt':str}\n",
    "policybene_df = pd.read_csv(path, dtype=dtypes)\n",
    "\n",
    "mask = policybene_df['party_id_govt'].isna()\n",
    "mask &= ~policybene_df['dup_party_id_govt'].isna()\n",
    "policybene_df[mask]['dup_party_id_govt'].nunique()"
   ]
  },
  {
   "cell_type": "code",
   "execution_count": 13,
   "id": "f4a49393-f091-46bc-938f-3ecf524759dd",
   "metadata": {
    "tags": []
   },
   "outputs": [
    {
     "data": {
      "text/plain": [
       "(17786852, 7)"
      ]
     },
     "execution_count": 13,
     "metadata": {},
     "output_type": "execute_result"
    }
   ],
   "source": [
    "policybene_df.shape"
   ]
  },
  {
   "cell_type": "code",
   "execution_count": 21,
   "id": "9d63bdd6-4f62-47f0-aa12-e6bfc5e2b5e5",
   "metadata": {
    "tags": []
   },
   "outputs": [
    {
     "data": {
      "text/plain": [
       "4"
      ]
     },
     "execution_count": 21,
     "metadata": {},
     "output_type": "execute_result"
    }
   ],
   "source": []
  },
  {
   "cell_type": "code",
   "execution_count": 28,
   "id": "0498c361-c02f-43b6-a37c-1a0b14b516e2",
   "metadata": {
    "tags": []
   },
   "outputs": [
    {
     "data": {
      "text/plain": [
       "1399884"
      ]
     },
     "execution_count": 28,
     "metadata": {},
     "output_type": "execute_result"
    }
   ],
   "source": [
    "policybene_df.drop_duplicates(subset='party_id_govt')['policyno'].nunique()"
   ]
  },
  {
   "cell_type": "code",
   "execution_count": 29,
   "id": "8271bb62-a5e3-461c-a5e9-c1f3c1b7544c",
   "metadata": {
    "tags": []
   },
   "outputs": [
    {
     "data": {
      "text/plain": [
       "12450848"
      ]
     },
     "execution_count": 29,
     "metadata": {},
     "output_type": "execute_result"
    }
   ],
   "source": [
    "policybene_df['policyno'].nunique()"
   ]
  },
  {
   "cell_type": "code",
   "execution_count": 23,
   "id": "ff346534-647d-4a32-ab12-58c8b69572f2",
   "metadata": {
    "tags": []
   },
   "outputs": [
    {
     "data": {
      "text/plain": [
       "365443.0    12399450\n",
       "3.0           601458\n",
       "9.0               22\n",
       "6.0                4\n",
       "Name: dup_party_id_govt, dtype: int64"
      ]
     },
     "execution_count": 23,
     "metadata": {},
     "output_type": "execute_result"
    }
   ],
   "source": [
    "policybene_df[mask]['dup_party_id_govt'].value_counts()"
   ]
  },
  {
   "cell_type": "code",
   "execution_count": 1,
   "id": "6f4daa84-8a3c-4a91-9ba7-c255152f5c17",
   "metadata": {
    "tags": []
   },
   "outputs": [],
   "source": [
    "# path = f'{bucket_path}/stg_common_relationship_202501220951.csv'\n",
    "# benedict_df = pd.read_csv(path)"
   ]
  },
  {
   "cell_type": "markdown",
   "id": "d48de5fa-e0e9-4dbb-936f-380253068d4d",
   "metadata": {},
   "source": [
    "ทำ partyid, policyno เป็น str ด้วย"
   ]
  },
  {
   "cell_type": "code",
   "execution_count": 27,
   "id": "7e7884cb-f14b-40c5-9705-e3f2e0b03fb4",
   "metadata": {
    "tags": []
   },
   "outputs": [],
   "source": [
    "bene_list = ['บิดา', 'บิดาบุญธรรม', 'มารดา', 'มารดาบุญธรรม', 'บุตร', 'บุตรบุญธรรม', 'สามี', 'ภรรยา']\n",
    "mask = benedict_df['relationship_desc_th'].isin(bene_list)\n",
    "benecode_list = set(benedict_df.loc[mask, 'relationship_cd'])"
   ]
  },
  {
   "cell_type": "code",
   "execution_count": 17,
   "id": "e5c11d28-c8df-4f17-bee4-69eb419aaf7b",
   "metadata": {
    "tags": []
   },
   "outputs": [
    {
     "data": {
      "text/plain": [
       "{1, 2, 3, 4, 5, 22, 43, 44}"
      ]
     },
     "execution_count": 17,
     "metadata": {},
     "output_type": "execute_result"
    }
   ],
   "source": [
    "benecode_list"
   ]
  },
  {
   "cell_type": "code",
   "execution_count": 31,
   "id": "f23d02a2-bb05-4142-a120-283ea0fa461f",
   "metadata": {
    "tags": []
   },
   "outputs": [
    {
     "data": {
      "text/html": [
       "<div>\n",
       "<style scoped>\n",
       "    .dataframe tbody tr th:only-of-type {\n",
       "        vertical-align: middle;\n",
       "    }\n",
       "\n",
       "    .dataframe tbody tr th {\n",
       "        vertical-align: top;\n",
       "    }\n",
       "\n",
       "    .dataframe thead th {\n",
       "        text-align: right;\n",
       "    }\n",
       "</style>\n",
       "<table border=\"1\" class=\"dataframe\">\n",
       "  <thead>\n",
       "    <tr style=\"text-align: right;\">\n",
       "      <th></th>\n",
       "      <th>policytype</th>\n",
       "      <th>policyno</th>\n",
       "      <th>relationshipcode</th>\n",
       "      <th>party_id_name_bd</th>\n",
       "      <th>party_id_govt</th>\n",
       "    </tr>\n",
       "  </thead>\n",
       "  <tbody>\n",
       "    <tr>\n",
       "      <th>850874</th>\n",
       "      <td>O</td>\n",
       "      <td>39925822</td>\n",
       "      <td>3</td>\n",
       "      <td>NaN</td>\n",
       "      <td>10823783</td>\n",
       "    </tr>\n",
       "    <tr>\n",
       "      <th>850875</th>\n",
       "      <td>O</td>\n",
       "      <td>39926340</td>\n",
       "      <td>1</td>\n",
       "      <td>NaN</td>\n",
       "      <td>10823783</td>\n",
       "    </tr>\n",
       "    <tr>\n",
       "      <th>850876</th>\n",
       "      <td>O</td>\n",
       "      <td>39925822</td>\n",
       "      <td>1</td>\n",
       "      <td>NaN</td>\n",
       "      <td>10823783</td>\n",
       "    </tr>\n",
       "    <tr>\n",
       "      <th>850878</th>\n",
       "      <td>O</td>\n",
       "      <td>86716784</td>\n",
       "      <td>4</td>\n",
       "      <td>NaN</td>\n",
       "      <td>10823714</td>\n",
       "    </tr>\n",
       "    <tr>\n",
       "      <th>850879</th>\n",
       "      <td>O</td>\n",
       "      <td>87036551</td>\n",
       "      <td>1</td>\n",
       "      <td>NaN</td>\n",
       "      <td>10823714</td>\n",
       "    </tr>\n",
       "  </tbody>\n",
       "</table>\n",
       "</div>"
      ],
      "text/plain": [
       "       policytype  policyno  relationshipcode party_id_name_bd party_id_govt\n",
       "850874          O  39925822                 3              NaN      10823783\n",
       "850875          O  39926340                 1              NaN      10823783\n",
       "850876          O  39925822                 1              NaN      10823783\n",
       "850878          O  86716784                 4              NaN      10823714\n",
       "850879          O  87036551                 1              NaN      10823714"
      ]
     },
     "execution_count": 31,
     "metadata": {},
     "output_type": "execute_result"
    }
   ],
   "source": [
    "beneid_df.loc[beneid_df['party_id_govt'].isna(), 'party_id_govt'] = beneid_df.loc[beneid_df['party_id_govt'].isna(), 'party_id_name_bd']\n",
    "mask = ~beneid_df['party_id_govt'].isna()\n",
    "mask &= beneid_df['relationshipcode'].isin([1, 2, 3, 4, 5, 22, 43, 44])\n",
    "beneid_df = beneid_df.loc[mask, :]\n",
    "beneid_df.head()"
   ]
  },
  {
   "cell_type": "code",
   "execution_count": 36,
   "id": "196ac077-9de6-4357-bbcb-89bcbfb5b150",
   "metadata": {
    "tags": []
   },
   "outputs": [
    {
     "data": {
      "text/html": [
       "<div>\n",
       "<style scoped>\n",
       "    .dataframe tbody tr th:only-of-type {\n",
       "        vertical-align: middle;\n",
       "    }\n",
       "\n",
       "    .dataframe tbody tr th {\n",
       "        vertical-align: top;\n",
       "    }\n",
       "\n",
       "    .dataframe thead th {\n",
       "        text-align: right;\n",
       "    }\n",
       "</style>\n",
       "<table border=\"1\" class=\"dataframe\">\n",
       "  <thead>\n",
       "    <tr style=\"text-align: right;\">\n",
       "      <th></th>\n",
       "      <th>policytype</th>\n",
       "      <th>policyno</th>\n",
       "      <th>relationshipcode</th>\n",
       "      <th>party_id_name_bd</th>\n",
       "      <th>party_id_govt</th>\n",
       "    </tr>\n",
       "  </thead>\n",
       "  <tbody>\n",
       "    <tr>\n",
       "      <th>850874</th>\n",
       "      <td>O</td>\n",
       "      <td>39925822</td>\n",
       "      <td>3</td>\n",
       "      <td>NaN</td>\n",
       "      <td>10823783</td>\n",
       "    </tr>\n",
       "    <tr>\n",
       "      <th>850875</th>\n",
       "      <td>O</td>\n",
       "      <td>39926340</td>\n",
       "      <td>1</td>\n",
       "      <td>NaN</td>\n",
       "      <td>10823783</td>\n",
       "    </tr>\n",
       "    <tr>\n",
       "      <th>850878</th>\n",
       "      <td>O</td>\n",
       "      <td>86716784</td>\n",
       "      <td>4</td>\n",
       "      <td>NaN</td>\n",
       "      <td>10823714</td>\n",
       "    </tr>\n",
       "    <tr>\n",
       "      <th>850879</th>\n",
       "      <td>O</td>\n",
       "      <td>87036551</td>\n",
       "      <td>1</td>\n",
       "      <td>NaN</td>\n",
       "      <td>10823714</td>\n",
       "    </tr>\n",
       "    <tr>\n",
       "      <th>850880</th>\n",
       "      <td>O</td>\n",
       "      <td>86833981</td>\n",
       "      <td>4</td>\n",
       "      <td>NaN</td>\n",
       "      <td>10823714</td>\n",
       "    </tr>\n",
       "    <tr>\n",
       "      <th>...</th>\n",
       "      <td>...</td>\n",
       "      <td>...</td>\n",
       "      <td>...</td>\n",
       "      <td>...</td>\n",
       "      <td>...</td>\n",
       "    </tr>\n",
       "    <tr>\n",
       "      <th>18989748</th>\n",
       "      <td>O</td>\n",
       "      <td>37410894</td>\n",
       "      <td>3</td>\n",
       "      <td>NaN</td>\n",
       "      <td>10505282</td>\n",
       "    </tr>\n",
       "    <tr>\n",
       "      <th>18989749</th>\n",
       "      <td>O</td>\n",
       "      <td>23109183</td>\n",
       "      <td>4</td>\n",
       "      <td>NaN</td>\n",
       "      <td>11221824</td>\n",
       "    </tr>\n",
       "    <tr>\n",
       "      <th>18989754</th>\n",
       "      <td>O</td>\n",
       "      <td>80227109</td>\n",
       "      <td>5</td>\n",
       "      <td>NaN</td>\n",
       "      <td>10505306</td>\n",
       "    </tr>\n",
       "    <tr>\n",
       "      <th>18989756</th>\n",
       "      <td>O</td>\n",
       "      <td>80232119</td>\n",
       "      <td>1</td>\n",
       "      <td>NaN</td>\n",
       "      <td>10505308</td>\n",
       "    </tr>\n",
       "    <tr>\n",
       "      <th>18989764</th>\n",
       "      <td>O</td>\n",
       "      <td>23050122</td>\n",
       "      <td>2</td>\n",
       "      <td>NaN</td>\n",
       "      <td>10668342</td>\n",
       "    </tr>\n",
       "  </tbody>\n",
       "</table>\n",
       "<p>2280682 rows × 5 columns</p>\n",
       "</div>"
      ],
      "text/plain": [
       "         policytype  policyno  relationshipcode party_id_name_bd party_id_govt\n",
       "850874            O  39925822                 3              NaN      10823783\n",
       "850875            O  39926340                 1              NaN      10823783\n",
       "850878            O  86716784                 4              NaN      10823714\n",
       "850879            O  87036551                 1              NaN      10823714\n",
       "850880            O  86833981                 4              NaN      10823714\n",
       "...             ...       ...               ...              ...           ...\n",
       "18989748          O  37410894                 3              NaN      10505282\n",
       "18989749          O  23109183                 4              NaN      11221824\n",
       "18989754          O  80227109                 5              NaN      10505306\n",
       "18989756          O  80232119                 1              NaN      10505308\n",
       "18989764          O  23050122                 2              NaN      10668342\n",
       "\n",
       "[2280682 rows x 5 columns]"
      ]
     },
     "execution_count": 36,
     "metadata": {},
     "output_type": "execute_result"
    }
   ],
   "source": [
    "beneid_df.drop_duplicates(subset='policyno')"
   ]
  },
  {
   "cell_type": "code",
   "execution_count": 4,
   "id": "287fcf8b-2ef9-43c8-aeb9-dbc9aba92441",
   "metadata": {
    "tags": []
   },
   "outputs": [
    {
     "data": {
      "text/html": [
       "<div>\n",
       "<style scoped>\n",
       "    .dataframe tbody tr th:only-of-type {\n",
       "        vertical-align: middle;\n",
       "    }\n",
       "\n",
       "    .dataframe tbody tr th {\n",
       "        vertical-align: top;\n",
       "    }\n",
       "\n",
       "    .dataframe thead th {\n",
       "        text-align: right;\n",
       "    }\n",
       "</style>\n",
       "<table border=\"1\" class=\"dataframe\">\n",
       "  <thead>\n",
       "    <tr style=\"text-align: right;\">\n",
       "      <th></th>\n",
       "      <th>party_id</th>\n",
       "      <th>policy_govt</th>\n",
       "    </tr>\n",
       "  </thead>\n",
       "  <tbody>\n",
       "    <tr>\n",
       "      <th>0</th>\n",
       "      <td>4596828</td>\n",
       "      <td>20604519</td>\n",
       "    </tr>\n",
       "    <tr>\n",
       "      <th>1</th>\n",
       "      <td>2060465</td>\n",
       "      <td>20604684</td>\n",
       "    </tr>\n",
       "    <tr>\n",
       "      <th>2</th>\n",
       "      <td>2468579</td>\n",
       "      <td>20605089</td>\n",
       "    </tr>\n",
       "    <tr>\n",
       "      <th>3</th>\n",
       "      <td>3455457</td>\n",
       "      <td>20605591</td>\n",
       "    </tr>\n",
       "    <tr>\n",
       "      <th>4</th>\n",
       "      <td>3328568</td>\n",
       "      <td>20607297</td>\n",
       "    </tr>\n",
       "  </tbody>\n",
       "</table>\n",
       "</div>"
      ],
      "text/plain": [
       "   party_id policy_govt\n",
       "0   4596828    20604519\n",
       "1   2060465    20604684\n",
       "2   2468579    20605089\n",
       "3   3455457    20605591\n",
       "4   3328568    20607297"
      ]
     },
     "execution_count": 4,
     "metadata": {},
     "output_type": "execute_result"
    }
   ],
   "source": [
    "policybene_df.head()"
   ]
  },
  {
   "cell_type": "code",
   "execution_count": 38,
   "id": "201826c3-a7e2-42f1-af9f-2efe3c5e5ab5",
   "metadata": {
    "tags": []
   },
   "outputs": [
    {
     "data": {
      "text/plain": [
       "(17963767, 2)"
      ]
     },
     "execution_count": 38,
     "metadata": {},
     "output_type": "execute_result"
    }
   ],
   "source": [
    "policybene_df.shape"
   ]
  },
  {
   "cell_type": "code",
   "execution_count": null,
   "id": "febdf28e-7b5c-4d8b-b41d-f72df6c310e1",
   "metadata": {},
   "outputs": [],
   "source": [
    "eneid_df.drop_duplicates(subset='policyno')"
   ]
  },
  {
   "cell_type": "code",
   "execution_count": null,
   "id": "94341c19-a74a-4528-8c80-b53ca6659fe4",
   "metadata": {},
   "outputs": [],
   "source": [
    "policyactive_list = set(policy_df['policyno'])\n",
    "policybene_df = "
   ]
  },
  {
   "cell_type": "code",
   "execution_count": null,
   "id": "efd712b2-46df-4a65-9cbb-6a9d945cd0ac",
   "metadata": {},
   "outputs": [],
   "source": [
    "import pandas as pd\n",
    "from package.utils import timer, load_data\n",
    "\n",
    "@timer\n",
    "def createfamilyflag_pipeline(policy_df, policybene_path, beneid_path):\n",
    "    dtypes = {'policyno':str, 'party_id_name_bd':str, 'party_id_govt':str, 'policy_govt':str, 'party_id':str}\n",
    "    policybene_df = load_data(policybene_path, dtype=dtypes)\n",
    "    beneid_df = load_data(beneid_path, dtype=dtypes)\n",
    "    \n",
    "    # get active policyno\n",
    "    policyactive_list = set(policy_df['policy_no'])\n",
    "    \n",
    "    # get active beneficiary partyid\n",
    "    mask = policybene_df['policy_govt'].isin(policyactive_list)\n",
    "    activebeneid_list = set(policybene_df.loc[mask, 'party_id'])\n",
    "    \n",
    "    # get policy that having active beneficiary\n",
    "    beneid_df.loc[beneid_df['party_id_govt'].isna(), 'party_id_govt'] = beneid_df.loc[beneid_df['party_id_govt'].isna(), 'party_id_name_bd']\n",
    "    mask = ~beneid_df['party_id_govt'].isna()\n",
    "    mask &= beneid_df['relationshipcode'].isin([1, 2, 3, 4, 5, 22, 43, 44])\n",
    "    mask &= beneid_df['policyno'].isin(policyactive_list)\n",
    "    mask &= beneid_df['party_id_govt'].isin(activebeneid_list)\n",
    "    familypolicyno_list = set(beneid_df.loc[mask, 'policyno'])\n",
    "    \n",
    "    # get df having party_rk and family flag\n",
    "    proxy = policy_df[['party_rk', 'policy_no']].copy()\n",
    "    proxy['is_family'] = 0\n",
    "    proxy.loc[proxy['policy_no'].isin(familypolicyno_list), 'is_family'] = 1\n",
    "    proxy = proxy[['party_rk', 'is_family']].sort_values(by='is_family', ascending=False)\n",
    "    proxy = proxy.drop_duplicates(subset='party_rk', keep='first')\n",
    "    print(proxy)\n",
    "    return proxy\n",
    "\n",
    "createfamilyflag_pipeline(policy_df, policybene_path, beneid_path)"
   ]
  },
  {
   "cell_type": "code",
   "execution_count": 31,
   "id": "de83898b-8b79-4e87-8eb6-f31ef9965beb",
   "metadata": {
    "tags": []
   },
   "outputs": [],
   "source": [
    "import pandas as pd\n",
    "from package.utils import timer, load_data\n",
    "\n",
    "@timer\n",
    "def createfamilyflag_pipeline(policy_df, policybene_df, beneid_df):\n",
    "    # dtypes = {'policyno':str, 'party_id_name_bd':str, 'party_id_govt':str, 'policy_govt':str, 'dup_party_id_govt':str}\n",
    "    # policybene_df = load_data(policybene_path, dtype=dtypes)\n",
    "    # beneid_df = load_data(beneid_path, dtype=dtypes)\n",
    "    \n",
    "    # get active policyno\n",
    "    policyactive_list = set(policy_df['policy_no'])\n",
    "    print(policy_df['policy_no'])\n",
    "    \n",
    "    # get active beneficiary partyid\n",
    "    mask = policybene_df['policy_govt'].isin(policyactive_list)\n",
    "    activebeneid_list = set(policybene_df.loc[mask, 'party_id'])\n",
    "    print(policybene_df.loc[mask, 'party_id'])\n",
    "    \n",
    "    # get policy that having active beneficiary\n",
    "    beneid_df.loc[beneid_df['party_id_govt'].isna(), 'party_id_govt'] = beneid_df.loc[beneid_df['party_id_govt'].isna(), 'party_id_name_bd']\n",
    "    mask = ~beneid_df['party_id_govt'].isna()\n",
    "    mask &= beneid_df['relationshipcode'].isin([1, 2, 3, 4, 5, 22, 43, 44])\n",
    "    mask &= beneid_df['policyno'].isin(policyactive_list)\n",
    "    mask &= beneid_df['party_id_govt'].isin(activebeneid_list)\n",
    "    beneid_df = beneid_df.loc[mask, :]\n",
    "    print(beneid_df)\n",
    "    # beneid_df = beneid_df.drop_duplicates(subset='party_id_govt')\n",
    "    familypolicyno_list = set(beneid_df['policyno'])\n",
    "    \n",
    "    # get df having party_rk and family flag\n",
    "    proxy = policy_df[['party_rk', 'policy_no']].copy()\n",
    "    proxy['is_family'] = 0\n",
    "    proxy.loc[proxy['policy_no'].isin(familypolicyno_list), 'is_family'] = 1\n",
    "    proxy = proxy[['party_rk', 'is_family']].sort_values(by='is_family', ascending=False)\n",
    "    proxy = proxy.drop_duplicates(subset='party_rk', keep='first')\n",
    "    print(proxy)\n",
    "    return proxy"
   ]
  },
  {
   "cell_type": "code",
   "execution_count": 3,
   "id": "05285b5b-925d-4dbe-a46d-e93a1e09d5f9",
   "metadata": {
    "tags": []
   },
   "outputs": [
    {
     "name": "stdout",
     "output_type": "stream",
     "text": [
      "function: load_data is starting...\n",
      "loading data from: s3://tli-crm-segmentation/data-test/family/stg_tb_policy_policyparticipant_202505220106.csv\n"
     ]
    },
    {
     "name": "stderr",
     "output_type": "stream",
     "text": [
      "/home/ec2-user/anaconda3/envs/python3/lib/python3.10/site-packages/fsspec/registry.py:286: UserWarning: Your installed version of s3fs is very old and known to cause\n",
      "severe performance issues, see also https://github.com/dask/dask/issues/10276\n",
      "\n",
      "To fix, you should specify a lower version bound on s3fs, or\n",
      "update the current installation.\n",
      "\n",
      "  warnings.warn(s3_msg)\n"
     ]
    },
    {
     "name": "stdout",
     "output_type": "stream",
     "text": [
      "Succesfully loaded data from: s3://tli-crm-segmentation/data-test/family/stg_tb_policy_policyparticipant_202505220106.csv\n",
      "function: load_data successfully executed at 21.34773325920105s\n",
      "function: load_data is starting...\n",
      "loading data from: s3://dev-tli-eap-inbound-bucket/test2_202505221645.csv\n"
     ]
    },
    {
     "ename": "FileNotFoundError",
     "evalue": "dev-tli-eap-inbound-bucket/test2_202505221645.csv",
     "output_type": "error",
     "traceback": [
      "\u001b[0;31m---------------------------------------------------------------------------\u001b[0m",
      "\u001b[0;31mClientError\u001b[0m                               Traceback (most recent call last)",
      "File \u001b[0;32m~/anaconda3/envs/python3/lib/python3.10/site-packages/s3fs/core.py:529\u001b[0m, in \u001b[0;36mS3FileSystem.info\u001b[0;34m(self, path, version_id, refresh)\u001b[0m\n\u001b[1;32m    528\u001b[0m \u001b[38;5;28;01mtry\u001b[39;00m:\n\u001b[0;32m--> 529\u001b[0m     out \u001b[38;5;241m=\u001b[39m \u001b[38;5;28;43mself\u001b[39;49m\u001b[38;5;241;43m.\u001b[39;49m\u001b[43m_call_s3\u001b[49m\u001b[43m(\u001b[49m\u001b[38;5;28;43mself\u001b[39;49m\u001b[38;5;241;43m.\u001b[39;49m\u001b[43ms3\u001b[49m\u001b[38;5;241;43m.\u001b[39;49m\u001b[43mhead_object\u001b[49m\u001b[43m,\u001b[49m\u001b[43m \u001b[49m\u001b[43mkwargs\u001b[49m\u001b[43m,\u001b[49m\u001b[43m \u001b[49m\u001b[43mBucket\u001b[49m\u001b[38;5;241;43m=\u001b[39;49m\u001b[43mbucket\u001b[49m\u001b[43m,\u001b[49m\n\u001b[1;32m    530\u001b[0m \u001b[43m                        \u001b[49m\u001b[43mKey\u001b[49m\u001b[38;5;241;43m=\u001b[39;49m\u001b[43mkey\u001b[49m\u001b[43m,\u001b[49m\u001b[43m \u001b[49m\u001b[38;5;241;43m*\u001b[39;49m\u001b[38;5;241;43m*\u001b[39;49m\u001b[43mversion_id_kw\u001b[49m\u001b[43m(\u001b[49m\u001b[43mversion_id\u001b[49m\u001b[43m)\u001b[49m\u001b[43m,\u001b[49m\u001b[43m \u001b[49m\u001b[38;5;241;43m*\u001b[39;49m\u001b[38;5;241;43m*\u001b[39;49m\u001b[38;5;28;43mself\u001b[39;49m\u001b[38;5;241;43m.\u001b[39;49m\u001b[43mreq_kw\u001b[49m\u001b[43m)\u001b[49m\n\u001b[1;32m    531\u001b[0m     \u001b[38;5;28;01mreturn\u001b[39;00m {\n\u001b[1;32m    532\u001b[0m         \u001b[38;5;124m'\u001b[39m\u001b[38;5;124mETag\u001b[39m\u001b[38;5;124m'\u001b[39m: out[\u001b[38;5;124m'\u001b[39m\u001b[38;5;124mETag\u001b[39m\u001b[38;5;124m'\u001b[39m],\n\u001b[1;32m    533\u001b[0m         \u001b[38;5;124m'\u001b[39m\u001b[38;5;124mKey\u001b[39m\u001b[38;5;124m'\u001b[39m: \u001b[38;5;124m'\u001b[39m\u001b[38;5;124m/\u001b[39m\u001b[38;5;124m'\u001b[39m\u001b[38;5;241m.\u001b[39mjoin([bucket, key]),\n\u001b[0;32m   (...)\u001b[0m\n\u001b[1;32m    540\u001b[0m         \u001b[38;5;124m'\u001b[39m\u001b[38;5;124mVersionId\u001b[39m\u001b[38;5;124m'\u001b[39m: out\u001b[38;5;241m.\u001b[39mget(\u001b[38;5;124m'\u001b[39m\u001b[38;5;124mVersionId\u001b[39m\u001b[38;5;124m'\u001b[39m)\n\u001b[1;32m    541\u001b[0m     }\n",
      "File \u001b[0;32m~/anaconda3/envs/python3/lib/python3.10/site-packages/s3fs/core.py:200\u001b[0m, in \u001b[0;36mS3FileSystem._call_s3\u001b[0;34m(self, method, *akwarglist, **kwargs)\u001b[0m\n\u001b[1;32m    198\u001b[0m additional_kwargs \u001b[38;5;241m=\u001b[39m \u001b[38;5;28mself\u001b[39m\u001b[38;5;241m.\u001b[39m_get_s3_method_kwargs(method, \u001b[38;5;241m*\u001b[39makwarglist,\n\u001b[1;32m    199\u001b[0m                                                \u001b[38;5;241m*\u001b[39m\u001b[38;5;241m*\u001b[39mkwargs)\n\u001b[0;32m--> 200\u001b[0m \u001b[38;5;28;01mreturn\u001b[39;00m \u001b[43mmethod\u001b[49m\u001b[43m(\u001b[49m\u001b[38;5;241;43m*\u001b[39;49m\u001b[38;5;241;43m*\u001b[39;49m\u001b[43madditional_kwargs\u001b[49m\u001b[43m)\u001b[49m\n",
      "File \u001b[0;32m~/anaconda3/envs/python3/lib/python3.10/site-packages/botocore/client.py:570\u001b[0m, in \u001b[0;36mClientCreator._create_api_method.<locals>._api_call\u001b[0;34m(self, *args, **kwargs)\u001b[0m\n\u001b[1;32m    569\u001b[0m \u001b[38;5;66;03m# The \"self\" in this scope is referring to the BaseClient.\u001b[39;00m\n\u001b[0;32m--> 570\u001b[0m \u001b[38;5;28;01mreturn\u001b[39;00m \u001b[38;5;28;43mself\u001b[39;49m\u001b[38;5;241;43m.\u001b[39;49m\u001b[43m_make_api_call\u001b[49m\u001b[43m(\u001b[49m\u001b[43moperation_name\u001b[49m\u001b[43m,\u001b[49m\u001b[43m \u001b[49m\u001b[43mkwargs\u001b[49m\u001b[43m)\u001b[49m\n",
      "File \u001b[0;32m~/anaconda3/envs/python3/lib/python3.10/site-packages/botocore/context.py:123\u001b[0m, in \u001b[0;36mwith_current_context.<locals>.decorator.<locals>.wrapper\u001b[0;34m(*args, **kwargs)\u001b[0m\n\u001b[1;32m    122\u001b[0m     hook()\n\u001b[0;32m--> 123\u001b[0m \u001b[38;5;28;01mreturn\u001b[39;00m \u001b[43mfunc\u001b[49m\u001b[43m(\u001b[49m\u001b[38;5;241;43m*\u001b[39;49m\u001b[43margs\u001b[49m\u001b[43m,\u001b[49m\u001b[43m \u001b[49m\u001b[38;5;241;43m*\u001b[39;49m\u001b[38;5;241;43m*\u001b[39;49m\u001b[43mkwargs\u001b[49m\u001b[43m)\u001b[49m\n",
      "File \u001b[0;32m~/anaconda3/envs/python3/lib/python3.10/site-packages/botocore/client.py:1031\u001b[0m, in \u001b[0;36mBaseClient._make_api_call\u001b[0;34m(self, operation_name, api_params)\u001b[0m\n\u001b[1;32m   1030\u001b[0m     error_class \u001b[38;5;241m=\u001b[39m \u001b[38;5;28mself\u001b[39m\u001b[38;5;241m.\u001b[39mexceptions\u001b[38;5;241m.\u001b[39mfrom_code(error_code)\n\u001b[0;32m-> 1031\u001b[0m     \u001b[38;5;28;01mraise\u001b[39;00m error_class(parsed_response, operation_name)\n\u001b[1;32m   1032\u001b[0m \u001b[38;5;28;01melse\u001b[39;00m:\n",
      "\u001b[0;31mClientError\u001b[0m: An error occurred (404) when calling the HeadObject operation: Not Found",
      "\nDuring handling of the above exception, another exception occurred:\n",
      "\u001b[0;31mFileNotFoundError\u001b[0m                         Traceback (most recent call last)",
      "Cell \u001b[0;32mIn[3], line 9\u001b[0m\n\u001b[1;32m      7\u001b[0m policy_df \u001b[38;5;241m=\u001b[39m pd\u001b[38;5;241m.\u001b[39mread_csv(\u001b[38;5;124m'\u001b[39m\u001b[38;5;124mactive_policy.csv\u001b[39m\u001b[38;5;124m'\u001b[39m, dtype\u001b[38;5;241m=\u001b[39mdtypes)\n\u001b[1;32m      8\u001b[0m policybene_df \u001b[38;5;241m=\u001b[39m load_data(policybene_path, dtype\u001b[38;5;241m=\u001b[39mdtypes)\n\u001b[0;32m----> 9\u001b[0m beneid_df \u001b[38;5;241m=\u001b[39m \u001b[43mload_data\u001b[49m\u001b[43m(\u001b[49m\u001b[43mbeneid_path\u001b[49m\u001b[43m,\u001b[49m\u001b[43m \u001b[49m\u001b[43mdtype\u001b[49m\u001b[38;5;241;43m=\u001b[39;49m\u001b[43mdtypes\u001b[49m\u001b[43m)\u001b[49m\n",
      "File \u001b[0;32m~/SageMaker/crm_pipeline/package/utils.py:34\u001b[0m, in \u001b[0;36mtimer.<locals>.wrap\u001b[0;34m(*args, **kwargs)\u001b[0m\n\u001b[1;32m     32\u001b[0m start \u001b[38;5;241m=\u001b[39m time\u001b[38;5;241m.\u001b[39mtime()\n\u001b[1;32m     33\u001b[0m \u001b[38;5;28mprint\u001b[39m(\u001b[38;5;124mf\u001b[39m\u001b[38;5;124m\"\u001b[39m\u001b[38;5;124mfunction: \u001b[39m\u001b[38;5;132;01m{\u001b[39;00mfunc\u001b[38;5;241m.\u001b[39m\u001b[38;5;18m__name__\u001b[39m\u001b[38;5;132;01m}\u001b[39;00m\u001b[38;5;124m is starting...\u001b[39m\u001b[38;5;124m\"\u001b[39m, ) \n\u001b[0;32m---> 34\u001b[0m result \u001b[38;5;241m=\u001b[39m \u001b[43mfunc\u001b[49m\u001b[43m(\u001b[49m\u001b[38;5;241;43m*\u001b[39;49m\u001b[43margs\u001b[49m\u001b[43m,\u001b[49m\u001b[43m \u001b[49m\u001b[38;5;241;43m*\u001b[39;49m\u001b[38;5;241;43m*\u001b[39;49m\u001b[43mkwargs\u001b[49m\u001b[43m)\u001b[49m\n\u001b[1;32m     35\u001b[0m end \u001b[38;5;241m=\u001b[39m time\u001b[38;5;241m.\u001b[39mtime()\n\u001b[1;32m     36\u001b[0m \u001b[38;5;28mprint\u001b[39m(\u001b[38;5;124mf\u001b[39m\u001b[38;5;124m\"\u001b[39m\u001b[38;5;124mfunction: \u001b[39m\u001b[38;5;132;01m{\u001b[39;00mfunc\u001b[38;5;241m.\u001b[39m\u001b[38;5;18m__name__\u001b[39m\u001b[38;5;132;01m}\u001b[39;00m\u001b[38;5;124m successfully executed at \u001b[39m\u001b[38;5;132;01m{\u001b[39;00mend\u001b[38;5;241m-\u001b[39mstart\u001b[38;5;132;01m}\u001b[39;00m\u001b[38;5;124ms\u001b[39m\u001b[38;5;124m\"\u001b[39m, ) \n",
      "File \u001b[0;32m~/SageMaker/crm_pipeline/package/utils.py:119\u001b[0m, in \u001b[0;36mload_data\u001b[0;34m(path, dtype)\u001b[0m\n\u001b[1;32m    112\u001b[0m \u001b[38;5;250m\u001b[39m\u001b[38;5;124;03m\"\"\"load a csv dataset\u001b[39;00m\n\u001b[1;32m    113\u001b[0m \u001b[38;5;124;03mArgs:\u001b[39;00m\n\u001b[1;32m    114\u001b[0m \u001b[38;5;124;03m    path (str) : a path for csv file\u001b[39;00m\n\u001b[1;32m    115\u001b[0m \u001b[38;5;124;03mReturns:\u001b[39;00m\n\u001b[1;32m    116\u001b[0m \u001b[38;5;124;03m    pd.core.frame.DataFrame : a dataset\u001b[39;00m\n\u001b[1;32m    117\u001b[0m \u001b[38;5;124;03m\"\"\"\u001b[39;00m\n\u001b[1;32m    118\u001b[0m \u001b[38;5;28mprint\u001b[39m(\u001b[38;5;124mf\u001b[39m\u001b[38;5;124m\"\u001b[39m\u001b[38;5;124mloading data from: \u001b[39m\u001b[38;5;132;01m{\u001b[39;00mpath\u001b[38;5;132;01m}\u001b[39;00m\u001b[38;5;124m\"\u001b[39m)\n\u001b[0;32m--> 119\u001b[0m data \u001b[38;5;241m=\u001b[39m \u001b[43mpd\u001b[49m\u001b[38;5;241;43m.\u001b[39;49m\u001b[43mread_csv\u001b[49m\u001b[43m(\u001b[49m\u001b[43mpath\u001b[49m\u001b[43m,\u001b[49m\u001b[43m \u001b[49m\u001b[43mdtype\u001b[49m\u001b[38;5;241;43m=\u001b[39;49m\u001b[43mdtype\u001b[49m\u001b[43m)\u001b[49m\n\u001b[1;32m    120\u001b[0m \u001b[38;5;66;03m# data.columns = data.columns.str.upper()\u001b[39;00m\n\u001b[1;32m    121\u001b[0m \u001b[38;5;28mprint\u001b[39m(\u001b[38;5;124mf\u001b[39m\u001b[38;5;124m\"\u001b[39m\u001b[38;5;124mSuccesfully loaded data from: \u001b[39m\u001b[38;5;132;01m{\u001b[39;00mpath\u001b[38;5;132;01m}\u001b[39;00m\u001b[38;5;124m\"\u001b[39m)\n",
      "File \u001b[0;32m~/anaconda3/envs/python3/lib/python3.10/site-packages/pandas/util/_decorators.py:211\u001b[0m, in \u001b[0;36mdeprecate_kwarg.<locals>._deprecate_kwarg.<locals>.wrapper\u001b[0;34m(*args, **kwargs)\u001b[0m\n\u001b[1;32m    209\u001b[0m     \u001b[38;5;28;01melse\u001b[39;00m:\n\u001b[1;32m    210\u001b[0m         kwargs[new_arg_name] \u001b[38;5;241m=\u001b[39m new_arg_value\n\u001b[0;32m--> 211\u001b[0m \u001b[38;5;28;01mreturn\u001b[39;00m \u001b[43mfunc\u001b[49m\u001b[43m(\u001b[49m\u001b[38;5;241;43m*\u001b[39;49m\u001b[43margs\u001b[49m\u001b[43m,\u001b[49m\u001b[43m \u001b[49m\u001b[38;5;241;43m*\u001b[39;49m\u001b[38;5;241;43m*\u001b[39;49m\u001b[43mkwargs\u001b[49m\u001b[43m)\u001b[49m\n",
      "File \u001b[0;32m~/anaconda3/envs/python3/lib/python3.10/site-packages/pandas/util/_decorators.py:331\u001b[0m, in \u001b[0;36mdeprecate_nonkeyword_arguments.<locals>.decorate.<locals>.wrapper\u001b[0;34m(*args, **kwargs)\u001b[0m\n\u001b[1;32m    325\u001b[0m \u001b[38;5;28;01mif\u001b[39;00m \u001b[38;5;28mlen\u001b[39m(args) \u001b[38;5;241m>\u001b[39m num_allow_args:\n\u001b[1;32m    326\u001b[0m     warnings\u001b[38;5;241m.\u001b[39mwarn(\n\u001b[1;32m    327\u001b[0m         msg\u001b[38;5;241m.\u001b[39mformat(arguments\u001b[38;5;241m=\u001b[39m_format_argument_list(allow_args)),\n\u001b[1;32m    328\u001b[0m         \u001b[38;5;167;01mFutureWarning\u001b[39;00m,\n\u001b[1;32m    329\u001b[0m         stacklevel\u001b[38;5;241m=\u001b[39mfind_stack_level(),\n\u001b[1;32m    330\u001b[0m     )\n\u001b[0;32m--> 331\u001b[0m \u001b[38;5;28;01mreturn\u001b[39;00m \u001b[43mfunc\u001b[49m\u001b[43m(\u001b[49m\u001b[38;5;241;43m*\u001b[39;49m\u001b[43margs\u001b[49m\u001b[43m,\u001b[49m\u001b[43m \u001b[49m\u001b[38;5;241;43m*\u001b[39;49m\u001b[38;5;241;43m*\u001b[39;49m\u001b[43mkwargs\u001b[49m\u001b[43m)\u001b[49m\n",
      "File \u001b[0;32m~/anaconda3/envs/python3/lib/python3.10/site-packages/pandas/io/parsers/readers.py:950\u001b[0m, in \u001b[0;36mread_csv\u001b[0;34m(filepath_or_buffer, sep, delimiter, header, names, index_col, usecols, squeeze, prefix, mangle_dupe_cols, dtype, engine, converters, true_values, false_values, skipinitialspace, skiprows, skipfooter, nrows, na_values, keep_default_na, na_filter, verbose, skip_blank_lines, parse_dates, infer_datetime_format, keep_date_col, date_parser, dayfirst, cache_dates, iterator, chunksize, compression, thousands, decimal, lineterminator, quotechar, quoting, doublequote, escapechar, comment, encoding, encoding_errors, dialect, error_bad_lines, warn_bad_lines, on_bad_lines, delim_whitespace, low_memory, memory_map, float_precision, storage_options)\u001b[0m\n\u001b[1;32m    935\u001b[0m kwds_defaults \u001b[38;5;241m=\u001b[39m _refine_defaults_read(\n\u001b[1;32m    936\u001b[0m     dialect,\n\u001b[1;32m    937\u001b[0m     delimiter,\n\u001b[0;32m   (...)\u001b[0m\n\u001b[1;32m    946\u001b[0m     defaults\u001b[38;5;241m=\u001b[39m{\u001b[38;5;124m\"\u001b[39m\u001b[38;5;124mdelimiter\u001b[39m\u001b[38;5;124m\"\u001b[39m: \u001b[38;5;124m\"\u001b[39m\u001b[38;5;124m,\u001b[39m\u001b[38;5;124m\"\u001b[39m},\n\u001b[1;32m    947\u001b[0m )\n\u001b[1;32m    948\u001b[0m kwds\u001b[38;5;241m.\u001b[39mupdate(kwds_defaults)\n\u001b[0;32m--> 950\u001b[0m \u001b[38;5;28;01mreturn\u001b[39;00m \u001b[43m_read\u001b[49m\u001b[43m(\u001b[49m\u001b[43mfilepath_or_buffer\u001b[49m\u001b[43m,\u001b[49m\u001b[43m \u001b[49m\u001b[43mkwds\u001b[49m\u001b[43m)\u001b[49m\n",
      "File \u001b[0;32m~/anaconda3/envs/python3/lib/python3.10/site-packages/pandas/io/parsers/readers.py:605\u001b[0m, in \u001b[0;36m_read\u001b[0;34m(filepath_or_buffer, kwds)\u001b[0m\n\u001b[1;32m    602\u001b[0m _validate_names(kwds\u001b[38;5;241m.\u001b[39mget(\u001b[38;5;124m\"\u001b[39m\u001b[38;5;124mnames\u001b[39m\u001b[38;5;124m\"\u001b[39m, \u001b[38;5;28;01mNone\u001b[39;00m))\n\u001b[1;32m    604\u001b[0m \u001b[38;5;66;03m# Create the parser.\u001b[39;00m\n\u001b[0;32m--> 605\u001b[0m parser \u001b[38;5;241m=\u001b[39m \u001b[43mTextFileReader\u001b[49m\u001b[43m(\u001b[49m\u001b[43mfilepath_or_buffer\u001b[49m\u001b[43m,\u001b[49m\u001b[43m \u001b[49m\u001b[38;5;241;43m*\u001b[39;49m\u001b[38;5;241;43m*\u001b[39;49m\u001b[43mkwds\u001b[49m\u001b[43m)\u001b[49m\n\u001b[1;32m    607\u001b[0m \u001b[38;5;28;01mif\u001b[39;00m chunksize \u001b[38;5;129;01mor\u001b[39;00m iterator:\n\u001b[1;32m    608\u001b[0m     \u001b[38;5;28;01mreturn\u001b[39;00m parser\n",
      "File \u001b[0;32m~/anaconda3/envs/python3/lib/python3.10/site-packages/pandas/io/parsers/readers.py:1442\u001b[0m, in \u001b[0;36mTextFileReader.__init__\u001b[0;34m(self, f, engine, **kwds)\u001b[0m\n\u001b[1;32m   1439\u001b[0m     \u001b[38;5;28mself\u001b[39m\u001b[38;5;241m.\u001b[39moptions[\u001b[38;5;124m\"\u001b[39m\u001b[38;5;124mhas_index_names\u001b[39m\u001b[38;5;124m\"\u001b[39m] \u001b[38;5;241m=\u001b[39m kwds[\u001b[38;5;124m\"\u001b[39m\u001b[38;5;124mhas_index_names\u001b[39m\u001b[38;5;124m\"\u001b[39m]\n\u001b[1;32m   1441\u001b[0m \u001b[38;5;28mself\u001b[39m\u001b[38;5;241m.\u001b[39mhandles: IOHandles \u001b[38;5;241m|\u001b[39m \u001b[38;5;28;01mNone\u001b[39;00m \u001b[38;5;241m=\u001b[39m \u001b[38;5;28;01mNone\u001b[39;00m\n\u001b[0;32m-> 1442\u001b[0m \u001b[38;5;28mself\u001b[39m\u001b[38;5;241m.\u001b[39m_engine \u001b[38;5;241m=\u001b[39m \u001b[38;5;28;43mself\u001b[39;49m\u001b[38;5;241;43m.\u001b[39;49m\u001b[43m_make_engine\u001b[49m\u001b[43m(\u001b[49m\u001b[43mf\u001b[49m\u001b[43m,\u001b[49m\u001b[43m \u001b[49m\u001b[38;5;28;43mself\u001b[39;49m\u001b[38;5;241;43m.\u001b[39;49m\u001b[43mengine\u001b[49m\u001b[43m)\u001b[49m\n",
      "File \u001b[0;32m~/anaconda3/envs/python3/lib/python3.10/site-packages/pandas/io/parsers/readers.py:1735\u001b[0m, in \u001b[0;36mTextFileReader._make_engine\u001b[0;34m(self, f, engine)\u001b[0m\n\u001b[1;32m   1733\u001b[0m     \u001b[38;5;28;01mif\u001b[39;00m \u001b[38;5;124m\"\u001b[39m\u001b[38;5;124mb\u001b[39m\u001b[38;5;124m\"\u001b[39m \u001b[38;5;129;01mnot\u001b[39;00m \u001b[38;5;129;01min\u001b[39;00m mode:\n\u001b[1;32m   1734\u001b[0m         mode \u001b[38;5;241m+\u001b[39m\u001b[38;5;241m=\u001b[39m \u001b[38;5;124m\"\u001b[39m\u001b[38;5;124mb\u001b[39m\u001b[38;5;124m\"\u001b[39m\n\u001b[0;32m-> 1735\u001b[0m \u001b[38;5;28mself\u001b[39m\u001b[38;5;241m.\u001b[39mhandles \u001b[38;5;241m=\u001b[39m \u001b[43mget_handle\u001b[49m\u001b[43m(\u001b[49m\n\u001b[1;32m   1736\u001b[0m \u001b[43m    \u001b[49m\u001b[43mf\u001b[49m\u001b[43m,\u001b[49m\n\u001b[1;32m   1737\u001b[0m \u001b[43m    \u001b[49m\u001b[43mmode\u001b[49m\u001b[43m,\u001b[49m\n\u001b[1;32m   1738\u001b[0m \u001b[43m    \u001b[49m\u001b[43mencoding\u001b[49m\u001b[38;5;241;43m=\u001b[39;49m\u001b[38;5;28;43mself\u001b[39;49m\u001b[38;5;241;43m.\u001b[39;49m\u001b[43moptions\u001b[49m\u001b[38;5;241;43m.\u001b[39;49m\u001b[43mget\u001b[49m\u001b[43m(\u001b[49m\u001b[38;5;124;43m\"\u001b[39;49m\u001b[38;5;124;43mencoding\u001b[39;49m\u001b[38;5;124;43m\"\u001b[39;49m\u001b[43m,\u001b[49m\u001b[43m \u001b[49m\u001b[38;5;28;43;01mNone\u001b[39;49;00m\u001b[43m)\u001b[49m\u001b[43m,\u001b[49m\n\u001b[1;32m   1739\u001b[0m \u001b[43m    \u001b[49m\u001b[43mcompression\u001b[49m\u001b[38;5;241;43m=\u001b[39;49m\u001b[38;5;28;43mself\u001b[39;49m\u001b[38;5;241;43m.\u001b[39;49m\u001b[43moptions\u001b[49m\u001b[38;5;241;43m.\u001b[39;49m\u001b[43mget\u001b[49m\u001b[43m(\u001b[49m\u001b[38;5;124;43m\"\u001b[39;49m\u001b[38;5;124;43mcompression\u001b[39;49m\u001b[38;5;124;43m\"\u001b[39;49m\u001b[43m,\u001b[49m\u001b[43m \u001b[49m\u001b[38;5;28;43;01mNone\u001b[39;49;00m\u001b[43m)\u001b[49m\u001b[43m,\u001b[49m\n\u001b[1;32m   1740\u001b[0m \u001b[43m    \u001b[49m\u001b[43mmemory_map\u001b[49m\u001b[38;5;241;43m=\u001b[39;49m\u001b[38;5;28;43mself\u001b[39;49m\u001b[38;5;241;43m.\u001b[39;49m\u001b[43moptions\u001b[49m\u001b[38;5;241;43m.\u001b[39;49m\u001b[43mget\u001b[49m\u001b[43m(\u001b[49m\u001b[38;5;124;43m\"\u001b[39;49m\u001b[38;5;124;43mmemory_map\u001b[39;49m\u001b[38;5;124;43m\"\u001b[39;49m\u001b[43m,\u001b[49m\u001b[43m \u001b[49m\u001b[38;5;28;43;01mFalse\u001b[39;49;00m\u001b[43m)\u001b[49m\u001b[43m,\u001b[49m\n\u001b[1;32m   1741\u001b[0m \u001b[43m    \u001b[49m\u001b[43mis_text\u001b[49m\u001b[38;5;241;43m=\u001b[39;49m\u001b[43mis_text\u001b[49m\u001b[43m,\u001b[49m\n\u001b[1;32m   1742\u001b[0m \u001b[43m    \u001b[49m\u001b[43merrors\u001b[49m\u001b[38;5;241;43m=\u001b[39;49m\u001b[38;5;28;43mself\u001b[39;49m\u001b[38;5;241;43m.\u001b[39;49m\u001b[43moptions\u001b[49m\u001b[38;5;241;43m.\u001b[39;49m\u001b[43mget\u001b[49m\u001b[43m(\u001b[49m\u001b[38;5;124;43m\"\u001b[39;49m\u001b[38;5;124;43mencoding_errors\u001b[39;49m\u001b[38;5;124;43m\"\u001b[39;49m\u001b[43m,\u001b[49m\u001b[43m \u001b[49m\u001b[38;5;124;43m\"\u001b[39;49m\u001b[38;5;124;43mstrict\u001b[39;49m\u001b[38;5;124;43m\"\u001b[39;49m\u001b[43m)\u001b[49m\u001b[43m,\u001b[49m\n\u001b[1;32m   1743\u001b[0m \u001b[43m    \u001b[49m\u001b[43mstorage_options\u001b[49m\u001b[38;5;241;43m=\u001b[39;49m\u001b[38;5;28;43mself\u001b[39;49m\u001b[38;5;241;43m.\u001b[39;49m\u001b[43moptions\u001b[49m\u001b[38;5;241;43m.\u001b[39;49m\u001b[43mget\u001b[49m\u001b[43m(\u001b[49m\u001b[38;5;124;43m\"\u001b[39;49m\u001b[38;5;124;43mstorage_options\u001b[39;49m\u001b[38;5;124;43m\"\u001b[39;49m\u001b[43m,\u001b[49m\u001b[43m \u001b[49m\u001b[38;5;28;43;01mNone\u001b[39;49;00m\u001b[43m)\u001b[49m\u001b[43m,\u001b[49m\n\u001b[1;32m   1744\u001b[0m \u001b[43m\u001b[49m\u001b[43m)\u001b[49m\n\u001b[1;32m   1745\u001b[0m \u001b[38;5;28;01massert\u001b[39;00m \u001b[38;5;28mself\u001b[39m\u001b[38;5;241m.\u001b[39mhandles \u001b[38;5;129;01mis\u001b[39;00m \u001b[38;5;129;01mnot\u001b[39;00m \u001b[38;5;28;01mNone\u001b[39;00m\n\u001b[1;32m   1746\u001b[0m f \u001b[38;5;241m=\u001b[39m \u001b[38;5;28mself\u001b[39m\u001b[38;5;241m.\u001b[39mhandles\u001b[38;5;241m.\u001b[39mhandle\n",
      "File \u001b[0;32m~/anaconda3/envs/python3/lib/python3.10/site-packages/pandas/io/common.py:713\u001b[0m, in \u001b[0;36mget_handle\u001b[0;34m(path_or_buf, mode, encoding, compression, memory_map, is_text, errors, storage_options)\u001b[0m\n\u001b[1;32m    710\u001b[0m     codecs\u001b[38;5;241m.\u001b[39mlookup_error(errors)\n\u001b[1;32m    712\u001b[0m \u001b[38;5;66;03m# open URLs\u001b[39;00m\n\u001b[0;32m--> 713\u001b[0m ioargs \u001b[38;5;241m=\u001b[39m \u001b[43m_get_filepath_or_buffer\u001b[49m\u001b[43m(\u001b[49m\n\u001b[1;32m    714\u001b[0m \u001b[43m    \u001b[49m\u001b[43mpath_or_buf\u001b[49m\u001b[43m,\u001b[49m\n\u001b[1;32m    715\u001b[0m \u001b[43m    \u001b[49m\u001b[43mencoding\u001b[49m\u001b[38;5;241;43m=\u001b[39;49m\u001b[43mencoding\u001b[49m\u001b[43m,\u001b[49m\n\u001b[1;32m    716\u001b[0m \u001b[43m    \u001b[49m\u001b[43mcompression\u001b[49m\u001b[38;5;241;43m=\u001b[39;49m\u001b[43mcompression\u001b[49m\u001b[43m,\u001b[49m\n\u001b[1;32m    717\u001b[0m \u001b[43m    \u001b[49m\u001b[43mmode\u001b[49m\u001b[38;5;241;43m=\u001b[39;49m\u001b[43mmode\u001b[49m\u001b[43m,\u001b[49m\n\u001b[1;32m    718\u001b[0m \u001b[43m    \u001b[49m\u001b[43mstorage_options\u001b[49m\u001b[38;5;241;43m=\u001b[39;49m\u001b[43mstorage_options\u001b[49m\u001b[43m,\u001b[49m\n\u001b[1;32m    719\u001b[0m \u001b[43m\u001b[49m\u001b[43m)\u001b[49m\n\u001b[1;32m    721\u001b[0m handle \u001b[38;5;241m=\u001b[39m ioargs\u001b[38;5;241m.\u001b[39mfilepath_or_buffer\n\u001b[1;32m    722\u001b[0m handles: \u001b[38;5;28mlist\u001b[39m[BaseBuffer]\n",
      "File \u001b[0;32m~/anaconda3/envs/python3/lib/python3.10/site-packages/pandas/io/common.py:411\u001b[0m, in \u001b[0;36m_get_filepath_or_buffer\u001b[0;34m(filepath_or_buffer, encoding, compression, mode, storage_options)\u001b[0m\n\u001b[1;32m    406\u001b[0m     \u001b[38;5;28;01mpass\u001b[39;00m\n\u001b[1;32m    408\u001b[0m \u001b[38;5;28;01mtry\u001b[39;00m:\n\u001b[1;32m    409\u001b[0m     file_obj \u001b[38;5;241m=\u001b[39m \u001b[43mfsspec\u001b[49m\u001b[38;5;241;43m.\u001b[39;49m\u001b[43mopen\u001b[49m\u001b[43m(\u001b[49m\n\u001b[1;32m    410\u001b[0m \u001b[43m        \u001b[49m\u001b[43mfilepath_or_buffer\u001b[49m\u001b[43m,\u001b[49m\u001b[43m \u001b[49m\u001b[43mmode\u001b[49m\u001b[38;5;241;43m=\u001b[39;49m\u001b[43mfsspec_mode\u001b[49m\u001b[43m,\u001b[49m\u001b[43m \u001b[49m\u001b[38;5;241;43m*\u001b[39;49m\u001b[38;5;241;43m*\u001b[39;49m\u001b[43m(\u001b[49m\u001b[43mstorage_options\u001b[49m\u001b[43m \u001b[49m\u001b[38;5;129;43;01mor\u001b[39;49;00m\u001b[43m \u001b[49m\u001b[43m{\u001b[49m\u001b[43m}\u001b[49m\u001b[43m)\u001b[49m\n\u001b[0;32m--> 411\u001b[0m \u001b[43m    \u001b[49m\u001b[43m)\u001b[49m\u001b[38;5;241;43m.\u001b[39;49m\u001b[43mopen\u001b[49m\u001b[43m(\u001b[49m\u001b[43m)\u001b[49m\n\u001b[1;32m    412\u001b[0m \u001b[38;5;66;03m# GH 34626 Reads from Public Buckets without Credentials needs anon=True\u001b[39;00m\n\u001b[1;32m    413\u001b[0m \u001b[38;5;28;01mexcept\u001b[39;00m \u001b[38;5;28mtuple\u001b[39m(err_types_to_retry_with_anon):\n",
      "File \u001b[0;32m~/anaconda3/envs/python3/lib/python3.10/site-packages/fsspec/core.py:147\u001b[0m, in \u001b[0;36mOpenFile.open\u001b[0;34m(self)\u001b[0m\n\u001b[1;32m    140\u001b[0m \u001b[38;5;28;01mdef\u001b[39;00m\u001b[38;5;250m \u001b[39m\u001b[38;5;21mopen\u001b[39m(\u001b[38;5;28mself\u001b[39m):\n\u001b[1;32m    141\u001b[0m \u001b[38;5;250m    \u001b[39m\u001b[38;5;124;03m\"\"\"Materialise this as a real open file without context\u001b[39;00m\n\u001b[1;32m    142\u001b[0m \n\u001b[1;32m    143\u001b[0m \u001b[38;5;124;03m    The OpenFile object should be explicitly closed to avoid enclosed file\u001b[39;00m\n\u001b[1;32m    144\u001b[0m \u001b[38;5;124;03m    instances persisting. You must, therefore, keep a reference to the OpenFile\u001b[39;00m\n\u001b[1;32m    145\u001b[0m \u001b[38;5;124;03m    during the life of the file-like it generates.\u001b[39;00m\n\u001b[1;32m    146\u001b[0m \u001b[38;5;124;03m    \"\"\"\u001b[39;00m\n\u001b[0;32m--> 147\u001b[0m     \u001b[38;5;28;01mreturn\u001b[39;00m \u001b[38;5;28;43mself\u001b[39;49m\u001b[38;5;241;43m.\u001b[39;49m\u001b[38;5;21;43m__enter__\u001b[39;49m\u001b[43m(\u001b[49m\u001b[43m)\u001b[49m\n",
      "File \u001b[0;32m~/anaconda3/envs/python3/lib/python3.10/site-packages/fsspec/core.py:105\u001b[0m, in \u001b[0;36mOpenFile.__enter__\u001b[0;34m(self)\u001b[0m\n\u001b[1;32m    102\u001b[0m mode \u001b[38;5;241m=\u001b[39m \u001b[38;5;28mself\u001b[39m\u001b[38;5;241m.\u001b[39mmode\u001b[38;5;241m.\u001b[39mreplace(\u001b[38;5;124m\"\u001b[39m\u001b[38;5;124mt\u001b[39m\u001b[38;5;124m\"\u001b[39m, \u001b[38;5;124m\"\u001b[39m\u001b[38;5;124m\"\u001b[39m)\u001b[38;5;241m.\u001b[39mreplace(\u001b[38;5;124m\"\u001b[39m\u001b[38;5;124mb\u001b[39m\u001b[38;5;124m\"\u001b[39m, \u001b[38;5;124m\"\u001b[39m\u001b[38;5;124m\"\u001b[39m) \u001b[38;5;241m+\u001b[39m \u001b[38;5;124m\"\u001b[39m\u001b[38;5;124mb\u001b[39m\u001b[38;5;124m\"\u001b[39m\n\u001b[1;32m    104\u001b[0m \u001b[38;5;28;01mtry\u001b[39;00m:\n\u001b[0;32m--> 105\u001b[0m     f \u001b[38;5;241m=\u001b[39m \u001b[38;5;28;43mself\u001b[39;49m\u001b[38;5;241;43m.\u001b[39;49m\u001b[43mfs\u001b[49m\u001b[38;5;241;43m.\u001b[39;49m\u001b[43mopen\u001b[49m\u001b[43m(\u001b[49m\u001b[38;5;28;43mself\u001b[39;49m\u001b[38;5;241;43m.\u001b[39;49m\u001b[43mpath\u001b[49m\u001b[43m,\u001b[49m\u001b[43m \u001b[49m\u001b[43mmode\u001b[49m\u001b[38;5;241;43m=\u001b[39;49m\u001b[43mmode\u001b[49m\u001b[43m)\u001b[49m\n\u001b[1;32m    106\u001b[0m \u001b[38;5;28;01mexcept\u001b[39;00m \u001b[38;5;167;01mFileNotFoundError\u001b[39;00m \u001b[38;5;28;01mas\u001b[39;00m e:\n\u001b[1;32m    107\u001b[0m     \u001b[38;5;28;01mif\u001b[39;00m has_magic(\u001b[38;5;28mself\u001b[39m\u001b[38;5;241m.\u001b[39mpath):\n",
      "File \u001b[0;32m~/anaconda3/envs/python3/lib/python3.10/site-packages/fsspec/spec.py:1310\u001b[0m, in \u001b[0;36mAbstractFileSystem.open\u001b[0;34m(self, path, mode, block_size, cache_options, compression, **kwargs)\u001b[0m\n\u001b[1;32m   1308\u001b[0m \u001b[38;5;28;01melse\u001b[39;00m:\n\u001b[1;32m   1309\u001b[0m     ac \u001b[38;5;241m=\u001b[39m kwargs\u001b[38;5;241m.\u001b[39mpop(\u001b[38;5;124m\"\u001b[39m\u001b[38;5;124mautocommit\u001b[39m\u001b[38;5;124m\"\u001b[39m, \u001b[38;5;129;01mnot\u001b[39;00m \u001b[38;5;28mself\u001b[39m\u001b[38;5;241m.\u001b[39m_intrans)\n\u001b[0;32m-> 1310\u001b[0m     f \u001b[38;5;241m=\u001b[39m \u001b[38;5;28;43mself\u001b[39;49m\u001b[38;5;241;43m.\u001b[39;49m\u001b[43m_open\u001b[49m\u001b[43m(\u001b[49m\n\u001b[1;32m   1311\u001b[0m \u001b[43m        \u001b[49m\u001b[43mpath\u001b[49m\u001b[43m,\u001b[49m\n\u001b[1;32m   1312\u001b[0m \u001b[43m        \u001b[49m\u001b[43mmode\u001b[49m\u001b[38;5;241;43m=\u001b[39;49m\u001b[43mmode\u001b[49m\u001b[43m,\u001b[49m\n\u001b[1;32m   1313\u001b[0m \u001b[43m        \u001b[49m\u001b[43mblock_size\u001b[49m\u001b[38;5;241;43m=\u001b[39;49m\u001b[43mblock_size\u001b[49m\u001b[43m,\u001b[49m\n\u001b[1;32m   1314\u001b[0m \u001b[43m        \u001b[49m\u001b[43mautocommit\u001b[49m\u001b[38;5;241;43m=\u001b[39;49m\u001b[43mac\u001b[49m\u001b[43m,\u001b[49m\n\u001b[1;32m   1315\u001b[0m \u001b[43m        \u001b[49m\u001b[43mcache_options\u001b[49m\u001b[38;5;241;43m=\u001b[39;49m\u001b[43mcache_options\u001b[49m\u001b[43m,\u001b[49m\n\u001b[1;32m   1316\u001b[0m \u001b[43m        \u001b[49m\u001b[38;5;241;43m*\u001b[39;49m\u001b[38;5;241;43m*\u001b[39;49m\u001b[43mkwargs\u001b[49m\u001b[43m,\u001b[49m\n\u001b[1;32m   1317\u001b[0m \u001b[43m    \u001b[49m\u001b[43m)\u001b[49m\n\u001b[1;32m   1318\u001b[0m     \u001b[38;5;28;01mif\u001b[39;00m compression \u001b[38;5;129;01mis\u001b[39;00m \u001b[38;5;129;01mnot\u001b[39;00m \u001b[38;5;28;01mNone\u001b[39;00m:\n\u001b[1;32m   1319\u001b[0m         \u001b[38;5;28;01mfrom\u001b[39;00m\u001b[38;5;250m \u001b[39m\u001b[38;5;21;01mfsspec\u001b[39;00m\u001b[38;5;21;01m.\u001b[39;00m\u001b[38;5;21;01mcompression\u001b[39;00m\u001b[38;5;250m \u001b[39m\u001b[38;5;28;01mimport\u001b[39;00m compr\n",
      "File \u001b[0;32m~/anaconda3/envs/python3/lib/python3.10/site-packages/s3fs/core.py:375\u001b[0m, in \u001b[0;36mS3FileSystem._open\u001b[0;34m(self, path, mode, block_size, acl, version_id, fill_cache, cache_type, autocommit, requester_pays, **kwargs)\u001b[0m\n\u001b[1;32m    372\u001b[0m \u001b[38;5;28;01mif\u001b[39;00m cache_type \u001b[38;5;129;01mis\u001b[39;00m \u001b[38;5;28;01mNone\u001b[39;00m:\n\u001b[1;32m    373\u001b[0m     cache_type \u001b[38;5;241m=\u001b[39m \u001b[38;5;28mself\u001b[39m\u001b[38;5;241m.\u001b[39mdefault_cache_type\n\u001b[0;32m--> 375\u001b[0m \u001b[38;5;28;01mreturn\u001b[39;00m \u001b[43mS3File\u001b[49m\u001b[43m(\u001b[49m\u001b[38;5;28;43mself\u001b[39;49m\u001b[43m,\u001b[49m\u001b[43m \u001b[49m\u001b[43mpath\u001b[49m\u001b[43m,\u001b[49m\u001b[43m \u001b[49m\u001b[43mmode\u001b[49m\u001b[43m,\u001b[49m\u001b[43m \u001b[49m\u001b[43mblock_size\u001b[49m\u001b[38;5;241;43m=\u001b[39;49m\u001b[43mblock_size\u001b[49m\u001b[43m,\u001b[49m\u001b[43m \u001b[49m\u001b[43macl\u001b[49m\u001b[38;5;241;43m=\u001b[39;49m\u001b[43macl\u001b[49m\u001b[43m,\u001b[49m\n\u001b[1;32m    376\u001b[0m \u001b[43m              \u001b[49m\u001b[43mversion_id\u001b[49m\u001b[38;5;241;43m=\u001b[39;49m\u001b[43mversion_id\u001b[49m\u001b[43m,\u001b[49m\u001b[43m \u001b[49m\u001b[43mfill_cache\u001b[49m\u001b[38;5;241;43m=\u001b[39;49m\u001b[43mfill_cache\u001b[49m\u001b[43m,\u001b[49m\n\u001b[1;32m    377\u001b[0m \u001b[43m              \u001b[49m\u001b[43ms3_additional_kwargs\u001b[49m\u001b[38;5;241;43m=\u001b[39;49m\u001b[43mkw\u001b[49m\u001b[43m,\u001b[49m\u001b[43m \u001b[49m\u001b[43mcache_type\u001b[49m\u001b[38;5;241;43m=\u001b[39;49m\u001b[43mcache_type\u001b[49m\u001b[43m,\u001b[49m\n\u001b[1;32m    378\u001b[0m \u001b[43m              \u001b[49m\u001b[43mautocommit\u001b[49m\u001b[38;5;241;43m=\u001b[39;49m\u001b[43mautocommit\u001b[49m\u001b[43m,\u001b[49m\u001b[43m \u001b[49m\u001b[43mrequester_pays\u001b[49m\u001b[38;5;241;43m=\u001b[39;49m\u001b[43mrequester_pays\u001b[49m\u001b[43m)\u001b[49m\n",
      "File \u001b[0;32m~/anaconda3/envs/python3/lib/python3.10/site-packages/s3fs/core.py:1096\u001b[0m, in \u001b[0;36mS3File.__init__\u001b[0;34m(self, s3, path, mode, block_size, acl, version_id, fill_cache, s3_additional_kwargs, autocommit, cache_type, requester_pays)\u001b[0m\n\u001b[1;32m   1094\u001b[0m \u001b[38;5;28mself\u001b[39m\u001b[38;5;241m.\u001b[39ms3_additional_kwargs \u001b[38;5;241m=\u001b[39m s3_additional_kwargs \u001b[38;5;129;01mor\u001b[39;00m {}\n\u001b[1;32m   1095\u001b[0m \u001b[38;5;28mself\u001b[39m\u001b[38;5;241m.\u001b[39mreq_kw \u001b[38;5;241m=\u001b[39m {\u001b[38;5;124m'\u001b[39m\u001b[38;5;124mRequestPayer\u001b[39m\u001b[38;5;124m'\u001b[39m: \u001b[38;5;124m'\u001b[39m\u001b[38;5;124mrequester\u001b[39m\u001b[38;5;124m'\u001b[39m} \u001b[38;5;28;01mif\u001b[39;00m requester_pays \u001b[38;5;28;01melse\u001b[39;00m {}\n\u001b[0;32m-> 1096\u001b[0m \u001b[38;5;28;43msuper\u001b[39;49m\u001b[43m(\u001b[49m\u001b[43m)\u001b[49m\u001b[38;5;241;43m.\u001b[39;49m\u001b[38;5;21;43m__init__\u001b[39;49m\u001b[43m(\u001b[49m\u001b[43ms3\u001b[49m\u001b[43m,\u001b[49m\u001b[43m \u001b[49m\u001b[43mpath\u001b[49m\u001b[43m,\u001b[49m\u001b[43m \u001b[49m\u001b[43mmode\u001b[49m\u001b[43m,\u001b[49m\u001b[43m \u001b[49m\u001b[43mblock_size\u001b[49m\u001b[43m,\u001b[49m\u001b[43m \u001b[49m\u001b[43mautocommit\u001b[49m\u001b[38;5;241;43m=\u001b[39;49m\u001b[43mautocommit\u001b[49m\u001b[43m,\u001b[49m\n\u001b[1;32m   1097\u001b[0m \u001b[43m                 \u001b[49m\u001b[43mcache_type\u001b[49m\u001b[38;5;241;43m=\u001b[39;49m\u001b[43mcache_type\u001b[49m\u001b[43m)\u001b[49m\n\u001b[1;32m   1098\u001b[0m \u001b[38;5;28mself\u001b[39m\u001b[38;5;241m.\u001b[39ms3 \u001b[38;5;241m=\u001b[39m \u001b[38;5;28mself\u001b[39m\u001b[38;5;241m.\u001b[39mfs  \u001b[38;5;66;03m# compatibility\u001b[39;00m\n\u001b[1;32m   1099\u001b[0m \u001b[38;5;28;01mif\u001b[39;00m \u001b[38;5;28mself\u001b[39m\u001b[38;5;241m.\u001b[39mwritable():\n",
      "File \u001b[0;32m~/anaconda3/envs/python3/lib/python3.10/site-packages/fsspec/spec.py:1884\u001b[0m, in \u001b[0;36mAbstractBufferedFile.__init__\u001b[0;34m(self, fs, path, mode, block_size, autocommit, cache_type, cache_options, size, **kwargs)\u001b[0m\n\u001b[1;32m   1882\u001b[0m         \u001b[38;5;28mself\u001b[39m\u001b[38;5;241m.\u001b[39msize \u001b[38;5;241m=\u001b[39m size\n\u001b[1;32m   1883\u001b[0m     \u001b[38;5;28;01melse\u001b[39;00m:\n\u001b[0;32m-> 1884\u001b[0m         \u001b[38;5;28mself\u001b[39m\u001b[38;5;241m.\u001b[39msize \u001b[38;5;241m=\u001b[39m \u001b[38;5;28;43mself\u001b[39;49m\u001b[38;5;241;43m.\u001b[39;49m\u001b[43mdetails\u001b[49m[\u001b[38;5;124m\"\u001b[39m\u001b[38;5;124msize\u001b[39m\u001b[38;5;124m\"\u001b[39m]\n\u001b[1;32m   1885\u001b[0m     \u001b[38;5;28mself\u001b[39m\u001b[38;5;241m.\u001b[39mcache \u001b[38;5;241m=\u001b[39m caches[cache_type](\n\u001b[1;32m   1886\u001b[0m         \u001b[38;5;28mself\u001b[39m\u001b[38;5;241m.\u001b[39mblocksize, \u001b[38;5;28mself\u001b[39m\u001b[38;5;241m.\u001b[39m_fetch_range, \u001b[38;5;28mself\u001b[39m\u001b[38;5;241m.\u001b[39msize, \u001b[38;5;241m*\u001b[39m\u001b[38;5;241m*\u001b[39mcache_options\n\u001b[1;32m   1887\u001b[0m     )\n\u001b[1;32m   1888\u001b[0m \u001b[38;5;28;01melse\u001b[39;00m:\n",
      "File \u001b[0;32m~/anaconda3/envs/python3/lib/python3.10/site-packages/fsspec/spec.py:1897\u001b[0m, in \u001b[0;36mAbstractBufferedFile.details\u001b[0;34m(self)\u001b[0m\n\u001b[1;32m   1894\u001b[0m \u001b[38;5;129m@property\u001b[39m\n\u001b[1;32m   1895\u001b[0m \u001b[38;5;28;01mdef\u001b[39;00m\u001b[38;5;250m \u001b[39m\u001b[38;5;21mdetails\u001b[39m(\u001b[38;5;28mself\u001b[39m):\n\u001b[1;32m   1896\u001b[0m     \u001b[38;5;28;01mif\u001b[39;00m \u001b[38;5;28mself\u001b[39m\u001b[38;5;241m.\u001b[39m_details \u001b[38;5;129;01mis\u001b[39;00m \u001b[38;5;28;01mNone\u001b[39;00m:\n\u001b[0;32m-> 1897\u001b[0m         \u001b[38;5;28mself\u001b[39m\u001b[38;5;241m.\u001b[39m_details \u001b[38;5;241m=\u001b[39m \u001b[38;5;28;43mself\u001b[39;49m\u001b[38;5;241;43m.\u001b[39;49m\u001b[43mfs\u001b[49m\u001b[38;5;241;43m.\u001b[39;49m\u001b[43minfo\u001b[49m\u001b[43m(\u001b[49m\u001b[38;5;28;43mself\u001b[39;49m\u001b[38;5;241;43m.\u001b[39;49m\u001b[43mpath\u001b[49m\u001b[43m)\u001b[49m\n\u001b[1;32m   1898\u001b[0m     \u001b[38;5;28;01mreturn\u001b[39;00m \u001b[38;5;28mself\u001b[39m\u001b[38;5;241m.\u001b[39m_details\n",
      "File \u001b[0;32m~/anaconda3/envs/python3/lib/python3.10/site-packages/s3fs/core.py:546\u001b[0m, in \u001b[0;36mS3FileSystem.info\u001b[0;34m(self, path, version_id, refresh)\u001b[0m\n\u001b[1;32m    544\u001b[0m \u001b[38;5;66;03m# This could have failed since the thing we are looking for is a prefix.\u001b[39;00m\n\u001b[1;32m    545\u001b[0m \u001b[38;5;28;01mif\u001b[39;00m \u001b[38;5;28misinstance\u001b[39m(ee, \u001b[38;5;167;01mFileNotFoundError\u001b[39;00m):\n\u001b[0;32m--> 546\u001b[0m     \u001b[38;5;28;01mreturn\u001b[39;00m \u001b[38;5;28;43msuper\u001b[39;49m\u001b[43m(\u001b[49m\u001b[43mS3FileSystem\u001b[49m\u001b[43m,\u001b[49m\u001b[43m \u001b[49m\u001b[38;5;28;43mself\u001b[39;49m\u001b[43m)\u001b[49m\u001b[38;5;241;43m.\u001b[39;49m\u001b[43minfo\u001b[49m\u001b[43m(\u001b[49m\u001b[43mpath\u001b[49m\u001b[43m)\u001b[49m\n\u001b[1;32m    547\u001b[0m \u001b[38;5;28;01melse\u001b[39;00m:\n\u001b[1;32m    548\u001b[0m     \u001b[38;5;28;01mraise\u001b[39;00m ee\n",
      "File \u001b[0;32m~/anaconda3/envs/python3/lib/python3.10/site-packages/fsspec/spec.py:675\u001b[0m, in \u001b[0;36mAbstractFileSystem.info\u001b[0;34m(self, path, **kwargs)\u001b[0m\n\u001b[1;32m    673\u001b[0m     \u001b[38;5;28;01mreturn\u001b[39;00m {\u001b[38;5;124m\"\u001b[39m\u001b[38;5;124mname\u001b[39m\u001b[38;5;124m\"\u001b[39m: path, \u001b[38;5;124m\"\u001b[39m\u001b[38;5;124msize\u001b[39m\u001b[38;5;124m\"\u001b[39m: \u001b[38;5;241m0\u001b[39m, \u001b[38;5;124m\"\u001b[39m\u001b[38;5;124mtype\u001b[39m\u001b[38;5;124m\"\u001b[39m: \u001b[38;5;124m\"\u001b[39m\u001b[38;5;124mdirectory\u001b[39m\u001b[38;5;124m\"\u001b[39m}\n\u001b[1;32m    674\u001b[0m \u001b[38;5;28;01melse\u001b[39;00m:\n\u001b[0;32m--> 675\u001b[0m     \u001b[38;5;28;01mraise\u001b[39;00m \u001b[38;5;167;01mFileNotFoundError\u001b[39;00m(path)\n",
      "\u001b[0;31mFileNotFoundError\u001b[0m: dev-tli-eap-inbound-bucket/test2_202505221645.csv"
     ]
    }
   ],
   "source": [
    "bucket_path = 's3://tli-crm-segmentation/data-test/family'\n",
    "policybene_path = f'{bucket_path}/stg_tb_policy_policyparticipant_202505220106.csv'\n",
    "# beneid_path = f'{bucket_path}/stg_tb_mstperson_beneficiary_party_id_name_bd_party_id_govt_202505220042.csv'\n",
    "beneid_path = 's3://dev-tli-eap-inbound-bucket/test2_202505221645.csv'\n",
    "\n",
    "dtypes = {'policy_no':str, 'party_id_name_bd':str, 'party_id_govt':str, 'policy_govt':str, 'dup_party_id_govt':str, 'party_rk':str, 'party_id':str}\n",
    "policy_df = pd.read_csv('active_policy.csv', dtype=dtypes)\n",
    "policybene_df = load_data(policybene_path, dtype=dtypes)\n",
    "beneid_df = load_data(beneid_path, dtype=dtypes)"
   ]
  },
  {
   "cell_type": "code",
   "execution_count": 92,
   "id": "c898efb6-6d74-4422-bd7e-6a5dcdcc5447",
   "metadata": {
    "tags": []
   },
   "outputs": [
    {
     "name": "stdout",
     "output_type": "stream",
     "text": [
      "function: load_data is starting...\n",
      "loading data from: s3://tli-crm-segmentation/data-test/family/stg_tb_policy_policyparticipant_202505220106.csv\n",
      "Succesfully loaded data from: s3://tli-crm-segmentation/data-test/family/stg_tb_policy_policyparticipant_202505220106.csv\n",
      "function: load_data successfully executed at 23.626342058181763s\n",
      "function: load_data is starting...\n",
      "loading data from: s3://tli-crm-segmentation/data-test/family/stg_tb_mstperson_beneficiary_party_id_name_bd_party_id_govt_202505220042.csv\n"
     ]
    },
    {
     "name": "stderr",
     "output_type": "stream",
     "text": [
      "/home/ec2-user/SageMaker/crm_pipeline/package/utils.py:119: DtypeWarning: Columns (1) have mixed types. Specify dtype option on import or set low_memory=False.\n",
      "  data = pd.read_csv(path, dtype=dtype)\n"
     ]
    },
    {
     "name": "stdout",
     "output_type": "stream",
     "text": [
      "Succesfully loaded data from: s3://tli-crm-segmentation/data-test/family/stg_tb_mstperson_beneficiary_party_id_name_bd_party_id_govt_202505220042.csv\n",
      "function: load_data successfully executed at 30.933185577392578s\n",
      "0          36935725\n",
      "1          23012701\n",
      "2          86577924\n",
      "3          86951033\n",
      "4          82274040\n",
      "             ...   \n",
      "4180703    90375835\n",
      "4180704    91043748\n",
      "4180705    91043749\n",
      "4180706    91043753\n",
      "4180707    91043754\n",
      "Name: policy_no, Length: 4180708, dtype: object\n",
      "26           6090194\n",
      "27           3531868\n",
      "29           2219125\n",
      "35          12216290\n",
      "40           1576143\n",
      "              ...   \n",
      "17950951      877950\n",
      "17952137     8940559\n",
      "17952138     9257906\n",
      "17952140     3403441\n",
      "17952144     9355729\n",
      "Name: party_id, Length: 4180704, dtype: object\n",
      "(5, 5)\n",
      "(3324764, 2)\n"
     ]
    }
   ],
   "source": [
    "bucket_path = 's3://tli-crm-segmentation/data-test/family'\n",
    "policybene_path = f'{bucket_path}/stg_tb_policy_policyparticipant_202505220106.csv'\n",
    "beneid_path = f'{bucket_path}/stg_tb_mstperson_beneficiary_party_id_name_bd_party_id_govt_202505220042.csv'\n",
    "# beneid_path = 's3://dev-tli-eap-inbound-bucket/test2_202505221645.csv'\n",
    "\n",
    "dtypes = {'policy_no':str, 'party_id_name_bd':str, 'party_id_govt':str, 'policy_govt':str, 'dup_party_id_govt':str, 'party_rk':str, 'party_id':str}\n",
    "policy_df = pd.read_csv('active_policy.csv', dtype=dtypes)\n",
    "policybene_df = load_data(policybene_path, dtype=dtypes)\n",
    "beneid_df = load_data(beneid_path, dtype=dtypes)\n",
    "\n",
    "policyactive_list = set(policy_df['policy_no'])\n",
    "print(policy_df['policy_no'])\n",
    "\n",
    "mask = policybene_df['policy_govt'].isin(policyactive_list)\n",
    "activebeneid_list = set(policybene_df.loc[mask, 'party_id'])\n",
    "print(policybene_df.loc[mask, 'party_id'])\n",
    "\n",
    "beneid_df.loc[beneid_df['party_id_govt'].isna(), 'party_id_govt'] = beneid_df.loc[beneid_df['party_id_govt'].isna(), 'party_id_name_bd']\n",
    "mask = ~beneid_df['party_id_govt'].isna()\n",
    "mask &= beneid_df['relationshipcode'].isin([1, 2, 3, 4, 5, 22, 43, 44])\n",
    "mask &= beneid_df['policyno'].isin(policyactive_list)\n",
    "mask &= beneid_df['party_id_govt'].isin(activebeneid_list)\n",
    "beneidactive_df = beneid_df.loc[mask, :].head()\n",
    "print(beneidactive_df.shape)\n",
    "familypolicyno_list = set(beneidactive_df['policyno'])\n",
    "\n",
    "# get df having party_rk and family flag\n",
    "proxy = policy_df[['party_rk', 'policy_no']].copy()\n",
    "proxy['is_family'] = 0\n",
    "proxy.loc[proxy['policy_no'].isin(familypolicyno_list), 'is_family'] = 1\n",
    "proxy = proxy[['party_rk', 'is_family']].sort_values(by='is_family', ascending=False)\n",
    "proxy = proxy.drop_duplicates(subset='party_rk', keep='first')\n",
    "print(proxy.shape)"
   ]
  },
  {
   "cell_type": "code",
   "execution_count": 95,
   "id": "3e42e66d-1777-45ec-b3ee-fd7a6e69d353",
   "metadata": {
    "tags": []
   },
   "outputs": [
    {
     "name": "stdout",
     "output_type": "stream",
     "text": [
      "<class 'pandas.core.frame.DataFrame'>\n",
      "Int64Index: 3324764 entries, 4115293 to 4180707\n",
      "Data columns (total 2 columns):\n",
      " #   Column     Dtype \n",
      "---  ------     ----- \n",
      " 0   party_rk   object\n",
      " 1   is_family  int64 \n",
      "dtypes: int64(1), object(1)\n",
      "memory usage: 76.1+ MB\n",
      "None\n"
     ]
    }
   ],
   "source": [
    "print(proxy.info())"
   ]
  },
  {
   "cell_type": "code",
   "execution_count": 89,
   "id": "3b3aa3b9-76a1-4e73-8a4d-f7ac4142997e",
   "metadata": {
    "tags": []
   },
   "outputs": [],
   "source": [
    "beneid_df.loc[beneid_df['party_id_govt'].isna(), 'party_id_govt'] = beneid_df.loc[beneid_df['party_id_govt'].isna(), 'party_id_name_bd']\n",
    "mask = ~beneid_df['party_id_govt'].isna()\n",
    "mask &= beneid_df['relationshipcode'].isin([1, 2, 3, 4, 5, 22, 43, 44])\n",
    "mask &= beneid_df['policyno'].isin(policyactive_list)\n",
    "# mask &= beneid_df['party_id_govt'].isin(activebeneid_list)\n",
    "beneidactive_df = beneid_df.loc[mask, :].head()"
   ]
  },
  {
   "cell_type": "code",
   "execution_count": 90,
   "id": "29e19354-4e3e-49f3-ba21-f0ca909260a3",
   "metadata": {
    "tags": []
   },
   "outputs": [
    {
     "name": "stdout",
     "output_type": "stream",
     "text": [
      "<class 'pandas.core.frame.DataFrame'>\n",
      "Int64Index: 5 entries, 1452333 to 1452349\n",
      "Data columns (total 7 columns):\n",
      " #   Column                Non-Null Count  Dtype  \n",
      "---  ------                --------------  -----  \n",
      " 0   policytype            5 non-null      object \n",
      " 1   policyno              5 non-null      object \n",
      " 2   relationshipcode      5 non-null      int64  \n",
      " 3   party_id_name_bd      0 non-null      object \n",
      " 4   party_id_govt         5 non-null      object \n",
      " 5   dup_party_id_name_bd  0 non-null      float64\n",
      " 6   dup_party_id_govt     0 non-null      object \n",
      "dtypes: float64(1), int64(1), object(5)\n",
      "memory usage: 320.0+ bytes\n"
     ]
    }
   ],
   "source": [
    "beneidactive_df.info()"
   ]
  },
  {
   "cell_type": "code",
   "execution_count": 71,
   "id": "25857822-ecbd-4ae1-8909-94eaf3194cfc",
   "metadata": {
    "tags": []
   },
   "outputs": [
    {
     "data": {
      "text/html": [
       "<div>\n",
       "<style scoped>\n",
       "    .dataframe tbody tr th:only-of-type {\n",
       "        vertical-align: middle;\n",
       "    }\n",
       "\n",
       "    .dataframe tbody tr th {\n",
       "        vertical-align: top;\n",
       "    }\n",
       "\n",
       "    .dataframe thead th {\n",
       "        text-align: right;\n",
       "    }\n",
       "</style>\n",
       "<table border=\"1\" class=\"dataframe\">\n",
       "  <thead>\n",
       "    <tr style=\"text-align: right;\">\n",
       "      <th></th>\n",
       "      <th>party_rk</th>\n",
       "      <th>is_family</th>\n",
       "    </tr>\n",
       "  </thead>\n",
       "  <tbody>\n",
       "    <tr>\n",
       "      <th>2345233</th>\n",
       "      <td>8006345838</td>\n",
       "      <td>1</td>\n",
       "    </tr>\n",
       "    <tr>\n",
       "      <th>2699221</th>\n",
       "      <td>8007273637</td>\n",
       "      <td>1</td>\n",
       "    </tr>\n",
       "    <tr>\n",
       "      <th>2371092</th>\n",
       "      <td>8006405212</td>\n",
       "      <td>1</td>\n",
       "    </tr>\n",
       "    <tr>\n",
       "      <th>2383704</th>\n",
       "      <td>8006435885</td>\n",
       "      <td>1</td>\n",
       "    </tr>\n",
       "    <tr>\n",
       "      <th>647843</th>\n",
       "      <td>8001683555</td>\n",
       "      <td>1</td>\n",
       "    </tr>\n",
       "    <tr>\n",
       "      <th>...</th>\n",
       "      <td>...</td>\n",
       "      <td>...</td>\n",
       "    </tr>\n",
       "    <tr>\n",
       "      <th>1393573</th>\n",
       "      <td>8003650843</td>\n",
       "      <td>0</td>\n",
       "    </tr>\n",
       "    <tr>\n",
       "      <th>1393575</th>\n",
       "      <td>8003650846</td>\n",
       "      <td>0</td>\n",
       "    </tr>\n",
       "    <tr>\n",
       "      <th>1393577</th>\n",
       "      <td>8003650851</td>\n",
       "      <td>0</td>\n",
       "    </tr>\n",
       "    <tr>\n",
       "      <th>1393578</th>\n",
       "      <td>8003650854</td>\n",
       "      <td>0</td>\n",
       "    </tr>\n",
       "    <tr>\n",
       "      <th>4180707</th>\n",
       "      <td>8011617883</td>\n",
       "      <td>0</td>\n",
       "    </tr>\n",
       "  </tbody>\n",
       "</table>\n",
       "<p>3324764 rows × 2 columns</p>\n",
       "</div>"
      ],
      "text/plain": [
       "           party_rk  is_family\n",
       "2345233  8006345838          1\n",
       "2699221  8007273637          1\n",
       "2371092  8006405212          1\n",
       "2383704  8006435885          1\n",
       "647843   8001683555          1\n",
       "...             ...        ...\n",
       "1393573  8003650843          0\n",
       "1393575  8003650846          0\n",
       "1393577  8003650851          0\n",
       "1393578  8003650854          0\n",
       "4180707  8011617883          0\n",
       "\n",
       "[3324764 rows x 2 columns]"
      ]
     },
     "execution_count": 71,
     "metadata": {},
     "output_type": "execute_result"
    }
   ],
   "source": [
    "familypolicyno_list = set(beneidactive_df['policyno'])\n",
    "\n",
    "# get df having party_rk and family flag\n",
    "proxy = policy_df[['party_rk', 'policy_no']].copy()\n",
    "proxy['is_family'] = 0\n",
    "proxy.loc[proxy['policy_no'].isin(familypolicyno_list), 'is_family'] = 1\n",
    "proxy = proxy[['party_rk', 'is_family']].sort_values(by='is_family', ascending=False)\n",
    "proxy = proxy.drop_duplicates(subset='party_rk', keep='first')\n",
    "proxy"
   ]
  },
  {
   "cell_type": "code",
   "execution_count": 73,
   "id": "3052a144-c50c-4bfc-898b-e4dcb88975fa",
   "metadata": {
    "tags": []
   },
   "outputs": [
    {
     "data": {
      "text/html": [
       "<div>\n",
       "<style scoped>\n",
       "    .dataframe tbody tr th:only-of-type {\n",
       "        vertical-align: middle;\n",
       "    }\n",
       "\n",
       "    .dataframe tbody tr th {\n",
       "        vertical-align: top;\n",
       "    }\n",
       "\n",
       "    .dataframe thead th {\n",
       "        text-align: right;\n",
       "    }\n",
       "</style>\n",
       "<table border=\"1\" class=\"dataframe\">\n",
       "  <thead>\n",
       "    <tr style=\"text-align: right;\">\n",
       "      <th></th>\n",
       "      <th>party_rk</th>\n",
       "      <th>is_family</th>\n",
       "    </tr>\n",
       "  </thead>\n",
       "  <tbody>\n",
       "    <tr>\n",
       "      <th>2345233</th>\n",
       "      <td>8006345838</td>\n",
       "      <td>1</td>\n",
       "    </tr>\n",
       "    <tr>\n",
       "      <th>2699221</th>\n",
       "      <td>8007273637</td>\n",
       "      <td>1</td>\n",
       "    </tr>\n",
       "    <tr>\n",
       "      <th>2371092</th>\n",
       "      <td>8006405212</td>\n",
       "      <td>1</td>\n",
       "    </tr>\n",
       "    <tr>\n",
       "      <th>2383704</th>\n",
       "      <td>8006435885</td>\n",
       "      <td>1</td>\n",
       "    </tr>\n",
       "    <tr>\n",
       "      <th>647843</th>\n",
       "      <td>8001683555</td>\n",
       "      <td>1</td>\n",
       "    </tr>\n",
       "    <tr>\n",
       "      <th>2787141</th>\n",
       "      <td>8007513754</td>\n",
       "      <td>0</td>\n",
       "    </tr>\n",
       "    <tr>\n",
       "      <th>2787139</th>\n",
       "      <td>8007513753</td>\n",
       "      <td>0</td>\n",
       "    </tr>\n",
       "    <tr>\n",
       "      <th>2787136</th>\n",
       "      <td>8007513752</td>\n",
       "      <td>0</td>\n",
       "    </tr>\n",
       "    <tr>\n",
       "      <th>2787135</th>\n",
       "      <td>8007513750</td>\n",
       "      <td>0</td>\n",
       "    </tr>\n",
       "    <tr>\n",
       "      <th>2787133</th>\n",
       "      <td>8007513748</td>\n",
       "      <td>0</td>\n",
       "    </tr>\n",
       "    <tr>\n",
       "      <th>2787132</th>\n",
       "      <td>8007513747</td>\n",
       "      <td>0</td>\n",
       "    </tr>\n",
       "    <tr>\n",
       "      <th>2787131</th>\n",
       "      <td>8007513746</td>\n",
       "      <td>0</td>\n",
       "    </tr>\n",
       "    <tr>\n",
       "      <th>2787142</th>\n",
       "      <td>8007513755</td>\n",
       "      <td>0</td>\n",
       "    </tr>\n",
       "    <tr>\n",
       "      <th>0</th>\n",
       "      <td>8000342016</td>\n",
       "      <td>0</td>\n",
       "    </tr>\n",
       "    <tr>\n",
       "      <th>2787144</th>\n",
       "      <td>8007513757</td>\n",
       "      <td>0</td>\n",
       "    </tr>\n",
       "    <tr>\n",
       "      <th>2787145</th>\n",
       "      <td>8007513760</td>\n",
       "      <td>0</td>\n",
       "    </tr>\n",
       "    <tr>\n",
       "      <th>2787146</th>\n",
       "      <td>8007513763</td>\n",
       "      <td>0</td>\n",
       "    </tr>\n",
       "    <tr>\n",
       "      <th>2787147</th>\n",
       "      <td>8007513764</td>\n",
       "      <td>0</td>\n",
       "    </tr>\n",
       "    <tr>\n",
       "      <th>2787148</th>\n",
       "      <td>8007513766</td>\n",
       "      <td>0</td>\n",
       "    </tr>\n",
       "    <tr>\n",
       "      <th>2787149</th>\n",
       "      <td>8007513768</td>\n",
       "      <td>0</td>\n",
       "    </tr>\n",
       "  </tbody>\n",
       "</table>\n",
       "</div>"
      ],
      "text/plain": [
       "           party_rk  is_family\n",
       "2345233  8006345838          1\n",
       "2699221  8007273637          1\n",
       "2371092  8006405212          1\n",
       "2383704  8006435885          1\n",
       "647843   8001683555          1\n",
       "2787141  8007513754          0\n",
       "2787139  8007513753          0\n",
       "2787136  8007513752          0\n",
       "2787135  8007513750          0\n",
       "2787133  8007513748          0\n",
       "2787132  8007513747          0\n",
       "2787131  8007513746          0\n",
       "2787142  8007513755          0\n",
       "0        8000342016          0\n",
       "2787144  8007513757          0\n",
       "2787145  8007513760          0\n",
       "2787146  8007513763          0\n",
       "2787147  8007513764          0\n",
       "2787148  8007513766          0\n",
       "2787149  8007513768          0"
      ]
     },
     "execution_count": 73,
     "metadata": {},
     "output_type": "execute_result"
    }
   ],
   "source": [
    "proxy.head(20)"
   ]
  },
  {
   "cell_type": "code",
   "execution_count": 76,
   "id": "9704b31a-c6b5-40b1-b931-b313918cad96",
   "metadata": {
    "tags": []
   },
   "outputs": [],
   "source": [
    "mask = ~beneidactive_df['party_id_govt'].isna()\n",
    "mask = beneid_df.duplicated(subset='party_id_govt')\n",
    "set_dup = set(beneid_df[mask]['policyno'])\n",
    "active_list = set(policy_df['policy_no'])\n",
    "print(f'interset id:{len(active_list&set_dup)}')"
   ]
  },
  {
   "cell_type": "code",
   "execution_count": 77,
   "id": "0c1233c1-1037-49ff-a704-4fa67c53a4da",
   "metadata": {
    "tags": []
   },
   "outputs": [
    {
     "data": {
      "text/plain": [
       "0"
      ]
     },
     "execution_count": 77,
     "metadata": {},
     "output_type": "execute_result"
    }
   ],
   "source": [
    "len(set_dup)"
   ]
  },
  {
   "cell_type": "code",
   "execution_count": 78,
   "id": "9097cbce-c3d9-40e4-9618-afd6bd0b750d",
   "metadata": {
    "tags": []
   },
   "outputs": [
    {
     "data": {
      "text/plain": [
       "0"
      ]
     },
     "execution_count": 78,
     "metadata": {},
     "output_type": "execute_result"
    }
   ],
   "source": []
  },
  {
   "cell_type": "code",
   "execution_count": 79,
   "id": "da54d901-4048-4acc-b4bd-2cb5de4dd7f5",
   "metadata": {
    "tags": []
   },
   "outputs": [
    {
     "data": {
      "text/plain": [
       "0    2728562\n",
       "1     596202\n",
       "Name: is_family, dtype: int64"
      ]
     },
     "execution_count": 79,
     "metadata": {},
     "output_type": "execute_result"
    }
   ],
   "source": [
    "familyv1_df = pd.read_csv('s3://tli-crm-segmentation/data-zones/neutral/processed/family.csv')\n",
    "familyv1_df = familyv1_df.drop_duplicates(subset='party_rk')\n",
    "familyv1_df['is_family'].value_counts()"
   ]
  },
  {
   "cell_type": "code",
   "execution_count": 91,
   "id": "d73852b3-d96d-4b71-9165-bc0876a27eb3",
   "metadata": {
    "tags": []
   },
   "outputs": [
    {
     "data": {
      "text/plain": [
       "0    3324759\n",
       "1          5\n",
       "Name: is_family, dtype: int64"
      ]
     },
     "execution_count": 91,
     "metadata": {},
     "output_type": "execute_result"
    }
   ],
   "source": [
    "proxy = proxy.drop_duplicates(subset='party_rk')\n",
    "proxy['is_family'].value_counts()"
   ]
  },
  {
   "cell_type": "code",
   "execution_count": 13,
   "id": "5eafc54a-c208-4df5-9029-1408fb751440",
   "metadata": {
    "tags": []
   },
   "outputs": [
    {
     "data": {
      "text/html": [
       "<div>\n",
       "<style scoped>\n",
       "    .dataframe tbody tr th:only-of-type {\n",
       "        vertical-align: middle;\n",
       "    }\n",
       "\n",
       "    .dataframe tbody tr th {\n",
       "        vertical-align: top;\n",
       "    }\n",
       "\n",
       "    .dataframe thead th {\n",
       "        text-align: right;\n",
       "    }\n",
       "</style>\n",
       "<table border=\"1\" class=\"dataframe\">\n",
       "  <thead>\n",
       "    <tr style=\"text-align: right;\">\n",
       "      <th></th>\n",
       "      <th>party_rk</th>\n",
       "      <th>is_family</th>\n",
       "    </tr>\n",
       "  </thead>\n",
       "  <tbody>\n",
       "    <tr>\n",
       "      <th>0</th>\n",
       "      <td>8000342016</td>\n",
       "      <td>1</td>\n",
       "    </tr>\n",
       "    <tr>\n",
       "      <th>2764959</th>\n",
       "      <td>8007454937</td>\n",
       "      <td>1</td>\n",
       "    </tr>\n",
       "    <tr>\n",
       "      <th>3567762</th>\n",
       "      <td>8009591575</td>\n",
       "      <td>1</td>\n",
       "    </tr>\n",
       "    <tr>\n",
       "      <th>3567760</th>\n",
       "      <td>8009591571</td>\n",
       "      <td>1</td>\n",
       "    </tr>\n",
       "    <tr>\n",
       "      <th>778968</th>\n",
       "      <td>8002045299</td>\n",
       "      <td>1</td>\n",
       "    </tr>\n",
       "    <tr>\n",
       "      <th>...</th>\n",
       "      <td>...</td>\n",
       "      <td>...</td>\n",
       "    </tr>\n",
       "    <tr>\n",
       "      <th>1588494</th>\n",
       "      <td>8004194570</td>\n",
       "      <td>0</td>\n",
       "    </tr>\n",
       "    <tr>\n",
       "      <th>1588495</th>\n",
       "      <td>8004194572</td>\n",
       "      <td>0</td>\n",
       "    </tr>\n",
       "    <tr>\n",
       "      <th>1588496</th>\n",
       "      <td>8004194573</td>\n",
       "      <td>0</td>\n",
       "    </tr>\n",
       "    <tr>\n",
       "      <th>1588497</th>\n",
       "      <td>8004194578</td>\n",
       "      <td>0</td>\n",
       "    </tr>\n",
       "    <tr>\n",
       "      <th>4180707</th>\n",
       "      <td>8011617883</td>\n",
       "      <td>0</td>\n",
       "    </tr>\n",
       "  </tbody>\n",
       "</table>\n",
       "<p>3324764 rows × 2 columns</p>\n",
       "</div>"
      ],
      "text/plain": [
       "           party_rk  is_family\n",
       "0        8000342016          1\n",
       "2764959  8007454937          1\n",
       "3567762  8009591575          1\n",
       "3567760  8009591571          1\n",
       "778968   8002045299          1\n",
       "...             ...        ...\n",
       "1588494  8004194570          0\n",
       "1588495  8004194572          0\n",
       "1588496  8004194573          0\n",
       "1588497  8004194578          0\n",
       "4180707  8011617883          0\n",
       "\n",
       "[3324764 rows x 2 columns]"
      ]
     },
     "execution_count": 13,
     "metadata": {},
     "output_type": "execute_result"
    }
   ],
   "source": [
    "familyv1_df = familyv1_df.sort_values(by='is_family', ascending=False)\n",
    "familyv1_df = familyv1_df.drop_duplicates(subset='party_rk', keep='first')\n",
    "familyv1_df"
   ]
  },
  {
   "cell_type": "code",
   "execution_count": 14,
   "id": "82dd2b3a-65d7-4b32-ba3b-3dbb4fbaf7cd",
   "metadata": {
    "tags": []
   },
   "outputs": [
    {
     "data": {
      "text/plain": [
       "0    2728562\n",
       "1     596202\n",
       "Name: is_family, dtype: int64"
      ]
     },
     "execution_count": 14,
     "metadata": {},
     "output_type": "execute_result"
    }
   ],
   "source": [
    "familyv1_df['is_family'].value_counts()"
   ]
  },
  {
   "cell_type": "code",
   "execution_count": null,
   "id": "e983fdaf-6798-41de-92fa-dcefc6ec4f07",
   "metadata": {},
   "outputs": [],
   "source": []
  }
 ],
 "metadata": {
  "kernelspec": {
   "display_name": "conda_python3",
   "language": "python",
   "name": "conda_python3"
  },
  "language_info": {
   "codemirror_mode": {
    "name": "ipython",
    "version": 3
   },
   "file_extension": ".py",
   "mimetype": "text/x-python",
   "name": "python",
   "nbconvert_exporter": "python",
   "pygments_lexer": "ipython3",
   "version": "3.10.18"
  }
 },
 "nbformat": 4,
 "nbformat_minor": 5
}
