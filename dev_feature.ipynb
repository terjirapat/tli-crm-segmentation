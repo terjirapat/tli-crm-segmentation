{
 "cells": [
  {
   "cell_type": "code",
   "execution_count": 1,
   "id": "08fe5d4a-d96a-4757-a867-a431d3714f96",
   "metadata": {
    "tags": []
   },
   "outputs": [],
   "source": [
    "%load_ext autoreload\n",
    "%autoreload 2"
   ]
  },
  {
   "cell_type": "markdown",
   "id": "647bb382-b1db-4533-8cae-a424468fb6df",
   "metadata": {},
   "source": [
    "# import library"
   ]
  },
  {
   "cell_type": "code",
   "execution_count": 2,
   "id": "25c87e0e-b5cc-44ab-ace6-44bb5b03d29f",
   "metadata": {
    "tags": []
   },
   "outputs": [
    {
     "name": "stderr",
     "output_type": "stream",
     "text": [
      "/home/ec2-user/anaconda3/envs/python3/lib/python3.10/site-packages/pandas/core/computation/expressions.py:21: UserWarning: Pandas requires version '2.8.4' or newer of 'numexpr' (version '2.7.3' currently installed).\n",
      "  from pandas.core.computation.check import NUMEXPR_INSTALLED\n"
     ]
    },
    {
     "name": "stdout",
     "output_type": "stream",
     "text": [
      "function: get_config is starting...\n",
      "function: get_config successfully executed at 0.0048291683197021484s\n"
     ]
    }
   ],
   "source": [
    "import pandas as pd\n",
    "import seaborn as sns\n",
    "import matplotlib.pyplot as plt\n",
    "import numpy as np\n",
    "from package.utils import DotDict, timer, get_config, load_data, merge_data\n",
    "\n",
    "from package.preprocessing import CONFIG_PATH\n",
    "\n",
    "conf = get_config(CONFIG_PATH)"
   ]
  },
  {
   "cell_type": "markdown",
   "id": "80f10172-9df6-4f13-935e-31f2f39890ed",
   "metadata": {},
   "source": [
    "# import dataset"
   ]
  },
  {
   "cell_type": "code",
   "execution_count": 4,
   "id": "2849583e-76a8-45ae-b2aa-0bd0210c65b2",
   "metadata": {
    "tags": []
   },
   "outputs": [
    {
     "name": "stdout",
     "output_type": "stream",
     "text": [
      "total_premium_saving\n",
      "total_premium_wholelife\n",
      "total_premium_health\n",
      "total_premium_ci\n",
      "total_premium\n"
     ]
    }
   ],
   "source": [
    "for col in conf.PREMIUM_INPUT:\n",
    "    print(col)"
   ]
  },
  {
   "cell_type": "code",
   "execution_count": 5,
   "id": "682fb531-834a-45e1-877c-69d8d3335a85",
   "metadata": {
    "tags": []
   },
   "outputs": [
    {
     "name": "stderr",
     "output_type": "stream",
     "text": [
      "<timed exec>:4: DtypeWarning: Columns (6) have mixed types. Specify dtype option on import or set low_memory=False.\n"
     ]
    },
    {
     "name": "stdout",
     "output_type": "stream",
     "text": [
      "CPU times: user 1min 11s, sys: 16.8 s, total: 1min 27s\n",
      "Wall time: 5min 1s\n"
     ]
    }
   ],
   "source": [
    "%%time\n",
    "cols = ['party_rk', 'policy_no', 'plan_cd', 'plan_index', 'issue_dt', 'effective_dt', 'policy_status1', 'policy_status2']\n",
    "path = 's3://tli-crm-segmentation/data-zones/neutral/raw/ds_mst_policy_profile_202505091742.csv'\n",
    "dtypes = {'policy_no':str, 'party_rk':str}\n",
    "policy_df = pd.read_csv(path, usecols=cols, dtype=dtypes)\n",
    "# policy_df = load_data(path=path, dtype=dtypes)"
   ]
  },
  {
   "cell_type": "code",
   "execution_count": null,
   "id": "be13414d-28e4-48d0-a1f3-36c72ab09510",
   "metadata": {
    "tags": []
   },
   "outputs": [],
   "source": [
    "path = 's3://tli-crm-segmentation/data-zones/neutral/raw/tay_ds_mst_rider_profile_202504090908.csv'\n",
    "dtypes = {'policy_no':str}\n",
    "rider_df = load_data(path=path, dtype=dtypes)"
   ]
  },
  {
   "cell_type": "markdown",
   "id": "23cac88f-7668-4330-b8ec-23d3a78e917c",
   "metadata": {},
   "source": [
    "# feature"
   ]
  },
  {
   "cell_type": "code",
   "execution_count": null,
   "id": "dc7e1f0e-43ec-4268-9e05-55912d9c0627",
   "metadata": {
    "tags": []
   },
   "outputs": [],
   "source": [
    "from package.preprocessing.baseplan import filter_active_policy, prep_feature_policy\n",
    "from package.preprocessing.rider import filter_active_rider, prep_feature_rider\n",
    "from package.preprocessing.beneficiary import prep_feature_beneficiary"
   ]
  },
  {
   "cell_type": "markdown",
   "id": "366684b4-e78f-46b4-bfb2-35bd426ea8ae",
   "metadata": {},
   "source": [
    "## base plan"
   ]
  },
  {
   "cell_type": "code",
   "execution_count": 6,
   "id": "719aff67-d89e-4f44-97da-664ca6895922",
   "metadata": {
    "tags": []
   },
   "outputs": [],
   "source": [
    "from package.preprocessing.baseplan import filter_active_policy, prep_feature_policy\n",
    "\n",
    "policy_df = filter_active_policy(data=policy_df, conf=conf)"
   ]
  },
  {
   "cell_type": "code",
   "execution_count": null,
   "id": "c286665f-40f1-47a6-ae51-e11a7fd639d5",
   "metadata": {
    "tags": []
   },
   "outputs": [],
   "source": [
    "from package.preprocessing.get_anp import get_premium_baseplan, get_premium_rider, get_anp\n",
    "from package.preprocessing.driver import impute_0anp_driver\n",
    "\n",
    "proxy = get_premium_baseplan(data=policy_df)\n",
    "proxy = get_anp(data=proxy)\n",
    "proxy = impute_0anp_driver(data=proxy)"
   ]
  },
  {
   "cell_type": "code",
   "execution_count": null,
   "id": "6d48b80f-72d3-475a-a687-6a0f9d51d1df",
   "metadata": {
    "tags": []
   },
   "outputs": [],
   "source": [
    "proxy.head()"
   ]
  },
  {
   "cell_type": "code",
   "execution_count": null,
   "id": "59286ea3-fd53-4629-aae0-ca4d1b4b4a9d",
   "metadata": {
    "tags": []
   },
   "outputs": [],
   "source": [
    "from package.preprocessing.baseplan import filter_active_policy, prep_feature_policy\n",
    "\n",
    "feature_df = prep_feature_policy(data=proxy, conf=conf)"
   ]
  },
  {
   "cell_type": "code",
   "execution_count": null,
   "id": "24b467d7-857e-4a7d-ba8e-d75dc886255a",
   "metadata": {
    "tags": []
   },
   "outputs": [],
   "source": [
    "feature_df.head()"
   ]
  },
  {
   "cell_type": "markdown",
   "id": "e94bffc0-0114-4a83-abac-2b50f69ef06c",
   "metadata": {},
   "source": [
    "### beneficiary"
   ]
  },
  {
   "cell_type": "code",
   "execution_count": null,
   "id": "fffcc8e5-5970-40cb-8d16-4be397c379f9",
   "metadata": {
    "tags": []
   },
   "outputs": [],
   "source": [
    "from package.preprocessing.beneficiary import prep_feature_beneficiary\n",
    "\n",
    "proxy = prep_feature_beneficiary(data=proxy, conf=conf)"
   ]
  },
  {
   "cell_type": "code",
   "execution_count": null,
   "id": "ee18dd49-256a-4349-a57c-4f707791d5b7",
   "metadata": {
    "tags": []
   },
   "outputs": [],
   "source": [
    "proxy.head()"
   ]
  },
  {
   "cell_type": "code",
   "execution_count": null,
   "id": "95720e2c-2ec9-4224-aa5f-720e34a1497c",
   "metadata": {
    "tags": []
   },
   "outputs": [],
   "source": [
    "feature_df = pd.merge(left=feature_df, right=proxy, how='left', left_index=True, right_index=True)"
   ]
  },
  {
   "cell_type": "code",
   "execution_count": null,
   "id": "eda5149e-5b32-4ab4-9c8c-0c22357b8324",
   "metadata": {
    "tags": []
   },
   "outputs": [],
   "source": [
    "feature_df.head()"
   ]
  },
  {
   "cell_type": "code",
   "execution_count": 80,
   "id": "79dd443a-bf4a-427d-b19e-1471ccf4c184",
   "metadata": {
    "tags": []
   },
   "outputs": [
    {
     "data": {
      "text/plain": [
       "(            policy_count_saving  total_premium_saving  policy_count_wholelife  \\\n",
       " party_rk                                                                        \n",
       " 8000000052                  1.0                   0.0                     NaN   \n",
       " 8000000072                  1.0                   0.0                     NaN   \n",
       " 8000000083                  1.0                7000.0                     NaN   \n",
       " 8000000085                  1.0                   0.0                     NaN   \n",
       " 8000000096                  1.0                   0.0                     NaN   \n",
       " ...                         ...                   ...                     ...   \n",
       " 8011617872                  NaN                   NaN                     1.0   \n",
       " 8011617873                  NaN                   NaN                     1.0   \n",
       " 8011617875                  NaN                   NaN                     1.0   \n",
       " 8011617876                  NaN                   NaN                     1.0   \n",
       " 8011617879                  NaN                   NaN                     1.0   \n",
       " \n",
       "             total_premium_wholelife  is_bene_parent  is_bene_child  \\\n",
       " party_rk                                                             \n",
       " 8000000052                      NaN             0.0            0.5   \n",
       " 8000000072                      NaN             0.0            1.0   \n",
       " 8000000083                      NaN             0.0            1.0   \n",
       " 8000000085                      NaN             1.0            0.0   \n",
       " 8000000096                      NaN             1.0            0.0   \n",
       " ...                             ...             ...            ...   \n",
       " 8011617872                  10020.0             0.0            1.0   \n",
       " 8011617873                   3228.0             0.0            0.0   \n",
       " 8011617875                  10800.0             0.0            1.0   \n",
       " 8011617876                  10764.0             0.0            0.5   \n",
       " 8011617879                  10800.0             0.0            1.0   \n",
       " \n",
       "             is_bene_spouse  \n",
       " party_rk                    \n",
       " 8000000052             0.5  \n",
       " 8000000072             0.0  \n",
       " 8000000083             0.0  \n",
       " 8000000085             0.0  \n",
       " 8000000096             0.0  \n",
       " ...                    ...  \n",
       " 8011617872             0.0  \n",
       " 8011617873             1.0  \n",
       " 8011617875             0.0  \n",
       " 8011617876             0.5  \n",
       " 8011617879             0.0  \n",
       " \n",
       " [3249465 rows x 7 columns],\n",
       "             policy_count_saving  total_premium_saving  policy_count_wholelife  \\\n",
       " party_rk                                                                        \n",
       " 8000000094                  0.0                   0.0                     0.0   \n",
       " 8000000186                  0.0                   0.0                     0.0   \n",
       " 8000000251                  0.0                   0.0                     0.0   \n",
       " 8000000261                  0.0                   0.0                     0.0   \n",
       " 8000000262                  0.0                   0.0                     0.0   \n",
       " ...                         ...                   ...                     ...   \n",
       " 8011617874                  0.0                   0.0                     0.0   \n",
       " 8011617880                  0.0                   0.0                     0.0   \n",
       " 8011617881                  0.0                   0.0                     0.0   \n",
       " 8011617882                  0.0                   0.0                     0.0   \n",
       " 8011617883                  0.0                   0.0                     0.0   \n",
       " \n",
       "             total_premium_wholelife  policy_count_termpa  \\\n",
       " party_rk                                                   \n",
       " 8000000094                      0.0                  1.0   \n",
       " 8000000186                      0.0                  1.0   \n",
       " 8000000251                      0.0                  1.0   \n",
       " 8000000261                      0.0                  1.0   \n",
       " 8000000262                      0.0                  1.0   \n",
       " ...                             ...                  ...   \n",
       " 8011617874                      0.0                  1.0   \n",
       " 8011617880                      0.0                  1.0   \n",
       " 8011617881                      0.0                  1.0   \n",
       " 8011617882                      0.0                  1.0   \n",
       " 8011617883                      0.0                  1.0   \n",
       " \n",
       "             total_premium_termpa  is_bene_parent  is_bene_child  \\\n",
       " party_rk                                                          \n",
       " 8000000094                   0.0             1.0            0.0   \n",
       " 8000000186                   0.0             0.0            1.0   \n",
       " 8000000251                   0.0             0.0            0.0   \n",
       " 8000000261                   0.0             0.0            0.0   \n",
       " 8000000262                   0.0             0.0            0.0   \n",
       " ...                          ...             ...            ...   \n",
       " 8011617874                 720.0             1.0            0.0   \n",
       " 8011617880                   0.0             1.0            0.0   \n",
       " 8011617881                   0.0             0.0            1.0   \n",
       " 8011617882                   0.0             0.0            1.0   \n",
       " 8011617883                   0.0             0.0            0.0   \n",
       " \n",
       "             is_bene_spouse  \n",
       " party_rk                    \n",
       " 8000000094             0.0  \n",
       " 8000000186             0.0  \n",
       " 8000000251             0.0  \n",
       " 8000000261             0.0  \n",
       " 8000000262             0.0  \n",
       " ...                    ...  \n",
       " 8011617874             0.0  \n",
       " 8011617880             0.0  \n",
       " 8011617881             0.0  \n",
       " 8011617882             0.0  \n",
       " 8011617883             1.0  \n",
       " \n",
       " [76983 rows x 9 columns])"
      ]
     },
     "execution_count": 80,
     "metadata": {},
     "output_type": "execute_result"
    }
   ],
   "source": [
    "from package.preprocessing.driver import split_onlytermpa_driver\n",
    "\n",
    "split_onlytermpa_driver(data=feature_df)"
   ]
  },
  {
   "cell_type": "markdown",
   "id": "27fb0118-4e51-4e45-aaaf-e6dd2b13913f",
   "metadata": {},
   "source": [
    "## rider"
   ]
  },
  {
   "cell_type": "code",
   "execution_count": 6,
   "id": "f87ceb59-15a4-44bd-80ae-7a659f3db50d",
   "metadata": {
    "tags": []
   },
   "outputs": [],
   "source": [
    "from package.preprocessing.baseplan import filter_active_policy, prep_feature_policy\n",
    "\n",
    "policy_df = filter_active_policy(data=policy_df, conf=conf)"
   ]
  },
  {
   "cell_type": "code",
   "execution_count": 6,
   "id": "fad1f9ad-302a-4745-997e-450fe36e3af1",
   "metadata": {
    "tags": []
   },
   "outputs": [],
   "source": [
    "from package.preprocessing.rider import filter_active_rider, prep_feature_rider\n",
    "\n",
    "rider_df = filter_active_rider(data=rider_df, conf=conf)"
   ]
  },
  {
   "cell_type": "code",
   "execution_count": 56,
   "id": "d06ca85b-f42a-425f-9aa7-8e0c8cba56ed",
   "metadata": {
    "tags": []
   },
   "outputs": [
    {
     "name": "stdout",
     "output_type": "stream",
     "text": [
      "CPU times: user 42.9 s, sys: 3.44 s, total: 46.3 s\n",
      "Wall time: 46.1 s\n"
     ]
    }
   ],
   "source": [
    "%%time\n",
    "from package.preprocessing.rider import get_partyrk_rider\n",
    "\n",
    "proxy = get_partyrk_rider(policy_df=policy_df, rider_df=rider_df)"
   ]
  },
  {
   "cell_type": "code",
   "execution_count": 57,
   "id": "66659c56-09f2-49f8-b30a-de7c959fba84",
   "metadata": {
    "tags": []
   },
   "outputs": [
    {
     "name": "stdout",
     "output_type": "stream",
     "text": [
      "function: get_premium_rider is starting...\n",
      "function: get_premium_rider successfully executed at 2.8587546348571777s\n",
      "function: get_anp is starting...\n",
      "function: get_anp successfully executed at 1.2988500595092773s\n"
     ]
    }
   ],
   "source": [
    "from package.preprocessing.get_anp import get_premium_baseplan, get_premium_rider, get_anp\n",
    "\n",
    "proxy = get_premium_rider(data=proxy)\n",
    "proxy = get_anp(data=proxy)"
   ]
  },
  {
   "cell_type": "code",
   "execution_count": 58,
   "id": "1c416449-6037-4c1e-b9a1-94cad095fa3c",
   "metadata": {
    "tags": []
   },
   "outputs": [
    {
     "name": "stdout",
     "output_type": "stream",
     "text": [
      "function: prep_feature_rider is starting...\n",
      "function: prep_feature_rider successfully executed at 19.45373249053955s\n"
     ]
    }
   ],
   "source": [
    "from package.preprocessing.rider import filter_active_rider, prep_feature_rider\n",
    "\n",
    "proxy = prep_feature_rider(data=proxy, conf=conf)"
   ]
  },
  {
   "cell_type": "code",
   "execution_count": 60,
   "id": "b6819ece-9bec-4e75-bb57-6ee2a0ce55e7",
   "metadata": {
    "tags": []
   },
   "outputs": [
    {
     "data": {
      "text/html": [
       "<div>\n",
       "<style scoped>\n",
       "    .dataframe tbody tr th:only-of-type {\n",
       "        vertical-align: middle;\n",
       "    }\n",
       "\n",
       "    .dataframe tbody tr th {\n",
       "        vertical-align: top;\n",
       "    }\n",
       "\n",
       "    .dataframe thead th {\n",
       "        text-align: right;\n",
       "    }\n",
       "</style>\n",
       "<table border=\"1\" class=\"dataframe\">\n",
       "  <thead>\n",
       "    <tr style=\"text-align: right;\">\n",
       "      <th></th>\n",
       "      <th>policy_count_health</th>\n",
       "      <th>total_premium_health</th>\n",
       "      <th>policy_count_ci</th>\n",
       "      <th>total_premium_ci</th>\n",
       "      <th>policy_count_accident_medical</th>\n",
       "      <th>total_premium_accident_medical</th>\n",
       "      <th>policy_count_accident_death</th>\n",
       "      <th>total_premium_accident_death</th>\n",
       "    </tr>\n",
       "    <tr>\n",
       "      <th>party_rk</th>\n",
       "      <th></th>\n",
       "      <th></th>\n",
       "      <th></th>\n",
       "      <th></th>\n",
       "      <th></th>\n",
       "      <th></th>\n",
       "      <th></th>\n",
       "      <th></th>\n",
       "    </tr>\n",
       "  </thead>\n",
       "  <tbody>\n",
       "    <tr>\n",
       "      <th>8000000052</th>\n",
       "      <td>3.0</td>\n",
       "      <td>19677.0</td>\n",
       "      <td>NaN</td>\n",
       "      <td>NaN</td>\n",
       "      <td>NaN</td>\n",
       "      <td>NaN</td>\n",
       "      <td>NaN</td>\n",
       "      <td>NaN</td>\n",
       "    </tr>\n",
       "    <tr>\n",
       "      <th>8000000085</th>\n",
       "      <td>3.0</td>\n",
       "      <td>12867.0</td>\n",
       "      <td>NaN</td>\n",
       "      <td>NaN</td>\n",
       "      <td>NaN</td>\n",
       "      <td>NaN</td>\n",
       "      <td>2.0</td>\n",
       "      <td>1800.0</td>\n",
       "    </tr>\n",
       "    <tr>\n",
       "      <th>8000000089</th>\n",
       "      <td>2.0</td>\n",
       "      <td>4200.0</td>\n",
       "      <td>NaN</td>\n",
       "      <td>NaN</td>\n",
       "      <td>NaN</td>\n",
       "      <td>NaN</td>\n",
       "      <td>NaN</td>\n",
       "      <td>NaN</td>\n",
       "    </tr>\n",
       "    <tr>\n",
       "      <th>8000000105</th>\n",
       "      <td>4.0</td>\n",
       "      <td>19141.0</td>\n",
       "      <td>NaN</td>\n",
       "      <td>NaN</td>\n",
       "      <td>NaN</td>\n",
       "      <td>NaN</td>\n",
       "      <td>NaN</td>\n",
       "      <td>NaN</td>\n",
       "    </tr>\n",
       "    <tr>\n",
       "      <th>8000000106</th>\n",
       "      <td>4.0</td>\n",
       "      <td>33455.0</td>\n",
       "      <td>NaN</td>\n",
       "      <td>NaN</td>\n",
       "      <td>NaN</td>\n",
       "      <td>NaN</td>\n",
       "      <td>1.0</td>\n",
       "      <td>3000.0</td>\n",
       "    </tr>\n",
       "  </tbody>\n",
       "</table>\n",
       "</div>"
      ],
      "text/plain": [
       "            policy_count_health  total_premium_health  policy_count_ci  \\\n",
       "party_rk                                                                 \n",
       "8000000052                  3.0               19677.0              NaN   \n",
       "8000000085                  3.0               12867.0              NaN   \n",
       "8000000089                  2.0                4200.0              NaN   \n",
       "8000000105                  4.0               19141.0              NaN   \n",
       "8000000106                  4.0               33455.0              NaN   \n",
       "\n",
       "            total_premium_ci  policy_count_accident_medical  \\\n",
       "party_rk                                                      \n",
       "8000000052               NaN                            NaN   \n",
       "8000000085               NaN                            NaN   \n",
       "8000000089               NaN                            NaN   \n",
       "8000000105               NaN                            NaN   \n",
       "8000000106               NaN                            NaN   \n",
       "\n",
       "            total_premium_accident_medical  policy_count_accident_death  \\\n",
       "party_rk                                                                  \n",
       "8000000052                             NaN                          NaN   \n",
       "8000000085                             NaN                          2.0   \n",
       "8000000089                             NaN                          NaN   \n",
       "8000000105                             NaN                          NaN   \n",
       "8000000106                             NaN                          1.0   \n",
       "\n",
       "            total_premium_accident_death  \n",
       "party_rk                                  \n",
       "8000000052                           NaN  \n",
       "8000000085                        1800.0  \n",
       "8000000089                           NaN  \n",
       "8000000105                           NaN  \n",
       "8000000106                        3000.0  "
      ]
     },
     "execution_count": 60,
     "metadata": {},
     "output_type": "execute_result"
    }
   ],
   "source": [
    "proxy.head()"
   ]
  },
  {
   "cell_type": "markdown",
   "id": "cbacdcfe-c897-4305-9ad3-afcb4198564d",
   "metadata": {},
   "source": [
    "- กรอง data rider n,s\n",
    "- join policy แบบยังไม่ต้องกรอง policy status\n",
    "\n",
    "- ดู policy ที่ inactive แล้วมี rider จาก is_rider 1 มาดูว่า rider status เป็นแบบไหน\n",
    "- อาจมี rider ที่ status ผิดอยู่เพราะเอา active rider ไป join แล้วมีไม่หมด\n",
    "- ถ้า baseplan ไม่ active จะไม่มี rider"
   ]
  },
  {
   "cell_type": "markdown",
   "id": "26846a48-3e15-4b75-8f0f-1694bf4369dd",
   "metadata": {},
   "source": [
    "# group customers"
   ]
  },
  {
   "cell_type": "code",
   "execution_count": 27,
   "id": "74685e29-ee91-4bd8-bd16-94fb30b8e93f",
   "metadata": {
    "tags": []
   },
   "outputs": [
    {
     "data": {
      "text/html": [
       "<div>\n",
       "<style scoped>\n",
       "    .dataframe tbody tr th:only-of-type {\n",
       "        vertical-align: middle;\n",
       "    }\n",
       "\n",
       "    .dataframe tbody tr th {\n",
       "        vertical-align: top;\n",
       "    }\n",
       "\n",
       "    .dataframe thead th {\n",
       "        text-align: right;\n",
       "    }\n",
       "</style>\n",
       "<table border=\"1\" class=\"dataframe\">\n",
       "  <thead>\n",
       "    <tr style=\"text-align: right;\">\n",
       "      <th></th>\n",
       "      <th>party_rk</th>\n",
       "      <th>policy_count_saving</th>\n",
       "      <th>total_premium_saving</th>\n",
       "      <th>policy_count_wholelife</th>\n",
       "      <th>total_premium_wholelife</th>\n",
       "      <th>policy_count_other</th>\n",
       "      <th>total_premium_other</th>\n",
       "      <th>is_bene_parent</th>\n",
       "      <th>is_bene_child</th>\n",
       "      <th>is_bene_spouse</th>\n",
       "      <th>policy_count_health</th>\n",
       "      <th>total_premium_health</th>\n",
       "      <th>policy_count_ci</th>\n",
       "      <th>total_premium_ci</th>\n",
       "      <th>policy_count_accident</th>\n",
       "      <th>total_premium_accident</th>\n",
       "      <th>total_premium</th>\n",
       "    </tr>\n",
       "  </thead>\n",
       "  <tbody>\n",
       "    <tr>\n",
       "      <th>0</th>\n",
       "      <td>8000000052</td>\n",
       "      <td>1.0</td>\n",
       "      <td>0.0</td>\n",
       "      <td>0.0</td>\n",
       "      <td>0.0</td>\n",
       "      <td>0.0</td>\n",
       "      <td>0.0</td>\n",
       "      <td>0.0</td>\n",
       "      <td>0.5</td>\n",
       "      <td>0.5</td>\n",
       "      <td>3.0</td>\n",
       "      <td>19677.0</td>\n",
       "      <td>0.0</td>\n",
       "      <td>0.0</td>\n",
       "      <td>0.0</td>\n",
       "      <td>0.0</td>\n",
       "      <td>19677.0</td>\n",
       "    </tr>\n",
       "    <tr>\n",
       "      <th>1</th>\n",
       "      <td>8000000072</td>\n",
       "      <td>1.0</td>\n",
       "      <td>0.0</td>\n",
       "      <td>0.0</td>\n",
       "      <td>0.0</td>\n",
       "      <td>0.0</td>\n",
       "      <td>0.0</td>\n",
       "      <td>0.0</td>\n",
       "      <td>1.0</td>\n",
       "      <td>0.0</td>\n",
       "      <td>0.0</td>\n",
       "      <td>0.0</td>\n",
       "      <td>0.0</td>\n",
       "      <td>0.0</td>\n",
       "      <td>0.0</td>\n",
       "      <td>0.0</td>\n",
       "      <td>0.0</td>\n",
       "    </tr>\n",
       "    <tr>\n",
       "      <th>2</th>\n",
       "      <td>8000000083</td>\n",
       "      <td>1.0</td>\n",
       "      <td>7000.0</td>\n",
       "      <td>0.0</td>\n",
       "      <td>0.0</td>\n",
       "      <td>0.0</td>\n",
       "      <td>0.0</td>\n",
       "      <td>0.0</td>\n",
       "      <td>1.0</td>\n",
       "      <td>0.0</td>\n",
       "      <td>0.0</td>\n",
       "      <td>0.0</td>\n",
       "      <td>0.0</td>\n",
       "      <td>0.0</td>\n",
       "      <td>0.0</td>\n",
       "      <td>0.0</td>\n",
       "      <td>7000.0</td>\n",
       "    </tr>\n",
       "    <tr>\n",
       "      <th>3</th>\n",
       "      <td>8000000085</td>\n",
       "      <td>1.0</td>\n",
       "      <td>0.0</td>\n",
       "      <td>0.0</td>\n",
       "      <td>0.0</td>\n",
       "      <td>0.0</td>\n",
       "      <td>0.0</td>\n",
       "      <td>1.0</td>\n",
       "      <td>0.0</td>\n",
       "      <td>0.0</td>\n",
       "      <td>3.0</td>\n",
       "      <td>12867.0</td>\n",
       "      <td>0.0</td>\n",
       "      <td>0.0</td>\n",
       "      <td>3.0</td>\n",
       "      <td>2025.0</td>\n",
       "      <td>14892.0</td>\n",
       "    </tr>\n",
       "    <tr>\n",
       "      <th>4</th>\n",
       "      <td>8000000096</td>\n",
       "      <td>1.0</td>\n",
       "      <td>0.0</td>\n",
       "      <td>0.0</td>\n",
       "      <td>0.0</td>\n",
       "      <td>0.0</td>\n",
       "      <td>0.0</td>\n",
       "      <td>1.0</td>\n",
       "      <td>0.0</td>\n",
       "      <td>0.0</td>\n",
       "      <td>0.0</td>\n",
       "      <td>0.0</td>\n",
       "      <td>0.0</td>\n",
       "      <td>0.0</td>\n",
       "      <td>0.0</td>\n",
       "      <td>0.0</td>\n",
       "      <td>0.0</td>\n",
       "    </tr>\n",
       "    <tr>\n",
       "      <th>...</th>\n",
       "      <td>...</td>\n",
       "      <td>...</td>\n",
       "      <td>...</td>\n",
       "      <td>...</td>\n",
       "      <td>...</td>\n",
       "      <td>...</td>\n",
       "      <td>...</td>\n",
       "      <td>...</td>\n",
       "      <td>...</td>\n",
       "      <td>...</td>\n",
       "      <td>...</td>\n",
       "      <td>...</td>\n",
       "      <td>...</td>\n",
       "      <td>...</td>\n",
       "      <td>...</td>\n",
       "      <td>...</td>\n",
       "      <td>...</td>\n",
       "    </tr>\n",
       "    <tr>\n",
       "      <th>3347425</th>\n",
       "      <td>8011596763</td>\n",
       "      <td>0.0</td>\n",
       "      <td>0.0</td>\n",
       "      <td>0.0</td>\n",
       "      <td>0.0</td>\n",
       "      <td>1.0</td>\n",
       "      <td>1116.0</td>\n",
       "      <td>0.0</td>\n",
       "      <td>0.0</td>\n",
       "      <td>0.0</td>\n",
       "      <td>1.0</td>\n",
       "      <td>2160.0</td>\n",
       "      <td>2.0</td>\n",
       "      <td>1464.0</td>\n",
       "      <td>0.0</td>\n",
       "      <td>0.0</td>\n",
       "      <td>4740.0</td>\n",
       "    </tr>\n",
       "    <tr>\n",
       "      <th>3347426</th>\n",
       "      <td>8011596769</td>\n",
       "      <td>0.0</td>\n",
       "      <td>0.0</td>\n",
       "      <td>0.0</td>\n",
       "      <td>0.0</td>\n",
       "      <td>1.0</td>\n",
       "      <td>4452.0</td>\n",
       "      <td>0.0</td>\n",
       "      <td>0.0</td>\n",
       "      <td>0.0</td>\n",
       "      <td>1.0</td>\n",
       "      <td>1656.0</td>\n",
       "      <td>1.0</td>\n",
       "      <td>10428.0</td>\n",
       "      <td>0.0</td>\n",
       "      <td>0.0</td>\n",
       "      <td>16536.0</td>\n",
       "    </tr>\n",
       "    <tr>\n",
       "      <th>3347427</th>\n",
       "      <td>8011596789</td>\n",
       "      <td>0.0</td>\n",
       "      <td>0.0</td>\n",
       "      <td>0.0</td>\n",
       "      <td>0.0</td>\n",
       "      <td>1.0</td>\n",
       "      <td>0.0</td>\n",
       "      <td>0.0</td>\n",
       "      <td>0.0</td>\n",
       "      <td>0.0</td>\n",
       "      <td>0.0</td>\n",
       "      <td>0.0</td>\n",
       "      <td>0.0</td>\n",
       "      <td>0.0</td>\n",
       "      <td>8.0</td>\n",
       "      <td>5400.0</td>\n",
       "      <td>5400.0</td>\n",
       "    </tr>\n",
       "    <tr>\n",
       "      <th>3347428</th>\n",
       "      <td>8011596790</td>\n",
       "      <td>0.0</td>\n",
       "      <td>0.0</td>\n",
       "      <td>0.0</td>\n",
       "      <td>0.0</td>\n",
       "      <td>1.0</td>\n",
       "      <td>0.0</td>\n",
       "      <td>0.0</td>\n",
       "      <td>0.0</td>\n",
       "      <td>0.0</td>\n",
       "      <td>0.0</td>\n",
       "      <td>0.0</td>\n",
       "      <td>0.0</td>\n",
       "      <td>0.0</td>\n",
       "      <td>7.0</td>\n",
       "      <td>9180.0</td>\n",
       "      <td>9180.0</td>\n",
       "    </tr>\n",
       "    <tr>\n",
       "      <th>3347429</th>\n",
       "      <td>8011596791</td>\n",
       "      <td>0.0</td>\n",
       "      <td>0.0</td>\n",
       "      <td>0.0</td>\n",
       "      <td>0.0</td>\n",
       "      <td>1.0</td>\n",
       "      <td>0.0</td>\n",
       "      <td>0.0</td>\n",
       "      <td>0.0</td>\n",
       "      <td>0.0</td>\n",
       "      <td>0.0</td>\n",
       "      <td>0.0</td>\n",
       "      <td>0.0</td>\n",
       "      <td>0.0</td>\n",
       "      <td>5.0</td>\n",
       "      <td>6000.0</td>\n",
       "      <td>6000.0</td>\n",
       "    </tr>\n",
       "  </tbody>\n",
       "</table>\n",
       "<p>3347430 rows × 17 columns</p>\n",
       "</div>"
      ],
      "text/plain": [
       "           party_rk  policy_count_saving  total_premium_saving  \\\n",
       "0        8000000052                  1.0                   0.0   \n",
       "1        8000000072                  1.0                   0.0   \n",
       "2        8000000083                  1.0                7000.0   \n",
       "3        8000000085                  1.0                   0.0   \n",
       "4        8000000096                  1.0                   0.0   \n",
       "...             ...                  ...                   ...   \n",
       "3347425  8011596763                  0.0                   0.0   \n",
       "3347426  8011596769                  0.0                   0.0   \n",
       "3347427  8011596789                  0.0                   0.0   \n",
       "3347428  8011596790                  0.0                   0.0   \n",
       "3347429  8011596791                  0.0                   0.0   \n",
       "\n",
       "         policy_count_wholelife  total_premium_wholelife  policy_count_other  \\\n",
       "0                           0.0                      0.0                 0.0   \n",
       "1                           0.0                      0.0                 0.0   \n",
       "2                           0.0                      0.0                 0.0   \n",
       "3                           0.0                      0.0                 0.0   \n",
       "4                           0.0                      0.0                 0.0   \n",
       "...                         ...                      ...                 ...   \n",
       "3347425                     0.0                      0.0                 1.0   \n",
       "3347426                     0.0                      0.0                 1.0   \n",
       "3347427                     0.0                      0.0                 1.0   \n",
       "3347428                     0.0                      0.0                 1.0   \n",
       "3347429                     0.0                      0.0                 1.0   \n",
       "\n",
       "         total_premium_other  is_bene_parent  is_bene_child  is_bene_spouse  \\\n",
       "0                        0.0             0.0            0.5             0.5   \n",
       "1                        0.0             0.0            1.0             0.0   \n",
       "2                        0.0             0.0            1.0             0.0   \n",
       "3                        0.0             1.0            0.0             0.0   \n",
       "4                        0.0             1.0            0.0             0.0   \n",
       "...                      ...             ...            ...             ...   \n",
       "3347425               1116.0             0.0            0.0             0.0   \n",
       "3347426               4452.0             0.0            0.0             0.0   \n",
       "3347427                  0.0             0.0            0.0             0.0   \n",
       "3347428                  0.0             0.0            0.0             0.0   \n",
       "3347429                  0.0             0.0            0.0             0.0   \n",
       "\n",
       "         policy_count_health  total_premium_health  policy_count_ci  \\\n",
       "0                        3.0               19677.0              0.0   \n",
       "1                        0.0                   0.0              0.0   \n",
       "2                        0.0                   0.0              0.0   \n",
       "3                        3.0               12867.0              0.0   \n",
       "4                        0.0                   0.0              0.0   \n",
       "...                      ...                   ...              ...   \n",
       "3347425                  1.0                2160.0              2.0   \n",
       "3347426                  1.0                1656.0              1.0   \n",
       "3347427                  0.0                   0.0              0.0   \n",
       "3347428                  0.0                   0.0              0.0   \n",
       "3347429                  0.0                   0.0              0.0   \n",
       "\n",
       "         total_premium_ci  policy_count_accident  total_premium_accident  \\\n",
       "0                     0.0                    0.0                     0.0   \n",
       "1                     0.0                    0.0                     0.0   \n",
       "2                     0.0                    0.0                     0.0   \n",
       "3                     0.0                    3.0                  2025.0   \n",
       "4                     0.0                    0.0                     0.0   \n",
       "...                   ...                    ...                     ...   \n",
       "3347425            1464.0                    0.0                     0.0   \n",
       "3347426           10428.0                    0.0                     0.0   \n",
       "3347427               0.0                    8.0                  5400.0   \n",
       "3347428               0.0                    7.0                  9180.0   \n",
       "3347429               0.0                    5.0                  6000.0   \n",
       "\n",
       "         total_premium  \n",
       "0              19677.0  \n",
       "1                  0.0  \n",
       "2               7000.0  \n",
       "3              14892.0  \n",
       "4                  0.0  \n",
       "...                ...  \n",
       "3347425         4740.0  \n",
       "3347426        16536.0  \n",
       "3347427         5400.0  \n",
       "3347428         9180.0  \n",
       "3347429         6000.0  \n",
       "\n",
       "[3347430 rows x 17 columns]"
      ]
     },
     "execution_count": 27,
     "metadata": {},
     "output_type": "execute_result"
    }
   ],
   "source": [
    "path = 's3://tli-crm-segmentation/data-zones/neutral/processed/feature.csv'\n",
    "feature_df = pd.read_csv(path)\n",
    "feature_df"
   ]
  },
  {
   "cell_type": "code",
   "execution_count": 14,
   "id": "ed93ae19-5490-4082-8da9-35b5ab9e873c",
   "metadata": {
    "tags": []
   },
   "outputs": [
    {
     "name": "stdout",
     "output_type": "stream",
     "text": [
      "function: get_config is starting...\n",
      "function: get_config successfully executed at 0.0007076263427734375s\n"
     ]
    }
   ],
   "source": [
    "from package.grouping import CONFIG_PATH\n",
    "\n",
    "conf = get_config(config_path=CONFIG_PATH)\n",
    "\n",
    "feature_df = feature_df.set_index('party_rk')"
   ]
  },
  {
   "cell_type": "code",
   "execution_count": 78,
   "id": "2b368e38-4a35-4a48-ab01-58ce514551de",
   "metadata": {
    "tags": []
   },
   "outputs": [],
   "source": [
    "proxy = feature_df.copy()"
   ]
  },
  {
   "cell_type": "code",
   "execution_count": 17,
   "id": "8d9aa10a-1af0-4ffe-a05c-7e459b85a700",
   "metadata": {
    "tags": []
   },
   "outputs": [
    {
     "name": "stdout",
     "output_type": "stream",
     "text": [
      "function: group_customer is starting...\n",
      "function: group_customer successfully executed at 2.3786911964416504s\n"
     ]
    }
   ],
   "source": [
    "from package.grouping.group_customer import group_customer\n",
    "\n",
    "group99pct_df, group0anp_df, group1hold_df, other_df = group_customer(data=feature_df)"
   ]
  },
  {
   "cell_type": "markdown",
   "id": "f0a48ae1-d169-402a-b5f1-43366030aff3",
   "metadata": {},
   "source": [
    "# debug"
   ]
  },
  {
   "cell_type": "markdown",
   "id": "cc0674c9-c960-40e7-a83e-af53f860d40e",
   "metadata": {},
   "source": [
    "หาว่า rider ที่ไม่ได้ใช้ เช่น industrial อยู่ใน policy อะไร"
   ]
  },
  {
   "cell_type": "code",
   "execution_count": 9,
   "id": "234d3e43-6fa7-4bbe-ad10-07aa76b5da1f",
   "metadata": {
    "tags": []
   },
   "outputs": [],
   "source": [
    "group_list = ['Term Rider', 'Industrial', 'Ordinary']"
   ]
  },
  {
   "cell_type": "code",
   "execution_count": 11,
   "id": "116ac727-d367-4940-b5b9-0b8bddd2c931",
   "metadata": {
    "tags": []
   },
   "outputs": [],
   "source": [
    "proxy = rider_df[rider_df['rider_group'].isin(group_list)].copy()"
   ]
  },
  {
   "cell_type": "code",
   "execution_count": 22,
   "id": "739dd714-793a-4111-b440-7c7b39fdb537",
   "metadata": {
    "tags": []
   },
   "outputs": [
    {
     "name": "stdout",
     "output_type": "stream",
     "text": [
      "Term Rider, Term Rider\n"
     ]
    },
    {
     "data": {
      "text/plain": [
       "array(['ฉพ1', 'ฉพ', 'ฉพ2', 'ฉพ3', 'ฉพ4'], dtype=object)"
      ]
     },
     "metadata": {},
     "output_type": "display_data"
    },
    {
     "name": "stdout",
     "output_type": "stream",
     "text": [
      "Term Rider, Family Income for Death\n"
     ]
    },
    {
     "data": {
      "text/plain": [
       "array(['701', 'I01', 'I03'], dtype=object)"
      ]
     },
     "metadata": {},
     "output_type": "display_data"
    },
    {
     "name": "stdout",
     "output_type": "stream",
     "text": [
      "Industrial, Modify Endownment\n"
     ]
    },
    {
     "data": {
      "text/plain": [
       "array(['ME', 'MC'], dtype=object)"
      ]
     },
     "metadata": {},
     "output_type": "display_data"
    },
    {
     "name": "stdout",
     "output_type": "stream",
     "text": [
      "Ordinary, Modify Endownment\n"
     ]
    },
    {
     "data": {
      "text/plain": [
       "array(['SK', 'DH'], dtype=object)"
      ]
     },
     "metadata": {},
     "output_type": "display_data"
    },
    {
     "name": "stdout",
     "output_type": "stream",
     "text": [
      "Ordinary, Whole Life\n"
     ]
    },
    {
     "data": {
      "text/plain": [
       "array(['AD'], dtype=object)"
      ]
     },
     "metadata": {},
     "output_type": "display_data"
    }
   ],
   "source": [
    "for group in group_list:\n",
    "    mask = proxy['rider_group']==group\n",
    "    x = proxy[mask].copy()\n",
    "    for category in x['rider_category'].unique():\n",
    "        print(f'{group}, {category}')\n",
    "        display(x.loc[x['rider_category']==category, 'rider_cd'].unique())"
   ]
  },
  {
   "cell_type": "code",
   "execution_count": 26,
   "id": "cb0c0547-3638-45b4-bf5f-7c51a2031cda",
   "metadata": {
    "tags": []
   },
   "outputs": [
    {
     "data": {
      "text/plain": [
       "array(['Industrial'], dtype=object)"
      ]
     },
     "execution_count": 26,
     "metadata": {},
     "output_type": "execute_result"
    }
   ],
   "source": [
    "proxy[proxy['rider_cd']=='ME']['rider_group'].unique()"
   ]
  },
  {
   "cell_type": "code",
   "execution_count": 30,
   "id": "156ef260-969d-4e24-92a8-d0dcec7b0768",
   "metadata": {
    "tags": []
   },
   "outputs": [],
   "source": [
    "mask = rider_df['rider_group'].isin(['Accident Rider'])\n",
    "mask |= rider_df['rider_cd']=='ME'\n",
    "x = rider_df[mask]"
   ]
  },
  {
   "cell_type": "code",
   "execution_count": 32,
   "id": "86b40e51-41b5-458c-acb1-102dba954473",
   "metadata": {
    "tags": []
   },
   "outputs": [
    {
     "data": {
      "text/html": [
       "<div>\n",
       "<style scoped>\n",
       "    .dataframe tbody tr th:only-of-type {\n",
       "        vertical-align: middle;\n",
       "    }\n",
       "\n",
       "    .dataframe tbody tr th {\n",
       "        vertical-align: top;\n",
       "    }\n",
       "\n",
       "    .dataframe thead th {\n",
       "        text-align: right;\n",
       "    }\n",
       "</style>\n",
       "<table border=\"1\" class=\"dataframe\">\n",
       "  <thead>\n",
       "    <tr style=\"text-align: right;\">\n",
       "      <th></th>\n",
       "      <th>policy_no</th>\n",
       "      <th>rider_cd</th>\n",
       "      <th>rider_group</th>\n",
       "      <th>rider_category</th>\n",
       "      <th>sa</th>\n",
       "      <th>premium</th>\n",
       "      <th>extrapremium</th>\n",
       "      <th>rider_status</th>\n",
       "    </tr>\n",
       "  </thead>\n",
       "  <tbody>\n",
       "    <tr>\n",
       "      <th>4</th>\n",
       "      <td>21080165</td>\n",
       "      <td>อ02</td>\n",
       "      <td>Accident Rider</td>\n",
       "      <td>Accident Death &amp; Dismemberment</td>\n",
       "      <td>100000.0</td>\n",
       "      <td>700.0</td>\n",
       "      <td>0</td>\n",
       "      <td>N</td>\n",
       "    </tr>\n",
       "    <tr>\n",
       "      <th>5</th>\n",
       "      <td>21080168</td>\n",
       "      <td>อ02</td>\n",
       "      <td>Accident Rider</td>\n",
       "      <td>Accident Death &amp; Dismemberment</td>\n",
       "      <td>200000.0</td>\n",
       "      <td>624.0</td>\n",
       "      <td>0</td>\n",
       "      <td>N</td>\n",
       "    </tr>\n",
       "    <tr>\n",
       "      <th>10</th>\n",
       "      <td>21080192</td>\n",
       "      <td>อ02</td>\n",
       "      <td>Accident Rider</td>\n",
       "      <td>Accident Death &amp; Dismemberment</td>\n",
       "      <td>100000.0</td>\n",
       "      <td>189.0</td>\n",
       "      <td>0</td>\n",
       "      <td>N</td>\n",
       "    </tr>\n",
       "    <tr>\n",
       "      <th>15</th>\n",
       "      <td>21080220</td>\n",
       "      <td>อ02</td>\n",
       "      <td>Accident Rider</td>\n",
       "      <td>Accident Death &amp; Dismemberment</td>\n",
       "      <td>100000.0</td>\n",
       "      <td>600.0</td>\n",
       "      <td>0</td>\n",
       "      <td>N</td>\n",
       "    </tr>\n",
       "    <tr>\n",
       "      <th>16</th>\n",
       "      <td>21080222</td>\n",
       "      <td>อ02</td>\n",
       "      <td>Accident Rider</td>\n",
       "      <td>Accident Death &amp; Dismemberment</td>\n",
       "      <td>100000.0</td>\n",
       "      <td>600.0</td>\n",
       "      <td>0</td>\n",
       "      <td>N</td>\n",
       "    </tr>\n",
       "  </tbody>\n",
       "</table>\n",
       "</div>"
      ],
      "text/plain": [
       "   policy_no rider_cd     rider_group                  rider_category  \\\n",
       "4   21080165      อ02  Accident Rider  Accident Death & Dismemberment   \n",
       "5   21080168      อ02  Accident Rider  Accident Death & Dismemberment   \n",
       "10  21080192      อ02  Accident Rider  Accident Death & Dismemberment   \n",
       "15  21080220      อ02  Accident Rider  Accident Death & Dismemberment   \n",
       "16  21080222      อ02  Accident Rider  Accident Death & Dismemberment   \n",
       "\n",
       "          sa  premium  extrapremium rider_status  \n",
       "4   100000.0    700.0             0            N  \n",
       "5   200000.0    624.0             0            N  \n",
       "10  100000.0    189.0             0            N  \n",
       "15  100000.0    600.0             0            N  \n",
       "16  100000.0    600.0             0            N  "
      ]
     },
     "execution_count": 32,
     "metadata": {},
     "output_type": "execute_result"
    }
   ],
   "source": [
    "x.head()"
   ]
  },
  {
   "cell_type": "code",
   "execution_count": 34,
   "id": "a9a19f1f-09da-4426-b834-c4587be8a0c2",
   "metadata": {
    "tags": []
   },
   "outputs": [
    {
     "data": {
      "text/plain": [
       "array(['Accident Rider', 'Industrial', 'Personal Accident'], dtype=object)"
      ]
     },
     "execution_count": 34,
     "metadata": {},
     "output_type": "execute_result"
    }
   ],
   "source": [
    "x['rider_group'].unique()"
   ]
  }
 ],
 "metadata": {
  "kernelspec": {
   "display_name": "conda_python3",
   "language": "python",
   "name": "conda_python3"
  },
  "language_info": {
   "codemirror_mode": {
    "name": "ipython",
    "version": 3
   },
   "file_extension": ".py",
   "mimetype": "text/x-python",
   "name": "python",
   "nbconvert_exporter": "python",
   "pygments_lexer": "ipython3",
   "version": "3.10.18"
  }
 },
 "nbformat": 4,
 "nbformat_minor": 5
}
