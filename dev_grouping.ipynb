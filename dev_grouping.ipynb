{
 "cells": [
  {
   "cell_type": "code",
   "execution_count": 32,
   "id": "0ab49c50-08f0-4e99-b096-df1811d6a8ca",
   "metadata": {
    "tags": []
   },
   "outputs": [
    {
     "name": "stdout",
     "output_type": "stream",
     "text": [
      "The autoreload extension is already loaded. To reload it, use:\n",
      "  %reload_ext autoreload\n"
     ]
    }
   ],
   "source": [
    "%load_ext autoreload\n",
    "%autoreload 2"
   ]
  },
  {
   "cell_type": "code",
   "execution_count": 33,
   "id": "61577e6c-1fd8-4fcd-8d21-34c0b996a310",
   "metadata": {
    "tags": []
   },
   "outputs": [],
   "source": [
    "import pandas as pd\n",
    "from package.utils import timer, load_data"
   ]
  },
  {
   "cell_type": "code",
   "execution_count": 3,
   "id": "c0867bb4-8d1f-4645-a6d2-42f5a9fdbd2c",
   "metadata": {
    "tags": []
   },
   "outputs": [],
   "source": [
    "INPUT_PATH = \"s3://tli-crm-segmentation/data-zones/neutral/processed\"\n",
    "INPUT_FEATURE_PATH = f\"{INPUT_PATH}/feature.csv\"\n",
    "INPUT_FAMILY_PATH = f\"{INPUT_PATH}/family.csv\"\n",
    "INPUT_CUSTOMER_PATH = 's3://tli-crm-segmentation/data-zones/neutral/raw/tay_ds_customer_profile_202505091441.csv'"
   ]
  },
  {
   "cell_type": "code",
   "execution_count": 4,
   "id": "74823665-a9ed-4067-b464-21d27514bb2a",
   "metadata": {
    "tags": []
   },
   "outputs": [
    {
     "name": "stdout",
     "output_type": "stream",
     "text": [
      "function: load_data is starting...\n",
      "loading data from: s3://tli-crm-segmentation/data-zones/neutral/processed/feature.csv\n"
     ]
    },
    {
     "name": "stderr",
     "output_type": "stream",
     "text": [
      "/home/ec2-user/anaconda3/envs/python3/lib/python3.10/site-packages/fsspec/registry.py:286: UserWarning: Your installed version of s3fs is very old and known to cause\n",
      "severe performance issues, see also https://github.com/dask/dask/issues/10276\n",
      "\n",
      "To fix, you should specify a lower version bound on s3fs, or\n",
      "update the current installation.\n",
      "\n",
      "  warnings.warn(s3_msg)\n"
     ]
    },
    {
     "name": "stdout",
     "output_type": "stream",
     "text": [
      "Succesfully loaded data from: s3://tli-crm-segmentation/data-zones/neutral/processed/feature.csv\n",
      "function: load_data successfully executed at 10.236475706100464s\n"
     ]
    }
   ],
   "source": [
    "dtypes = {'party_rk':str}\n",
    "feature_df = load_data(INPUT_FEATURE_PATH, dtype=dtypes)"
   ]
  },
  {
   "cell_type": "code",
   "execution_count": 4,
   "id": "4ea9edc1-7286-45c4-b060-12fc07871c45",
   "metadata": {
    "tags": []
   },
   "outputs": [],
   "source": [
    "@timer\n",
    "def group_rider(data):\n",
    "    proxy = data.copy()\n",
    "    proxy['group_rider'] = None\n",
    "    policy_count = proxy['policy_count_health'] + proxy['policy_count_ci']\n",
    "    mask = policy_count == 0\n",
    "    proxy.loc[mask, 'group_rider'] = 'rider'\n",
    "    proxy['group_rider'] = proxy['group_rider'].fillna('norider')\n",
    "    return proxy"
   ]
  },
  {
   "cell_type": "code",
   "execution_count": 5,
   "id": "59e9dbe1-4860-4299-a61b-37df7ebe31a5",
   "metadata": {
    "tags": []
   },
   "outputs": [],
   "source": [
    "@timer\n",
    "def group_family(data, family_path):\n",
    "    dtypes = {'party_rk':str}\n",
    "    family_df = load_data(family_path, dtype=dtypes)\n",
    "    mask = family_df['is_family']==1\n",
    "    isfamily_list = set(family_df.loc[mask, 'party_rk'])\n",
    "\n",
    "    proxy = data.copy()\n",
    "    proxy['group_family'] = None\n",
    "    mask = proxy['party_rk'].isin(isfamily_list)\n",
    "    proxy.loc[mask, 'group_family'] = 'family'\n",
    "    proxy['group_family'] = proxy['group_family'].fillna('nofamily')\n",
    "    return proxy"
   ]
  },
  {
   "cell_type": "code",
   "execution_count": 6,
   "id": "31b45a95-d24e-41dd-9425-43b0b50e2ca1",
   "metadata": {
    "tags": []
   },
   "outputs": [],
   "source": [
    "@timer\n",
    "def group_behavior(data):\n",
    "    proxy = data.copy()\n",
    "    proxy['group_behavior'] = 'other'\n",
    "    proxy = group_1hold(data=proxy)\n",
    "    proxy = group_0anp(data=proxy)\n",
    "    proxy = group_99percentile_anp(data=proxy)\n",
    "    return proxy\n",
    "\n",
    "def group_99percentile_anp(data):\n",
    "    proxy = data.copy()\n",
    "    mask = proxy['total_premium'] > proxy['total_premium'].quantile(0.99)\n",
    "    proxy.loc[mask, 'group_behavior'] = '99pct'\n",
    "    return proxy\n",
    "\n",
    "def group_0anp(data):\n",
    "    proxy = data.copy()\n",
    "    mask = proxy['total_premium'] == 0\n",
    "    proxy.loc[mask, 'group_behavior'] = '0anp'\n",
    "    return proxy\n",
    "\n",
    "def group_1hold(data):\n",
    "    proxy = data.copy()\n",
    "    policy_count = proxy['policy_count_saving'] + proxy['policy_count_wholelife']\n",
    "    mask = policy_count == 1\n",
    "    proxy.loc[mask, 'group_behavior'] = '1hold'\n",
    "    return proxy"
   ]
  },
  {
   "cell_type": "code",
   "execution_count": 29,
   "id": "888a5ab4-52de-4503-a733-c230855ad45b",
   "metadata": {
    "tags": []
   },
   "outputs": [],
   "source": [
    "def _get_lifestage(data):\n",
    "    proxy = data.copy()\n",
    "    proxy = proxy.loc[proxy['current_age']>=0, :]\n",
    "    proxy['group_lifestage'] = None\n",
    "    proxy.loc[proxy['current_age']>=0, 'group_lifestage'] = '0-20'\n",
    "    proxy.loc[proxy['current_age']>=21, 'group_lifestage'] = '21-35'\n",
    "    # proxy.loc[proxy['current_age']>=0, 'group_lifestage'] = '0-35'\n",
    "    proxy.loc[proxy['current_age']>=36, 'group_lifestage'] = '36-50'\n",
    "    proxy.loc[proxy['current_age']>=51, 'group_lifestage'] = '51-60'\n",
    "    proxy.loc[proxy['current_age']>=61, 'group_lifestage'] = '61+'\n",
    "    return proxy\n",
    "\n",
    "@timer\n",
    "def group_lifestage(data, customer_path):\n",
    "    proxy = data.copy()\n",
    "    dtypes = {'party_rk':str}\n",
    "    customer_df = load_data(customer_path, dtype=dtypes)\n",
    "    customer_df = _get_lifestage(data=customer_df)\n",
    "    return pd.merge(left=proxy, right=customer_df[['party_rk', 'group_lifestage']], on='party_rk', how='inner')"
   ]
  },
  {
   "cell_type": "code",
   "execution_count": 21,
   "id": "3dc2aac5-a905-4907-b6f5-9addb5080019",
   "metadata": {
    "tags": []
   },
   "outputs": [],
   "source": [
    "proxy = feature_df.copy()"
   ]
  },
  {
   "cell_type": "code",
   "execution_count": 22,
   "id": "7f1343ef-697f-443d-b806-d14be8f616b5",
   "metadata": {
    "tags": []
   },
   "outputs": [
    {
     "name": "stdout",
     "output_type": "stream",
     "text": [
      "function: group_rider is starting...\n",
      "function: group_rider successfully executed at 0.4481046199798584s\n",
      "function: group_family is starting...\n",
      "function: load_data is starting...\n",
      "loading data from: s3://tli-crm-segmentation/data-zones/neutral/processed/family.csv\n",
      "Succesfully loaded data from: s3://tli-crm-segmentation/data-zones/neutral/processed/family.csv\n",
      "function: load_data successfully executed at 2.2653636932373047s\n",
      "function: group_family successfully executed at 4.505061626434326s\n",
      "function: group_behavior is starting...\n",
      "function: group_behavior successfully executed at 1.8545560836791992s\n",
      "function: group_lifestage is starting...\n",
      "function: load_data is starting...\n",
      "loading data from: s3://tli-crm-segmentation/data-zones/neutral/raw/tay_ds_customer_profile_202505091441.csv\n"
     ]
    },
    {
     "name": "stderr",
     "output_type": "stream",
     "text": [
      "/home/ec2-user/SageMaker/crm_pipeline/package/utils.py:119: DtypeWarning: Columns (4) have mixed types. Specify dtype option on import or set low_memory=False.\n",
      "  data = pd.read_csv(path, dtype=dtype)\n"
     ]
    },
    {
     "name": "stdout",
     "output_type": "stream",
     "text": [
      "Succesfully loaded data from: s3://tli-crm-segmentation/data-zones/neutral/raw/tay_ds_customer_profile_202505091441.csv\n",
      "function: load_data successfully executed at 32.61969614028931s\n",
      "function: group_lifestage successfully executed at 56.13482093811035s\n"
     ]
    }
   ],
   "source": [
    "proxy = group_rider(data=proxy)\n",
    "proxy = group_family(data=proxy, family_path=INPUT_FAMILY_PATH)\n",
    "proxy = group_behavior(data=proxy)\n",
    "proxy = group_lifestage(data=proxy, customer_path=INPUT_CUSTOMER_PATH)"
   ]
  },
  {
   "cell_type": "code",
   "execution_count": 25,
   "id": "786da483-2436-447d-8f05-1d2db419b42e",
   "metadata": {
    "tags": []
   },
   "outputs": [],
   "source": [
    "proxy['group_main'] = proxy['group_behavior'] + '_' + proxy['group_family'] + '_' + proxy['group_rider'] + '_' + proxy['group_lifestage']"
   ]
  },
  {
   "cell_type": "code",
   "execution_count": 45,
   "id": "bd7a029f-a605-432d-8532-5156d7bdd265",
   "metadata": {},
   "outputs": [
    {
     "data": {
      "text/html": [
       "<div>\n",
       "<style scoped>\n",
       "    .dataframe tbody tr th:only-of-type {\n",
       "        vertical-align: middle;\n",
       "    }\n",
       "\n",
       "    .dataframe tbody tr th {\n",
       "        vertical-align: top;\n",
       "    }\n",
       "\n",
       "    .dataframe thead th {\n",
       "        text-align: right;\n",
       "    }\n",
       "</style>\n",
       "<table border=\"1\" class=\"dataframe\">\n",
       "  <thead>\n",
       "    <tr style=\"text-align: right;\">\n",
       "      <th></th>\n",
       "      <th>policy_count_saving</th>\n",
       "      <th>total_premium_saving</th>\n",
       "      <th>policy_count_wholelife</th>\n",
       "      <th>total_premium_wholelife</th>\n",
       "      <th>is_bene_parent</th>\n",
       "      <th>is_bene_child</th>\n",
       "      <th>is_bene_spouse</th>\n",
       "      <th>policy_count_health</th>\n",
       "      <th>total_premium_health</th>\n",
       "      <th>policy_count_ci</th>\n",
       "      <th>total_premium_ci</th>\n",
       "      <th>total_premium</th>\n",
       "      <th>bin_total_premium</th>\n",
       "      <th>group_rider</th>\n",
       "      <th>group_family</th>\n",
       "      <th>group_behavior</th>\n",
       "      <th>group_lifestage</th>\n",
       "      <th>group_main</th>\n",
       "    </tr>\n",
       "    <tr>\n",
       "      <th>party_rk</th>\n",
       "      <th></th>\n",
       "      <th></th>\n",
       "      <th></th>\n",
       "      <th></th>\n",
       "      <th></th>\n",
       "      <th></th>\n",
       "      <th></th>\n",
       "      <th></th>\n",
       "      <th></th>\n",
       "      <th></th>\n",
       "      <th></th>\n",
       "      <th></th>\n",
       "      <th></th>\n",
       "      <th></th>\n",
       "      <th></th>\n",
       "      <th></th>\n",
       "      <th></th>\n",
       "      <th></th>\n",
       "    </tr>\n",
       "  </thead>\n",
       "  <tbody>\n",
       "    <tr>\n",
       "      <th>8000000052</th>\n",
       "      <td>1.0</td>\n",
       "      <td>0.0</td>\n",
       "      <td>0.0</td>\n",
       "      <td>0.0</td>\n",
       "      <td>0.0</td>\n",
       "      <td>0.500000</td>\n",
       "      <td>0.500000</td>\n",
       "      <td>3.0</td>\n",
       "      <td>19677.0</td>\n",
       "      <td>0.0</td>\n",
       "      <td>0.0</td>\n",
       "      <td>19677.0</td>\n",
       "      <td>2</td>\n",
       "      <td>norider</td>\n",
       "      <td>nofamily</td>\n",
       "      <td>1hold</td>\n",
       "      <td>61+</td>\n",
       "      <td>1hold_nofamily_norider_61+</td>\n",
       "    </tr>\n",
       "    <tr>\n",
       "      <th>8000000072</th>\n",
       "      <td>1.0</td>\n",
       "      <td>0.0</td>\n",
       "      <td>0.0</td>\n",
       "      <td>0.0</td>\n",
       "      <td>0.0</td>\n",
       "      <td>1.000000</td>\n",
       "      <td>0.000000</td>\n",
       "      <td>0.0</td>\n",
       "      <td>0.0</td>\n",
       "      <td>0.0</td>\n",
       "      <td>0.0</td>\n",
       "      <td>0.0</td>\n",
       "      <td>0</td>\n",
       "      <td>rider</td>\n",
       "      <td>nofamily</td>\n",
       "      <td>0anp</td>\n",
       "      <td>61+</td>\n",
       "      <td>0anp_nofamily_rider_61+</td>\n",
       "    </tr>\n",
       "    <tr>\n",
       "      <th>8000000083</th>\n",
       "      <td>1.0</td>\n",
       "      <td>7000.0</td>\n",
       "      <td>0.0</td>\n",
       "      <td>0.0</td>\n",
       "      <td>0.0</td>\n",
       "      <td>1.000000</td>\n",
       "      <td>0.000000</td>\n",
       "      <td>0.0</td>\n",
       "      <td>0.0</td>\n",
       "      <td>0.0</td>\n",
       "      <td>0.0</td>\n",
       "      <td>7000.0</td>\n",
       "      <td>1</td>\n",
       "      <td>rider</td>\n",
       "      <td>nofamily</td>\n",
       "      <td>1hold</td>\n",
       "      <td>61+</td>\n",
       "      <td>1hold_nofamily_rider_61+</td>\n",
       "    </tr>\n",
       "    <tr>\n",
       "      <th>8000000085</th>\n",
       "      <td>1.0</td>\n",
       "      <td>0.0</td>\n",
       "      <td>0.0</td>\n",
       "      <td>0.0</td>\n",
       "      <td>1.0</td>\n",
       "      <td>0.000000</td>\n",
       "      <td>0.000000</td>\n",
       "      <td>3.0</td>\n",
       "      <td>12867.0</td>\n",
       "      <td>0.0</td>\n",
       "      <td>0.0</td>\n",
       "      <td>12867.0</td>\n",
       "      <td>1</td>\n",
       "      <td>norider</td>\n",
       "      <td>nofamily</td>\n",
       "      <td>1hold</td>\n",
       "      <td>36-50</td>\n",
       "      <td>1hold_nofamily_norider_36-50</td>\n",
       "    </tr>\n",
       "    <tr>\n",
       "      <th>8000000096</th>\n",
       "      <td>1.0</td>\n",
       "      <td>0.0</td>\n",
       "      <td>0.0</td>\n",
       "      <td>0.0</td>\n",
       "      <td>1.0</td>\n",
       "      <td>0.000000</td>\n",
       "      <td>0.000000</td>\n",
       "      <td>0.0</td>\n",
       "      <td>0.0</td>\n",
       "      <td>0.0</td>\n",
       "      <td>0.0</td>\n",
       "      <td>0.0</td>\n",
       "      <td>0</td>\n",
       "      <td>rider</td>\n",
       "      <td>nofamily</td>\n",
       "      <td>0anp</td>\n",
       "      <td>21-35</td>\n",
       "      <td>0anp_nofamily_rider_21-35</td>\n",
       "    </tr>\n",
       "    <tr>\n",
       "      <th>...</th>\n",
       "      <td>...</td>\n",
       "      <td>...</td>\n",
       "      <td>...</td>\n",
       "      <td>...</td>\n",
       "      <td>...</td>\n",
       "      <td>...</td>\n",
       "      <td>...</td>\n",
       "      <td>...</td>\n",
       "      <td>...</td>\n",
       "      <td>...</td>\n",
       "      <td>...</td>\n",
       "      <td>...</td>\n",
       "      <td>...</td>\n",
       "      <td>...</td>\n",
       "      <td>...</td>\n",
       "      <td>...</td>\n",
       "      <td>...</td>\n",
       "      <td>...</td>\n",
       "    </tr>\n",
       "    <tr>\n",
       "      <th>8011617873</th>\n",
       "      <td>0.0</td>\n",
       "      <td>0.0</td>\n",
       "      <td>1.0</td>\n",
       "      <td>3228.0</td>\n",
       "      <td>0.0</td>\n",
       "      <td>0.000000</td>\n",
       "      <td>1.000000</td>\n",
       "      <td>0.0</td>\n",
       "      <td>0.0</td>\n",
       "      <td>0.0</td>\n",
       "      <td>0.0</td>\n",
       "      <td>3228.0</td>\n",
       "      <td>1</td>\n",
       "      <td>rider</td>\n",
       "      <td>nofamily</td>\n",
       "      <td>1hold</td>\n",
       "      <td>61+</td>\n",
       "      <td>1hold_nofamily_rider_61+</td>\n",
       "    </tr>\n",
       "    <tr>\n",
       "      <th>8011617875</th>\n",
       "      <td>0.0</td>\n",
       "      <td>0.0</td>\n",
       "      <td>1.0</td>\n",
       "      <td>10800.0</td>\n",
       "      <td>0.0</td>\n",
       "      <td>1.000000</td>\n",
       "      <td>0.000000</td>\n",
       "      <td>0.0</td>\n",
       "      <td>0.0</td>\n",
       "      <td>0.0</td>\n",
       "      <td>0.0</td>\n",
       "      <td>10800.0</td>\n",
       "      <td>1</td>\n",
       "      <td>rider</td>\n",
       "      <td>nofamily</td>\n",
       "      <td>1hold</td>\n",
       "      <td>51-60</td>\n",
       "      <td>1hold_nofamily_rider_51-60</td>\n",
       "    </tr>\n",
       "    <tr>\n",
       "      <th>8011617876</th>\n",
       "      <td>0.0</td>\n",
       "      <td>0.0</td>\n",
       "      <td>1.0</td>\n",
       "      <td>10764.0</td>\n",
       "      <td>0.0</td>\n",
       "      <td>0.500000</td>\n",
       "      <td>0.500000</td>\n",
       "      <td>0.0</td>\n",
       "      <td>0.0</td>\n",
       "      <td>0.0</td>\n",
       "      <td>0.0</td>\n",
       "      <td>10764.0</td>\n",
       "      <td>1</td>\n",
       "      <td>rider</td>\n",
       "      <td>nofamily</td>\n",
       "      <td>1hold</td>\n",
       "      <td>61+</td>\n",
       "      <td>1hold_nofamily_rider_61+</td>\n",
       "    </tr>\n",
       "    <tr>\n",
       "      <th>8011617879</th>\n",
       "      <td>0.0</td>\n",
       "      <td>0.0</td>\n",
       "      <td>1.0</td>\n",
       "      <td>10800.0</td>\n",
       "      <td>0.0</td>\n",
       "      <td>1.000000</td>\n",
       "      <td>0.000000</td>\n",
       "      <td>0.0</td>\n",
       "      <td>0.0</td>\n",
       "      <td>0.0</td>\n",
       "      <td>0.0</td>\n",
       "      <td>10800.0</td>\n",
       "      <td>1</td>\n",
       "      <td>rider</td>\n",
       "      <td>nofamily</td>\n",
       "      <td>1hold</td>\n",
       "      <td>61+</td>\n",
       "      <td>1hold_nofamily_rider_61+</td>\n",
       "    </tr>\n",
       "    <tr>\n",
       "      <th>8005646111</th>\n",
       "      <td>0.0</td>\n",
       "      <td>0.0</td>\n",
       "      <td>0.0</td>\n",
       "      <td>0.0</td>\n",
       "      <td>0.0</td>\n",
       "      <td>0.333333</td>\n",
       "      <td>0.666667</td>\n",
       "      <td>1.0</td>\n",
       "      <td>6700.0</td>\n",
       "      <td>0.0</td>\n",
       "      <td>0.0</td>\n",
       "      <td>6700.0</td>\n",
       "      <td>1</td>\n",
       "      <td>norider</td>\n",
       "      <td>nofamily</td>\n",
       "      <td>other</td>\n",
       "      <td>36-50</td>\n",
       "      <td>other_nofamily_norider_36-50</td>\n",
       "    </tr>\n",
       "  </tbody>\n",
       "</table>\n",
       "<p>3246233 rows × 18 columns</p>\n",
       "</div>"
      ],
      "text/plain": [
       "            policy_count_saving  total_premium_saving  policy_count_wholelife  \\\n",
       "party_rk                                                                        \n",
       "8000000052                  1.0                   0.0                     0.0   \n",
       "8000000072                  1.0                   0.0                     0.0   \n",
       "8000000083                  1.0                7000.0                     0.0   \n",
       "8000000085                  1.0                   0.0                     0.0   \n",
       "8000000096                  1.0                   0.0                     0.0   \n",
       "...                         ...                   ...                     ...   \n",
       "8011617873                  0.0                   0.0                     1.0   \n",
       "8011617875                  0.0                   0.0                     1.0   \n",
       "8011617876                  0.0                   0.0                     1.0   \n",
       "8011617879                  0.0                   0.0                     1.0   \n",
       "8005646111                  0.0                   0.0                     0.0   \n",
       "\n",
       "            total_premium_wholelife  is_bene_parent  is_bene_child  \\\n",
       "party_rk                                                             \n",
       "8000000052                      0.0             0.0       0.500000   \n",
       "8000000072                      0.0             0.0       1.000000   \n",
       "8000000083                      0.0             0.0       1.000000   \n",
       "8000000085                      0.0             1.0       0.000000   \n",
       "8000000096                      0.0             1.0       0.000000   \n",
       "...                             ...             ...            ...   \n",
       "8011617873                   3228.0             0.0       0.000000   \n",
       "8011617875                  10800.0             0.0       1.000000   \n",
       "8011617876                  10764.0             0.0       0.500000   \n",
       "8011617879                  10800.0             0.0       1.000000   \n",
       "8005646111                      0.0             0.0       0.333333   \n",
       "\n",
       "            is_bene_spouse  policy_count_health  total_premium_health  \\\n",
       "party_rk                                                                \n",
       "8000000052        0.500000                  3.0               19677.0   \n",
       "8000000072        0.000000                  0.0                   0.0   \n",
       "8000000083        0.000000                  0.0                   0.0   \n",
       "8000000085        0.000000                  3.0               12867.0   \n",
       "8000000096        0.000000                  0.0                   0.0   \n",
       "...                    ...                  ...                   ...   \n",
       "8011617873        1.000000                  0.0                   0.0   \n",
       "8011617875        0.000000                  0.0                   0.0   \n",
       "8011617876        0.500000                  0.0                   0.0   \n",
       "8011617879        0.000000                  0.0                   0.0   \n",
       "8005646111        0.666667                  1.0                6700.0   \n",
       "\n",
       "            policy_count_ci  total_premium_ci  total_premium  \\\n",
       "party_rk                                                       \n",
       "8000000052              0.0               0.0        19677.0   \n",
       "8000000072              0.0               0.0            0.0   \n",
       "8000000083              0.0               0.0         7000.0   \n",
       "8000000085              0.0               0.0        12867.0   \n",
       "8000000096              0.0               0.0            0.0   \n",
       "...                     ...               ...            ...   \n",
       "8011617873              0.0               0.0         3228.0   \n",
       "8011617875              0.0               0.0        10800.0   \n",
       "8011617876              0.0               0.0        10764.0   \n",
       "8011617879              0.0               0.0        10800.0   \n",
       "8005646111              0.0               0.0         6700.0   \n",
       "\n",
       "            bin_total_premium group_rider group_family group_behavior  \\\n",
       "party_rk                                                                \n",
       "8000000052                  2     norider     nofamily          1hold   \n",
       "8000000072                  0       rider     nofamily           0anp   \n",
       "8000000083                  1       rider     nofamily          1hold   \n",
       "8000000085                  1     norider     nofamily          1hold   \n",
       "8000000096                  0       rider     nofamily           0anp   \n",
       "...                       ...         ...          ...            ...   \n",
       "8011617873                  1       rider     nofamily          1hold   \n",
       "8011617875                  1       rider     nofamily          1hold   \n",
       "8011617876                  1       rider     nofamily          1hold   \n",
       "8011617879                  1       rider     nofamily          1hold   \n",
       "8005646111                  1     norider     nofamily          other   \n",
       "\n",
       "           group_lifestage                    group_main  \n",
       "party_rk                                                  \n",
       "8000000052             61+    1hold_nofamily_norider_61+  \n",
       "8000000072             61+       0anp_nofamily_rider_61+  \n",
       "8000000083             61+      1hold_nofamily_rider_61+  \n",
       "8000000085           36-50  1hold_nofamily_norider_36-50  \n",
       "8000000096           21-35     0anp_nofamily_rider_21-35  \n",
       "...                    ...                           ...  \n",
       "8011617873             61+      1hold_nofamily_rider_61+  \n",
       "8011617875           51-60    1hold_nofamily_rider_51-60  \n",
       "8011617876             61+      1hold_nofamily_rider_61+  \n",
       "8011617879             61+      1hold_nofamily_rider_61+  \n",
       "8005646111           36-50  other_nofamily_norider_36-50  \n",
       "\n",
       "[3246233 rows x 18 columns]"
      ]
     },
     "execution_count": 45,
     "metadata": {},
     "output_type": "execute_result"
    }
   ],
   "source": [
    "proxy.set_index(conf.PARTY_ID_COLUMN)"
   ]
  },
  {
   "cell_type": "markdown",
   "id": "535eab2b-0b78-49bc-b366-1c8487077431",
   "metadata": {},
   "source": [
    "# dev script"
   ]
  },
  {
   "cell_type": "code",
   "execution_count": 29,
   "id": "d55ecb4b-e7b8-42eb-bab0-83583123f9df",
   "metadata": {
    "tags": []
   },
   "outputs": [],
   "source": [
    "from package.grouping.group_behavior import group_behavior\n",
    "from package.grouping.group_family import group_family\n",
    "from package.grouping.group_lifestage import group_lifestage\n",
    "from package.grouping.group_rider import group_rider"
   ]
  },
  {
   "cell_type": "code",
   "execution_count": 6,
   "id": "2652838d-1e06-4cba-a935-b0aa17b519f0",
   "metadata": {
    "tags": []
   },
   "outputs": [
    {
     "name": "stdout",
     "output_type": "stream",
     "text": [
      "function: group_rider is starting...\n",
      "function: group_rider successfully executed at 0.49905824661254883s\n",
      "function: group_family is starting...\n",
      "function: load_data is starting...\n",
      "loading data from: s3://tli-crm-segmentation/data-zones/neutral/processed/family.csv\n",
      "Succesfully loaded data from: s3://tli-crm-segmentation/data-zones/neutral/processed/family.csv\n",
      "function: load_data successfully executed at 2.520040988922119s\n",
      "function: group_family successfully executed at 4.543239593505859s\n",
      "function: group_behavior is starting...\n",
      "function: group_behavior successfully executed at 1.9043402671813965s\n",
      "function: group_lifestage is starting...\n",
      "function: load_data is starting...\n",
      "loading data from: s3://tli-crm-segmentation/data-zones/neutral/raw/tay_ds_customer_profile_202505091441.csv\n"
     ]
    },
    {
     "name": "stderr",
     "output_type": "stream",
     "text": [
      "/home/ec2-user/SageMaker/crm_pipeline/package/utils.py:119: DtypeWarning: Columns (4) have mixed types. Specify dtype option on import or set low_memory=False.\n",
      "  data = pd.read_csv(path, dtype=dtype)\n"
     ]
    },
    {
     "name": "stdout",
     "output_type": "stream",
     "text": [
      "Succesfully loaded data from: s3://tli-crm-segmentation/data-zones/neutral/raw/tay_ds_customer_profile_202505091441.csv\n",
      "function: load_data successfully executed at 40.205538749694824s\n",
      "function: group_lifestage successfully executed at 61.99632692337036s\n"
     ]
    }
   ],
   "source": [
    "proxy = feature_df.copy()\n",
    "proxy = group_rider(data=proxy)\n",
    "proxy = group_family(data=proxy, family_path=INPUT_FAMILY_PATH)\n",
    "proxy = group_behavior(data=proxy)\n",
    "proxy = group_lifestage(data=proxy, customer_path=INPUT_CUSTOMER_PATH)"
   ]
  },
  {
   "cell_type": "markdown",
   "id": "79ac119a-6f1f-4842-af05-8980ee12ce9c",
   "metadata": {},
   "source": [
    "## check rider"
   ]
  },
  {
   "cell_type": "code",
   "execution_count": 43,
   "id": "fc8e323c-1933-41da-8b1c-ca73d5d4f378",
   "metadata": {
    "tags": []
   },
   "outputs": [
    {
     "name": "stdout",
     "output_type": "stream",
     "text": [
      "function: group_rider is starting...\n",
      "function: group_rider successfully executed at 0.7255234718322754s\n"
     ]
    }
   ],
   "source": [
    "from package.grouping.group_rider import group_rider\n",
    "proxy = group_rider(data=proxy)"
   ]
  },
  {
   "cell_type": "code",
   "execution_count": 44,
   "id": "49c74f24-6be9-4bdc-9ea4-3ee19b9b017b",
   "metadata": {
    "tags": []
   },
   "outputs": [
    {
     "data": {
      "text/html": [
       "<div>\n",
       "<style scoped>\n",
       "    .dataframe tbody tr th:only-of-type {\n",
       "        vertical-align: middle;\n",
       "    }\n",
       "\n",
       "    .dataframe tbody tr th {\n",
       "        vertical-align: top;\n",
       "    }\n",
       "\n",
       "    .dataframe thead th {\n",
       "        text-align: right;\n",
       "    }\n",
       "</style>\n",
       "<table border=\"1\" class=\"dataframe\">\n",
       "  <thead>\n",
       "    <tr style=\"text-align: right;\">\n",
       "      <th></th>\n",
       "      <th>policy_count_health</th>\n",
       "      <th>policy_count_ci</th>\n",
       "    </tr>\n",
       "  </thead>\n",
       "  <tbody>\n",
       "    <tr>\n",
       "      <th>count</th>\n",
       "      <td>1871426.0</td>\n",
       "      <td>1871426.0</td>\n",
       "    </tr>\n",
       "    <tr>\n",
       "      <th>mean</th>\n",
       "      <td>0.0</td>\n",
       "      <td>0.0</td>\n",
       "    </tr>\n",
       "    <tr>\n",
       "      <th>std</th>\n",
       "      <td>0.0</td>\n",
       "      <td>0.0</td>\n",
       "    </tr>\n",
       "    <tr>\n",
       "      <th>min</th>\n",
       "      <td>0.0</td>\n",
       "      <td>0.0</td>\n",
       "    </tr>\n",
       "    <tr>\n",
       "      <th>25%</th>\n",
       "      <td>0.0</td>\n",
       "      <td>0.0</td>\n",
       "    </tr>\n",
       "    <tr>\n",
       "      <th>50%</th>\n",
       "      <td>0.0</td>\n",
       "      <td>0.0</td>\n",
       "    </tr>\n",
       "    <tr>\n",
       "      <th>75%</th>\n",
       "      <td>0.0</td>\n",
       "      <td>0.0</td>\n",
       "    </tr>\n",
       "    <tr>\n",
       "      <th>max</th>\n",
       "      <td>0.0</td>\n",
       "      <td>0.0</td>\n",
       "    </tr>\n",
       "  </tbody>\n",
       "</table>\n",
       "</div>"
      ],
      "text/plain": [
       "       policy_count_health  policy_count_ci\n",
       "count            1871426.0        1871426.0\n",
       "mean                   0.0              0.0\n",
       "std                    0.0              0.0\n",
       "min                    0.0              0.0\n",
       "25%                    0.0              0.0\n",
       "50%                    0.0              0.0\n",
       "75%                    0.0              0.0\n",
       "max                    0.0              0.0"
      ]
     },
     "execution_count": 44,
     "metadata": {},
     "output_type": "execute_result"
    }
   ],
   "source": [
    "mask = proxy['group_rider']=='norider'\n",
    "proxy[mask].describe()[['policy_count_health', 'policy_count_ci']]"
   ]
  },
  {
   "cell_type": "code",
   "execution_count": 45,
   "id": "e1cf2dea-fdf2-4125-8438-0bc570e1f088",
   "metadata": {
    "tags": []
   },
   "outputs": [
    {
     "data": {
      "text/plain": [
       "0"
      ]
     },
     "execution_count": 45,
     "metadata": {},
     "output_type": "execute_result"
    }
   ],
   "source": [
    "mask = proxy['group_rider']=='rider'\n",
    "((proxy[mask]['policy_count_health']+proxy[mask]['policy_count_ci'])==0).sum()"
   ]
  },
  {
   "cell_type": "markdown",
   "id": "9cd41f85-3829-4ece-8d5c-989ebe57af54",
   "metadata": {},
   "source": [
    "## check family"
   ]
  },
  {
   "cell_type": "code",
   "execution_count": 12,
   "id": "ac727bb3-4a46-4b66-9da8-2216abb978aa",
   "metadata": {
    "tags": []
   },
   "outputs": [],
   "source": [
    "path = 's3://tli-crm-segmentation/data-zones/neutral/processed/family.csv'\n",
    "dtypes = {'party_rk':str}\n",
    "family_df = pd.read_csv(path, dtype=dtypes)"
   ]
  },
  {
   "cell_type": "code",
   "execution_count": 18,
   "id": "419e500b-5b34-4c07-8efb-bcedb2b603c5",
   "metadata": {
    "tags": []
   },
   "outputs": [
    {
     "data": {
      "text/html": [
       "<div>\n",
       "<style scoped>\n",
       "    .dataframe tbody tr th:only-of-type {\n",
       "        vertical-align: middle;\n",
       "    }\n",
       "\n",
       "    .dataframe tbody tr th {\n",
       "        vertical-align: top;\n",
       "    }\n",
       "\n",
       "    .dataframe thead th {\n",
       "        text-align: right;\n",
       "    }\n",
       "</style>\n",
       "<table border=\"1\" class=\"dataframe\">\n",
       "  <thead>\n",
       "    <tr style=\"text-align: right;\">\n",
       "      <th></th>\n",
       "      <th>party_rk</th>\n",
       "      <th>policy_count_saving</th>\n",
       "      <th>total_premium_saving</th>\n",
       "      <th>policy_count_wholelife</th>\n",
       "      <th>total_premium_wholelife</th>\n",
       "      <th>is_bene_parent</th>\n",
       "      <th>is_bene_child</th>\n",
       "      <th>is_bene_spouse</th>\n",
       "      <th>policy_count_health</th>\n",
       "      <th>total_premium_health</th>\n",
       "      <th>policy_count_ci</th>\n",
       "      <th>total_premium_ci</th>\n",
       "      <th>total_premium</th>\n",
       "      <th>bin_total_premium</th>\n",
       "      <th>group_rider</th>\n",
       "      <th>group_family</th>\n",
       "      <th>group_behavior</th>\n",
       "      <th>group_lifestage</th>\n",
       "    </tr>\n",
       "  </thead>\n",
       "  <tbody>\n",
       "  </tbody>\n",
       "</table>\n",
       "</div>"
      ],
      "text/plain": [
       "Empty DataFrame\n",
       "Columns: [party_rk, policy_count_saving, total_premium_saving, policy_count_wholelife, total_premium_wholelife, is_bene_parent, is_bene_child, is_bene_spouse, policy_count_health, total_premium_health, policy_count_ci, total_premium_ci, total_premium, bin_total_premium, group_rider, group_family, group_behavior, group_lifestage]\n",
       "Index: []"
      ]
     },
     "execution_count": 18,
     "metadata": {},
     "output_type": "execute_result"
    }
   ],
   "source": [
    "fam_list = family_df.loc[family_df['is_family']==1, 'party_rk']\n",
    "mask = proxy['group_family'] == 'family'\n",
    "mask &= ~proxy['party_rk'].isin(fam_list)\n",
    "proxy[mask]"
   ]
  },
  {
   "cell_type": "code",
   "execution_count": 20,
   "id": "cd32ae97-dc74-43f7-b1fe-bc6f058c0b32",
   "metadata": {
    "tags": []
   },
   "outputs": [
    {
     "data": {
      "text/html": [
       "<div>\n",
       "<style scoped>\n",
       "    .dataframe tbody tr th:only-of-type {\n",
       "        vertical-align: middle;\n",
       "    }\n",
       "\n",
       "    .dataframe tbody tr th {\n",
       "        vertical-align: top;\n",
       "    }\n",
       "\n",
       "    .dataframe thead th {\n",
       "        text-align: right;\n",
       "    }\n",
       "</style>\n",
       "<table border=\"1\" class=\"dataframe\">\n",
       "  <thead>\n",
       "    <tr style=\"text-align: right;\">\n",
       "      <th></th>\n",
       "      <th>party_rk</th>\n",
       "      <th>policy_count_saving</th>\n",
       "      <th>total_premium_saving</th>\n",
       "      <th>policy_count_wholelife</th>\n",
       "      <th>total_premium_wholelife</th>\n",
       "      <th>is_bene_parent</th>\n",
       "      <th>is_bene_child</th>\n",
       "      <th>is_bene_spouse</th>\n",
       "      <th>policy_count_health</th>\n",
       "      <th>total_premium_health</th>\n",
       "      <th>policy_count_ci</th>\n",
       "      <th>total_premium_ci</th>\n",
       "      <th>total_premium</th>\n",
       "      <th>bin_total_premium</th>\n",
       "      <th>group_rider</th>\n",
       "      <th>group_family</th>\n",
       "      <th>group_behavior</th>\n",
       "      <th>group_lifestage</th>\n",
       "    </tr>\n",
       "  </thead>\n",
       "  <tbody>\n",
       "  </tbody>\n",
       "</table>\n",
       "</div>"
      ],
      "text/plain": [
       "Empty DataFrame\n",
       "Columns: [party_rk, policy_count_saving, total_premium_saving, policy_count_wholelife, total_premium_wholelife, is_bene_parent, is_bene_child, is_bene_spouse, policy_count_health, total_premium_health, policy_count_ci, total_premium_ci, total_premium, bin_total_premium, group_rider, group_family, group_behavior, group_lifestage]\n",
       "Index: []"
      ]
     },
     "execution_count": 20,
     "metadata": {},
     "output_type": "execute_result"
    }
   ],
   "source": [
    "fam_list = family_df.loc[family_df['is_family']==0, 'party_rk']\n",
    "mask = proxy['group_family'] == 'nofamily'\n",
    "mask &= ~proxy['party_rk'].isin(fam_list)\n",
    "proxy[mask]"
   ]
  }
 ],
 "metadata": {
  "kernelspec": {
   "display_name": "conda_python3",
   "language": "python",
   "name": "conda_python3"
  },
  "language_info": {
   "codemirror_mode": {
    "name": "ipython",
    "version": 3
   },
   "file_extension": ".py",
   "mimetype": "text/x-python",
   "name": "python",
   "nbconvert_exporter": "python",
   "pygments_lexer": "ipython3",
   "version": "3.10.17"
  }
 },
 "nbformat": 4,
 "nbformat_minor": 5
}
