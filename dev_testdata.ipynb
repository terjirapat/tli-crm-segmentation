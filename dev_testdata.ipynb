{
 "cells": [
  {
   "cell_type": "code",
   "execution_count": 1,
   "id": "dca71049-d1a1-4b84-962d-9b5b42f5e04a",
   "metadata": {
    "tags": []
   },
   "outputs": [],
   "source": [
    "%load_ext autoreload\n",
    "%autoreload 2"
   ]
  },
  {
   "cell_type": "code",
   "execution_count": 2,
   "id": "7284e794-d1d0-43e2-aba6-f464e99f87ec",
   "metadata": {
    "tags": []
   },
   "outputs": [
    {
     "name": "stdout",
     "output_type": "stream",
     "text": [
      "function: get_config is starting...\n",
      "function: get_config successfully executed at 0.0014829635620117188s\n"
     ]
    }
   ],
   "source": [
    "import pandas as pd\n",
    "import seaborn as sns\n",
    "import matplotlib.pyplot as plt\n",
    "import numpy as np\n",
    "from package.utils import DotDict, timer, get_config, load_data, merge_data\n",
    "\n",
    "# from package.cluster_analysis import plot_elbow, plot_box_cluster, plot_box_cluster_sns, show_size_cluster, validate_decisiontree_cluster, plot_centroidsim_cluster, cal_featureimportance, plot_pca\n",
    "\n",
    "from package.clustering import CONFIG_PATH\n",
    "\n",
    "conf = get_config(CONFIG_PATH)"
   ]
  },
  {
   "cell_type": "code",
   "execution_count": 3,
   "id": "e8d05bb5-2d82-4e93-acb1-0a33fce21549",
   "metadata": {
    "tags": []
   },
   "outputs": [
    {
     "name": "stdout",
     "output_type": "stream",
     "text": [
      "function: load_data is starting...\n",
      "loading data from: s3://tli-crm-segmentation/data-zones/neutral/grouped/feature_99pct.csv\n"
     ]
    },
    {
     "name": "stderr",
     "output_type": "stream",
     "text": [
      "/home/ec2-user/anaconda3/envs/pytorch_p310/lib/python3.10/site-packages/fsspec/registry.py:283: UserWarning: Your installed version of s3fs is very old and known to cause\n",
      "severe performance issues, see also https://github.com/dask/dask/issues/10276\n",
      "\n",
      "To fix, you should specify a lower version bound on s3fs, or\n",
      "update the current installation.\n",
      "\n",
      "  warnings.warn(s3_msg)\n"
     ]
    },
    {
     "name": "stdout",
     "output_type": "stream",
     "text": [
      "Succesfully loaded data from: s3://tli-crm-segmentation/data-zones/neutral/grouped/feature_99pct.csv\n",
      "function: load_data successfully executed at 1.3066892623901367s\n",
      "function: load_data is starting...\n",
      "loading data from: s3://tli-crm-segmentation/data-zones/neutral/grouped/feature_normalized_99pct.csv\n",
      "Succesfully loaded data from: s3://tli-crm-segmentation/data-zones/neutral/grouped/feature_normalized_99pct.csv\n",
      "function: load_data successfully executed at 0.40511369705200195s\n"
     ]
    }
   ],
   "source": [
    "path = 's3://tli-crm-segmentation/data-zones/neutral/grouped/feature_99pct.csv'\n",
    "raw_df = load_data(path=path).set_index(conf.PARTY_ID_COLUMN)\n",
    "\n",
    "path = 's3://tli-crm-segmentation/data-zones/neutral/grouped/feature_normalized_99pct.csv'\n",
    "scaled_df = load_data(path=path).set_index(conf.PARTY_ID_COLUMN)"
   ]
  },
  {
   "cell_type": "code",
   "execution_count": 4,
   "id": "c57ebdc3-e7e9-4057-9e5e-75f5dcd8f644",
   "metadata": {
    "tags": []
   },
   "outputs": [],
   "source": [
    "landing_path = 's3://tli-crm-segmentation/data-test/load_dt=20250424'"
   ]
  },
  {
   "cell_type": "code",
   "execution_count": 5,
   "id": "09b2f1f5-19fb-45c1-aee8-42357704538a",
   "metadata": {
    "tags": []
   },
   "outputs": [],
   "source": [
    "X = scaled_df.copy()"
   ]
  },
  {
   "cell_type": "code",
   "execution_count": 6,
   "id": "6b036706-b173-4bce-a363-52bf416752d8",
   "metadata": {
    "tags": []
   },
   "outputs": [],
   "source": [
    "from package.clustering.get_model import get_model\n",
    "from package.clustering.get_log import Log\n",
    "from package.clustering.predict import predict_model, add_labels\n",
    "\n",
    "@timer\n",
    "def train_model(model, X):\n",
    "    return model.fit(X)"
   ]
  },
  {
   "cell_type": "code",
   "execution_count": 7,
   "id": "6488ee54-e4b2-4558-932b-b32de04c434b",
   "metadata": {
    "tags": []
   },
   "outputs": [
    {
     "name": "stdout",
     "output_type": "stream",
     "text": [
      "function: get_model is starting...\n",
      "function: get_model successfully executed at 9.894371032714844e-05s\n",
      "function: train_model is starting...\n",
      "function: train_model successfully executed at 3.1820738315582275s\n",
      "function: predict_model is starting...\n",
      "function: predict_model successfully executed at 0.0010433197021484375s\n",
      "function: get_model is starting...\n",
      "function: get_model successfully executed at 5.364418029785156e-05s\n",
      "function: train_model is starting...\n",
      "function: train_model successfully executed at 0.1380167007446289s\n",
      "function: predict_model is starting...\n",
      "function: predict_model successfully executed at 0.0010266304016113281s\n",
      "function: get_model is starting...\n",
      "function: get_model successfully executed at 4.553794860839844e-05s\n",
      "function: train_model is starting...\n",
      "function: train_model successfully executed at 0.1347339153289795s\n",
      "function: predict_model is starting...\n",
      "function: predict_model successfully executed at 0.0009455680847167969s\n",
      "function: get_model is starting...\n",
      "function: get_model successfully executed at 4.649162292480469e-05s\n",
      "function: train_model is starting...\n",
      "function: train_model successfully executed at 0.14502191543579102s\n",
      "function: predict_model is starting...\n",
      "function: predict_model successfully executed at 0.0010211467742919922s\n",
      "function: get_model is starting...\n",
      "function: get_model successfully executed at 4.291534423828125e-05s\n",
      "function: train_model is starting...\n",
      "function: train_model successfully executed at 0.1464543342590332s\n",
      "function: predict_model is starting...\n",
      "function: predict_model successfully executed at 0.0010495185852050781s\n",
      "function: get_model is starting...\n",
      "function: get_model successfully executed at 0.00010132789611816406s\n",
      "function: train_model is starting...\n",
      "function: train_model successfully executed at 0.14621829986572266s\n",
      "function: predict_model is starting...\n",
      "function: predict_model successfully executed at 0.0010464191436767578s\n",
      "function: get_model is starting...\n",
      "function: get_model successfully executed at 0.00010371208190917969s\n",
      "function: train_model is starting...\n",
      "function: train_model successfully executed at 0.14753150939941406s\n",
      "function: predict_model is starting...\n",
      "function: predict_model successfully executed at 0.0009899139404296875s\n",
      "function: get_model is starting...\n",
      "function: get_model successfully executed at 9.655952453613281e-05s\n",
      "function: train_model is starting...\n",
      "function: train_model successfully executed at 0.14720606803894043s\n",
      "function: predict_model is starting...\n",
      "function: predict_model successfully executed at 0.0009963512420654297s\n",
      "function: get_model is starting...\n",
      "function: get_model successfully executed at 0.00010514259338378906s\n",
      "function: train_model is starting...\n",
      "function: train_model successfully executed at 0.14909815788269043s\n",
      "function: predict_model is starting...\n",
      "function: predict_model successfully executed at 0.0009393692016601562s\n"
     ]
    }
   ],
   "source": [
    "import pickle\n",
    "import s3fs\n",
    "\n",
    "label_df = None\n",
    "\n",
    "for k in range(2, 11):\n",
    "    model_name = 'kmeans'\n",
    "    model_param = {'n_clusters': k, 'random_state': 0}\n",
    "\n",
    "    model = get_model(method=model_name, params=model_param)\n",
    "    model = train_model(model=model, X=X)\n",
    "    labels = predict_model(model=model, method=model_name, X=X)\n",
    "    result = add_labels(X=X, labels=labels)\n",
    "    result = result.rename(columns={'labels':f'K{k}'})\n",
    "    result = result.set_index(conf.PARTY_ID_COLUMN)\n",
    "    label_df = pd.concat(objs=[label_df, result], axis=1)\n",
    "    \n",
    "    s3_path = f'{landing_path}/k{k}.pkl'\n",
    "    fs = s3fs.S3FileSystem()\n",
    "    with fs.open(s3_path, 'wb') as f:\n",
    "        pickle.dump(model, f)"
   ]
  },
  {
   "cell_type": "code",
   "execution_count": 8,
   "id": "94ab3666-529b-4a23-9941-0a80f5cdf8ae",
   "metadata": {
    "tags": []
   },
   "outputs": [],
   "source": [
    "# x_scaled_df = pd.DataFrame(scaled_df, columns=[f'SCALED_{col}' for col in scaled_df.columns],index=scaled_df.index)"
   ]
  },
  {
   "cell_type": "code",
   "execution_count": 9,
   "id": "1ceeed47-9289-4c58-97f3-368f319b3f77",
   "metadata": {
    "tags": []
   },
   "outputs": [],
   "source": [
    "# x_scaled_df.columns"
   ]
  },
  {
   "cell_type": "code",
   "execution_count": 10,
   "id": "0158aa66-f783-4644-b158-d5d3ef9fca57",
   "metadata": {
    "tags": []
   },
   "outputs": [],
   "source": [
    "raw_df.columns = [col.upper() for col in raw_df.columns]\n",
    "scaled_df.columns = [f'SCALED_{col}'.upper() for col in scaled_df.columns]"
   ]
  },
  {
   "cell_type": "code",
   "execution_count": 11,
   "id": "04eea888-35de-490b-a400-6024cd1b0b91",
   "metadata": {
    "tags": []
   },
   "outputs": [
    {
     "data": {
      "text/html": [
       "<div>\n",
       "<style scoped>\n",
       "    .dataframe tbody tr th:only-of-type {\n",
       "        vertical-align: middle;\n",
       "    }\n",
       "\n",
       "    .dataframe tbody tr th {\n",
       "        vertical-align: top;\n",
       "    }\n",
       "\n",
       "    .dataframe thead th {\n",
       "        text-align: right;\n",
       "    }\n",
       "</style>\n",
       "<table border=\"1\" class=\"dataframe\">\n",
       "  <thead>\n",
       "    <tr style=\"text-align: right;\">\n",
       "      <th></th>\n",
       "      <th>PARTY_RK</th>\n",
       "      <th>POLICY_COUNT_SAVING</th>\n",
       "      <th>TOTAL_PREMIUM_SAVING</th>\n",
       "      <th>POLICY_COUNT_LEGACY</th>\n",
       "      <th>TOTAL_PREMIUM_LEGACY</th>\n",
       "      <th>POLICY_COUNT_OTHER</th>\n",
       "      <th>TOTAL_PREMIUM_OTHER</th>\n",
       "      <th>IS_BENE_PARENT</th>\n",
       "      <th>IS_BENE_CHILD</th>\n",
       "      <th>IS_BENE_SPOUSE</th>\n",
       "      <th>...</th>\n",
       "      <th>SCALED_TOTAL_PREMIUM</th>\n",
       "      <th>K2</th>\n",
       "      <th>K3</th>\n",
       "      <th>K4</th>\n",
       "      <th>K5</th>\n",
       "      <th>K6</th>\n",
       "      <th>K7</th>\n",
       "      <th>K8</th>\n",
       "      <th>K9</th>\n",
       "      <th>K10</th>\n",
       "    </tr>\n",
       "  </thead>\n",
       "  <tbody>\n",
       "    <tr>\n",
       "      <th>0</th>\n",
       "      <td>8000002493</td>\n",
       "      <td>4.0</td>\n",
       "      <td>436089.0</td>\n",
       "      <td>0.0</td>\n",
       "      <td>0.0</td>\n",
       "      <td>1.0</td>\n",
       "      <td>0.0</td>\n",
       "      <td>0.0</td>\n",
       "      <td>1.0</td>\n",
       "      <td>0.0</td>\n",
       "      <td>...</td>\n",
       "      <td>-0.007327</td>\n",
       "      <td>0</td>\n",
       "      <td>1</td>\n",
       "      <td>1</td>\n",
       "      <td>3</td>\n",
       "      <td>3</td>\n",
       "      <td>3</td>\n",
       "      <td>3</td>\n",
       "      <td>3</td>\n",
       "      <td>9</td>\n",
       "    </tr>\n",
       "    <tr>\n",
       "      <th>1</th>\n",
       "      <td>8000004231</td>\n",
       "      <td>1.0</td>\n",
       "      <td>985000.0</td>\n",
       "      <td>0.0</td>\n",
       "      <td>0.0</td>\n",
       "      <td>0.0</td>\n",
       "      <td>0.0</td>\n",
       "      <td>0.0</td>\n",
       "      <td>0.0</td>\n",
       "      <td>0.0</td>\n",
       "      <td>...</td>\n",
       "      <td>0.621245</td>\n",
       "      <td>0</td>\n",
       "      <td>1</td>\n",
       "      <td>1</td>\n",
       "      <td>1</td>\n",
       "      <td>1</td>\n",
       "      <td>1</td>\n",
       "      <td>1</td>\n",
       "      <td>1</td>\n",
       "      <td>1</td>\n",
       "    </tr>\n",
       "    <tr>\n",
       "      <th>2</th>\n",
       "      <td>8000004232</td>\n",
       "      <td>1.0</td>\n",
       "      <td>985000.0</td>\n",
       "      <td>0.0</td>\n",
       "      <td>0.0</td>\n",
       "      <td>0.0</td>\n",
       "      <td>0.0</td>\n",
       "      <td>0.0</td>\n",
       "      <td>0.0</td>\n",
       "      <td>0.0</td>\n",
       "      <td>...</td>\n",
       "      <td>0.621245</td>\n",
       "      <td>0</td>\n",
       "      <td>1</td>\n",
       "      <td>1</td>\n",
       "      <td>1</td>\n",
       "      <td>1</td>\n",
       "      <td>1</td>\n",
       "      <td>1</td>\n",
       "      <td>1</td>\n",
       "      <td>1</td>\n",
       "    </tr>\n",
       "    <tr>\n",
       "      <th>3</th>\n",
       "      <td>8000005828</td>\n",
       "      <td>3.0</td>\n",
       "      <td>172450.0</td>\n",
       "      <td>0.0</td>\n",
       "      <td>0.0</td>\n",
       "      <td>0.0</td>\n",
       "      <td>0.0</td>\n",
       "      <td>1.0</td>\n",
       "      <td>0.0</td>\n",
       "      <td>0.0</td>\n",
       "      <td>...</td>\n",
       "      <td>-0.274157</td>\n",
       "      <td>1</td>\n",
       "      <td>0</td>\n",
       "      <td>0</td>\n",
       "      <td>0</td>\n",
       "      <td>0</td>\n",
       "      <td>0</td>\n",
       "      <td>0</td>\n",
       "      <td>0</td>\n",
       "      <td>0</td>\n",
       "    </tr>\n",
       "    <tr>\n",
       "      <th>4</th>\n",
       "      <td>8000006190</td>\n",
       "      <td>3.0</td>\n",
       "      <td>219620.0</td>\n",
       "      <td>1.0</td>\n",
       "      <td>359400.0</td>\n",
       "      <td>0.0</td>\n",
       "      <td>0.0</td>\n",
       "      <td>0.4</td>\n",
       "      <td>0.2</td>\n",
       "      <td>0.4</td>\n",
       "      <td>...</td>\n",
       "      <td>0.133930</td>\n",
       "      <td>0</td>\n",
       "      <td>1</td>\n",
       "      <td>1</td>\n",
       "      <td>1</td>\n",
       "      <td>1</td>\n",
       "      <td>1</td>\n",
       "      <td>1</td>\n",
       "      <td>1</td>\n",
       "      <td>1</td>\n",
       "    </tr>\n",
       "  </tbody>\n",
       "</table>\n",
       "<p>5 rows × 46 columns</p>\n",
       "</div>"
      ],
      "text/plain": [
       "     PARTY_RK  POLICY_COUNT_SAVING  TOTAL_PREMIUM_SAVING  POLICY_COUNT_LEGACY  \\\n",
       "0  8000002493                  4.0              436089.0                  0.0   \n",
       "1  8000004231                  1.0              985000.0                  0.0   \n",
       "2  8000004232                  1.0              985000.0                  0.0   \n",
       "3  8000005828                  3.0              172450.0                  0.0   \n",
       "4  8000006190                  3.0              219620.0                  1.0   \n",
       "\n",
       "   TOTAL_PREMIUM_LEGACY  POLICY_COUNT_OTHER  TOTAL_PREMIUM_OTHER  \\\n",
       "0                   0.0                 1.0                  0.0   \n",
       "1                   0.0                 0.0                  0.0   \n",
       "2                   0.0                 0.0                  0.0   \n",
       "3                   0.0                 0.0                  0.0   \n",
       "4              359400.0                 0.0                  0.0   \n",
       "\n",
       "   IS_BENE_PARENT  IS_BENE_CHILD  IS_BENE_SPOUSE  ...  SCALED_TOTAL_PREMIUM  \\\n",
       "0             0.0            1.0             0.0  ...             -0.007327   \n",
       "1             0.0            0.0             0.0  ...              0.621245   \n",
       "2             0.0            0.0             0.0  ...              0.621245   \n",
       "3             1.0            0.0             0.0  ...             -0.274157   \n",
       "4             0.4            0.2             0.4  ...              0.133930   \n",
       "\n",
       "   K2  K3  K4  K5  K6  K7  K8  K9  K10  \n",
       "0   0   1   1   3   3   3   3   3    9  \n",
       "1   0   1   1   1   1   1   1   1    1  \n",
       "2   0   1   1   1   1   1   1   1    1  \n",
       "3   1   0   0   0   0   0   0   0    0  \n",
       "4   0   1   1   1   1   1   1   1    1  \n",
       "\n",
       "[5 rows x 46 columns]"
      ]
     },
     "execution_count": 11,
     "metadata": {},
     "output_type": "execute_result"
    }
   ],
   "source": [
    "main_df = pd.concat(objs=[raw_df, scaled_df, label_df], axis=1)\n",
    "main_df.index.name = 'PARTY_RK'\n",
    "main_df = main_df.reset_index()\n",
    "main_df.head()"
   ]
  },
  {
   "cell_type": "code",
   "execution_count": 12,
   "id": "7c897735-2e81-457f-9de5-97c0291c8e98",
   "metadata": {
    "tags": []
   },
   "outputs": [],
   "source": [
    "file_name = 'EXPERIMENT_CRM_SEGMENTATION_99PCT_KMEANS'\n",
    "main_df.to_csv(f'{landing_path}/{file_name}.csv', index=False)"
   ]
  },
  {
   "cell_type": "code",
   "execution_count": null,
   "id": "afb531aa-945b-421e-9f80-2c48bd235a4a",
   "metadata": {},
   "outputs": [],
   "source": []
  }
 ],
 "metadata": {
  "kernelspec": {
   "display_name": "conda_pytorch_p310",
   "language": "python",
   "name": "conda_pytorch_p310"
  },
  "language_info": {
   "codemirror_mode": {
    "name": "ipython",
    "version": 3
   },
   "file_extension": ".py",
   "mimetype": "text/x-python",
   "name": "python",
   "nbconvert_exporter": "python",
   "pygments_lexer": "ipython3",
   "version": "3.10.14"
  }
 },
 "nbformat": 4,
 "nbformat_minor": 5
}
