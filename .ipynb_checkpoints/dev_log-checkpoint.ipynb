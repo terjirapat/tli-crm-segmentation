{
 "cells": [
  {
   "cell_type": "code",
   "execution_count": 1,
   "id": "08fe5d4a-d96a-4757-a867-a431d3714f96",
   "metadata": {
    "tags": []
   },
   "outputs": [],
   "source": [
    "%load_ext autoreload\n",
    "%autoreload 2"
   ]
  },
  {
   "cell_type": "markdown",
   "id": "647bb382-b1db-4533-8cae-a424468fb6df",
   "metadata": {},
   "source": [
    "# import library"
   ]
  },
  {
   "cell_type": "code",
   "execution_count": 2,
   "id": "25c87e0e-b5cc-44ab-ace6-44bb5b03d29f",
   "metadata": {
    "tags": []
   },
   "outputs": [
    {
     "name": "stdout",
     "output_type": "stream",
     "text": [
      "function: get_config is starting...\n",
      "function: get_config successfully executed at 0.003940105438232422s\n"
     ]
    }
   ],
   "source": [
    "import pandas as pd\n",
    "import seaborn as sns\n",
    "import matplotlib.pyplot as plt\n",
    "import numpy as np\n",
    "from package.utils import DotDict, timer, get_config, load_data, merge_data\n",
    "\n",
    "# from package.cluster_analysis import plot_elbow, plot_box_cluster, plot_box_cluster_sns, show_size_cluster, validate_decisiontree_cluster, plot_centroidsim_cluster, cal_featureimportance, plot_pca\n",
    "\n",
    "from package.preprocessing import CONFIG_PATH\n",
    "\n",
    "conf = get_config(CONFIG_PATH)"
   ]
  },
  {
   "cell_type": "markdown",
   "id": "313552bd-7660-4098-b360-4873e8f76ce5",
   "metadata": {},
   "source": [
    "# json"
   ]
  },
  {
   "cell_type": "code",
   "execution_count": 3,
   "id": "bc28d9bd-0004-40e5-9052-48afb40b2f0b",
   "metadata": {
    "tags": []
   },
   "outputs": [
    {
     "data": {
      "text/html": [
       "<div>\n",
       "<style scoped>\n",
       "    .dataframe tbody tr th:only-of-type {\n",
       "        vertical-align: middle;\n",
       "    }\n",
       "\n",
       "    .dataframe tbody tr th {\n",
       "        vertical-align: top;\n",
       "    }\n",
       "\n",
       "    .dataframe thead th {\n",
       "        text-align: right;\n",
       "    }\n",
       "</style>\n",
       "<table border=\"1\" class=\"dataframe\">\n",
       "  <thead>\n",
       "    <tr style=\"text-align: right;\">\n",
       "      <th></th>\n",
       "      <th>model_name</th>\n",
       "      <th>parameter</th>\n",
       "      <th>path</th>\n",
       "      <th>timestamp</th>\n",
       "      <th>customer_group</th>\n",
       "      <th>shape</th>\n",
       "      <th>features</th>\n",
       "      <th>active</th>\n",
       "    </tr>\n",
       "  </thead>\n",
       "  <tbody>\n",
       "    <tr>\n",
       "      <th>0</th>\n",
       "      <td>kmeans</td>\n",
       "      <td>{\"n_clusters\": 3, \"random_state\": 0}</td>\n",
       "      <td>s3://tli-crm-segmentation/data-zones/neutral/a...</td>\n",
       "      <td>1744185778</td>\n",
       "      <td>other</td>\n",
       "      <td>(490491, 20)</td>\n",
       "      <td>['policy_count_saving', 'total_premium_saving'...</td>\n",
       "      <td>False</td>\n",
       "    </tr>\n",
       "    <tr>\n",
       "      <th>1</th>\n",
       "      <td>kmeans</td>\n",
       "      <td>{\"n_clusters\": 3, \"random_state\": 0}</td>\n",
       "      <td>s3://tli-crm-segmentation/data-zones/neutral/a...</td>\n",
       "      <td>1744185825</td>\n",
       "      <td>1hold</td>\n",
       "      <td>(2352009, 20)</td>\n",
       "      <td>['policy_count_saving', 'total_premium_saving'...</td>\n",
       "      <td>False</td>\n",
       "    </tr>\n",
       "    <tr>\n",
       "      <th>2</th>\n",
       "      <td>kmeans</td>\n",
       "      <td>{\"n_clusters\": 3, \"random_state\": 0}</td>\n",
       "      <td>s3://tli-crm-segmentation/data-zones/neutral/a...</td>\n",
       "      <td>1744185861</td>\n",
       "      <td>0anp</td>\n",
       "      <td>(471472, 20)</td>\n",
       "      <td>['policy_count_saving', 'total_premium_saving'...</td>\n",
       "      <td>False</td>\n",
       "    </tr>\n",
       "    <tr>\n",
       "      <th>3</th>\n",
       "      <td>kmeans</td>\n",
       "      <td>{\"n_clusters\": 3, \"random_state\": 0}</td>\n",
       "      <td>s3://tli-crm-segmentation/data-zones/neutral/a...</td>\n",
       "      <td>1744185893</td>\n",
       "      <td>99pct</td>\n",
       "      <td>(33458, 20)</td>\n",
       "      <td>['policy_count_saving', 'total_premium_saving'...</td>\n",
       "      <td>False</td>\n",
       "    </tr>\n",
       "    <tr>\n",
       "      <th>4</th>\n",
       "      <td>kmeans</td>\n",
       "      <td>{\"n_clusters\": 3, \"random_state\": 0}</td>\n",
       "      <td>s3://tli-crm-segmentation/data-zones/neutral/a...</td>\n",
       "      <td>1744259212</td>\n",
       "      <td>0anp</td>\n",
       "      <td>(471472, 20)</td>\n",
       "      <td>['policy_count_saving', 'total_premium_saving'...</td>\n",
       "      <td>False</td>\n",
       "    </tr>\n",
       "    <tr>\n",
       "      <th>5</th>\n",
       "      <td>kmeans</td>\n",
       "      <td>{\"n_clusters\": 3, \"random_state\": 0}</td>\n",
       "      <td>s3://tli-crm-segmentation/data-zones/neutral/a...</td>\n",
       "      <td>1744259221</td>\n",
       "      <td>99pct</td>\n",
       "      <td>(33458, 20)</td>\n",
       "      <td>['policy_count_saving', 'total_premium_saving'...</td>\n",
       "      <td>False</td>\n",
       "    </tr>\n",
       "    <tr>\n",
       "      <th>6</th>\n",
       "      <td>kmeans</td>\n",
       "      <td>{\"n_clusters\": 3, \"random_state\": 0}</td>\n",
       "      <td>s3://tli-crm-segmentation/data-zones/neutral/a...</td>\n",
       "      <td>1744259271</td>\n",
       "      <td>1hold</td>\n",
       "      <td>(2352009, 20)</td>\n",
       "      <td>['policy_count_saving', 'total_premium_saving'...</td>\n",
       "      <td>False</td>\n",
       "    </tr>\n",
       "    <tr>\n",
       "      <th>7</th>\n",
       "      <td>kmeans</td>\n",
       "      <td>{\"n_clusters\": 3, \"random_state\": 0}</td>\n",
       "      <td>s3://tli-crm-segmentation/data-zones/neutral/a...</td>\n",
       "      <td>1744259272</td>\n",
       "      <td>other</td>\n",
       "      <td>(490491, 20)</td>\n",
       "      <td>['policy_count_saving', 'total_premium_saving'...</td>\n",
       "      <td>False</td>\n",
       "    </tr>\n",
       "  </tbody>\n",
       "</table>\n",
       "</div>"
      ],
      "text/plain": [
       "  model_name                             parameter  \\\n",
       "0     kmeans  {\"n_clusters\": 3, \"random_state\": 0}   \n",
       "1     kmeans  {\"n_clusters\": 3, \"random_state\": 0}   \n",
       "2     kmeans  {\"n_clusters\": 3, \"random_state\": 0}   \n",
       "3     kmeans  {\"n_clusters\": 3, \"random_state\": 0}   \n",
       "4     kmeans  {\"n_clusters\": 3, \"random_state\": 0}   \n",
       "5     kmeans  {\"n_clusters\": 3, \"random_state\": 0}   \n",
       "6     kmeans  {\"n_clusters\": 3, \"random_state\": 0}   \n",
       "7     kmeans  {\"n_clusters\": 3, \"random_state\": 0}   \n",
       "\n",
       "                                                path   timestamp  \\\n",
       "0  s3://tli-crm-segmentation/data-zones/neutral/a...  1744185778   \n",
       "1  s3://tli-crm-segmentation/data-zones/neutral/a...  1744185825   \n",
       "2  s3://tli-crm-segmentation/data-zones/neutral/a...  1744185861   \n",
       "3  s3://tli-crm-segmentation/data-zones/neutral/a...  1744185893   \n",
       "4  s3://tli-crm-segmentation/data-zones/neutral/a...  1744259212   \n",
       "5  s3://tli-crm-segmentation/data-zones/neutral/a...  1744259221   \n",
       "6  s3://tli-crm-segmentation/data-zones/neutral/a...  1744259271   \n",
       "7  s3://tli-crm-segmentation/data-zones/neutral/a...  1744259272   \n",
       "\n",
       "  customer_group          shape  \\\n",
       "0          other   (490491, 20)   \n",
       "1          1hold  (2352009, 20)   \n",
       "2           0anp   (471472, 20)   \n",
       "3          99pct    (33458, 20)   \n",
       "4           0anp   (471472, 20)   \n",
       "5          99pct    (33458, 20)   \n",
       "6          1hold  (2352009, 20)   \n",
       "7          other   (490491, 20)   \n",
       "\n",
       "                                            features  active  \n",
       "0  ['policy_count_saving', 'total_premium_saving'...   False  \n",
       "1  ['policy_count_saving', 'total_premium_saving'...   False  \n",
       "2  ['policy_count_saving', 'total_premium_saving'...   False  \n",
       "3  ['policy_count_saving', 'total_premium_saving'...   False  \n",
       "4  ['policy_count_saving', 'total_premium_saving'...   False  \n",
       "5  ['policy_count_saving', 'total_premium_saving'...   False  \n",
       "6  ['policy_count_saving', 'total_premium_saving'...   False  \n",
       "7  ['policy_count_saving', 'total_premium_saving'...   False  "
      ]
     },
     "execution_count": 3,
     "metadata": {},
     "output_type": "execute_result"
    }
   ],
   "source": [
    "import boto3\n",
    "import json\n",
    "\n",
    "def list_s3_files(bucket_name, prefix):\n",
    "    s3 = boto3.client('s3')\n",
    "    paginator = s3.get_paginator('list_objects_v2')\n",
    "    file_list = []\n",
    "\n",
    "    for page in paginator.paginate(Bucket=bucket_name, Prefix=prefix):\n",
    "        if 'Contents' in page:\n",
    "            for obj in page['Contents']:\n",
    "                file_list.append(obj['Key'])\n",
    "\n",
    "    return file_list\n",
    "\n",
    "def get_json_df(bucket, key):\n",
    "    s3 = boto3.client('s3')\n",
    "    response = s3.get_object(Bucket=bucket, Key=key)\n",
    "    content = response['Body'].read()\n",
    "    data = json.loads(content)\n",
    "    df = pd.DataFrame(data if isinstance(data, list) else [data])\n",
    "    return df\n",
    "\n",
    "df = None\n",
    "\n",
    "bucket = 'tli-crm-segmentation'\n",
    "prefix = 'data-zones/neutral/log'\n",
    "\n",
    "files = list_s3_files(bucket_name=bucket, prefix=prefix)\n",
    "for file in files:\n",
    "    proxy = get_json_df(bucket=bucket, key=file)\n",
    "    df = pd.concat([df, proxy], axis=0)\n",
    "df = df.reset_index(drop=True)\n",
    "df"
   ]
  },
  {
   "cell_type": "code",
   "execution_count": 5,
   "id": "d7f30757-e2b2-44b4-a9be-78054c6de0e5",
   "metadata": {
    "tags": []
   },
   "outputs": [
    {
     "data": {
      "text/plain": [
       "['data-zones/neutral/log/1744185778.json',\n",
       " 'data-zones/neutral/log/1744185825.json',\n",
       " 'data-zones/neutral/log/1744185861.json',\n",
       " 'data-zones/neutral/log/1744185893.json',\n",
       " 'data-zones/neutral/log/1744259212.json',\n",
       " 'data-zones/neutral/log/1744259221.json',\n",
       " 'data-zones/neutral/log/1744259271.json',\n",
       " 'data-zones/neutral/log/1744259272.json']"
      ]
     },
     "execution_count": 5,
     "metadata": {},
     "output_type": "execute_result"
    }
   ],
   "source": [
    "files"
   ]
  }
 ],
 "metadata": {
  "kernelspec": {
   "display_name": "conda_python3",
   "language": "python",
   "name": "conda_python3"
  },
  "language_info": {
   "codemirror_mode": {
    "name": "ipython",
    "version": 3
   },
   "file_extension": ".py",
   "mimetype": "text/x-python",
   "name": "python",
   "nbconvert_exporter": "python",
   "pygments_lexer": "ipython3",
   "version": "3.10.16"
  }
 },
 "nbformat": 4,
 "nbformat_minor": 5
}
