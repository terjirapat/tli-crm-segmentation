{
 "cells": [
  {
   "cell_type": "code",
   "execution_count": 1,
   "id": "c8db8b66-48af-417a-9a66-5ca034db0be2",
   "metadata": {
    "tags": []
   },
   "outputs": [],
   "source": [
    "import pandas as pd\n",
    "import seaborn as sns\n",
    "import matplotlib.pyplot as plt\n",
    "import numpy as np\n",
    "from package.utils import DotDict, timer, get_config, load_data, merge_data"
   ]
  },
  {
   "cell_type": "code",
   "execution_count": 2,
   "id": "bf1982a9-8b6c-4549-97ca-1d165b6cf9b4",
   "metadata": {
    "tags": []
   },
   "outputs": [
    {
     "name": "stderr",
     "output_type": "stream",
     "text": [
      "/home/ec2-user/anaconda3/envs/python3/lib/python3.10/site-packages/fsspec/registry.py:286: UserWarning: Your installed version of s3fs is very old and known to cause\n",
      "severe performance issues, see also https://github.com/dask/dask/issues/10276\n",
      "\n",
      "To fix, you should specify a lower version bound on s3fs, or\n",
      "update the current installation.\n",
      "\n",
      "  warnings.warn(s3_msg)\n"
     ]
    },
    {
     "name": "stdout",
     "output_type": "stream",
     "text": [
      "CPU times: user 20.8 s, sys: 4.34 s, total: 25.2 s\n",
      "Wall time: 43.2 s\n"
     ]
    }
   ],
   "source": [
    "%%time\n",
    "bucket_path = 's3://tli-crm-segmentation/data-test/family'\n",
    "dtypes = {'policyno':str, 'party_id_name_bd':str, 'party_id_govt':str, 'policy_govt':str}\n",
    "\n",
    "path = f'{bucket_path}/stg_tb_mstperson_beneficiary_party_id_name_bd_party_id_govt_202505220042.csv'\n",
    "beneid_df = pd.read_csv(path, dtype=dtypes)\n",
    "\n",
    "path = f'{bucket_path}/stg_tb_policy_policyparticipant_202505220106.csv'\n",
    "policybene_df = pd.read_csv(path, dtype=dtypes)"
   ]
  },
  {
   "cell_type": "code",
   "execution_count": 18,
   "id": "75c33223-a020-4d00-b899-22221a067bd7",
   "metadata": {
    "tags": []
   },
   "outputs": [
    {
     "data": {
      "text/plain": [
       "policytype                 0\n",
       "policyno                   0\n",
       "relationshipcode           0\n",
       "party_id_name_bd    18989768\n",
       "party_id_govt       14758009\n",
       "dtype: int64"
      ]
     },
     "execution_count": 18,
     "metadata": {},
     "output_type": "execute_result"
    }
   ],
   "source": [
    "beneid_df.isna().sum()"
   ]
  },
  {
   "cell_type": "code",
   "execution_count": 11,
   "id": "f44fda93-830a-4c97-9f7c-c8da46f7a7b9",
   "metadata": {
    "tags": []
   },
   "outputs": [],
   "source": [
    "path = 's3://dev-tli-eap-inbound-bucket/test2_202505221645.csv'\n",
    "dtypes = {'policyno':str, 'party_id_name_bd':str, 'party_id_govt':str, 'policy_govt':str}\n",
    "policybene_df = pd.read_csv(path, dtype=dtypes)\n",
    "\n",
    "mask = policybene_df['party_id_govt'].isna()\n",
    "mask &= ~policybene_df['dup_party_id_govt'].isna()\n",
    "policybene_df[mask]['dup_party_id_govt'].nunique()"
   ]
  },
  {
   "cell_type": "code",
   "execution_count": 13,
   "id": "f4a49393-f091-46bc-938f-3ecf524759dd",
   "metadata": {
    "tags": []
   },
   "outputs": [
    {
     "data": {
      "text/plain": [
       "(17786852, 7)"
      ]
     },
     "execution_count": 13,
     "metadata": {},
     "output_type": "execute_result"
    }
   ],
   "source": [
    "policybene_df.shape"
   ]
  },
  {
   "cell_type": "code",
   "execution_count": 21,
   "id": "9d63bdd6-4f62-47f0-aa12-e6bfc5e2b5e5",
   "metadata": {
    "tags": []
   },
   "outputs": [
    {
     "data": {
      "text/plain": [
       "4"
      ]
     },
     "execution_count": 21,
     "metadata": {},
     "output_type": "execute_result"
    }
   ],
   "source": []
  },
  {
   "cell_type": "code",
   "execution_count": 28,
   "id": "0498c361-c02f-43b6-a37c-1a0b14b516e2",
   "metadata": {
    "tags": []
   },
   "outputs": [
    {
     "data": {
      "text/plain": [
       "1399884"
      ]
     },
     "execution_count": 28,
     "metadata": {},
     "output_type": "execute_result"
    }
   ],
   "source": [
    "policybene_df.drop_duplicates(subset='party_id_govt')['policyno'].nunique()"
   ]
  },
  {
   "cell_type": "code",
   "execution_count": 29,
   "id": "8271bb62-a5e3-461c-a5e9-c1f3c1b7544c",
   "metadata": {
    "tags": []
   },
   "outputs": [
    {
     "data": {
      "text/plain": [
       "12450848"
      ]
     },
     "execution_count": 29,
     "metadata": {},
     "output_type": "execute_result"
    }
   ],
   "source": [
    "policybene_df['policyno'].nunique()"
   ]
  },
  {
   "cell_type": "code",
   "execution_count": 23,
   "id": "ff346534-647d-4a32-ab12-58c8b69572f2",
   "metadata": {
    "tags": []
   },
   "outputs": [
    {
     "data": {
      "text/plain": [
       "365443.0    12399450\n",
       "3.0           601458\n",
       "9.0               22\n",
       "6.0                4\n",
       "Name: dup_party_id_govt, dtype: int64"
      ]
     },
     "execution_count": 23,
     "metadata": {},
     "output_type": "execute_result"
    }
   ],
   "source": [
    "policybene_df[mask]['dup_party_id_govt'].value_counts()"
   ]
  },
  {
   "cell_type": "code",
   "execution_count": 1,
   "id": "6f4daa84-8a3c-4a91-9ba7-c255152f5c17",
   "metadata": {
    "tags": []
   },
   "outputs": [],
   "source": [
    "# path = f'{bucket_path}/stg_common_relationship_202501220951.csv'\n",
    "# benedict_df = pd.read_csv(path)"
   ]
  },
  {
   "cell_type": "markdown",
   "id": "d48de5fa-e0e9-4dbb-936f-380253068d4d",
   "metadata": {},
   "source": [
    "ทำ partyid, policyno เป็น str ด้วย"
   ]
  },
  {
   "cell_type": "code",
   "execution_count": 27,
   "id": "7e7884cb-f14b-40c5-9705-e3f2e0b03fb4",
   "metadata": {
    "tags": []
   },
   "outputs": [],
   "source": [
    "bene_list = ['บิดา', 'บิดาบุญธรรม', 'มารดา', 'มารดาบุญธรรม', 'บุตร', 'บุตรบุญธรรม', 'สามี', 'ภรรยา']\n",
    "mask = benedict_df['relationship_desc_th'].isin(bene_list)\n",
    "benecode_list = set(benedict_df.loc[mask, 'relationship_cd'])"
   ]
  },
  {
   "cell_type": "code",
   "execution_count": 17,
   "id": "e5c11d28-c8df-4f17-bee4-69eb419aaf7b",
   "metadata": {
    "tags": []
   },
   "outputs": [
    {
     "data": {
      "text/plain": [
       "{1, 2, 3, 4, 5, 22, 43, 44}"
      ]
     },
     "execution_count": 17,
     "metadata": {},
     "output_type": "execute_result"
    }
   ],
   "source": [
    "benecode_list"
   ]
  },
  {
   "cell_type": "code",
   "execution_count": 31,
   "id": "f23d02a2-bb05-4142-a120-283ea0fa461f",
   "metadata": {
    "tags": []
   },
   "outputs": [
    {
     "data": {
      "text/html": [
       "<div>\n",
       "<style scoped>\n",
       "    .dataframe tbody tr th:only-of-type {\n",
       "        vertical-align: middle;\n",
       "    }\n",
       "\n",
       "    .dataframe tbody tr th {\n",
       "        vertical-align: top;\n",
       "    }\n",
       "\n",
       "    .dataframe thead th {\n",
       "        text-align: right;\n",
       "    }\n",
       "</style>\n",
       "<table border=\"1\" class=\"dataframe\">\n",
       "  <thead>\n",
       "    <tr style=\"text-align: right;\">\n",
       "      <th></th>\n",
       "      <th>policytype</th>\n",
       "      <th>policyno</th>\n",
       "      <th>relationshipcode</th>\n",
       "      <th>party_id_name_bd</th>\n",
       "      <th>party_id_govt</th>\n",
       "    </tr>\n",
       "  </thead>\n",
       "  <tbody>\n",
       "    <tr>\n",
       "      <th>850874</th>\n",
       "      <td>O</td>\n",
       "      <td>39925822</td>\n",
       "      <td>3</td>\n",
       "      <td>NaN</td>\n",
       "      <td>10823783</td>\n",
       "    </tr>\n",
       "    <tr>\n",
       "      <th>850875</th>\n",
       "      <td>O</td>\n",
       "      <td>39926340</td>\n",
       "      <td>1</td>\n",
       "      <td>NaN</td>\n",
       "      <td>10823783</td>\n",
       "    </tr>\n",
       "    <tr>\n",
       "      <th>850876</th>\n",
       "      <td>O</td>\n",
       "      <td>39925822</td>\n",
       "      <td>1</td>\n",
       "      <td>NaN</td>\n",
       "      <td>10823783</td>\n",
       "    </tr>\n",
       "    <tr>\n",
       "      <th>850878</th>\n",
       "      <td>O</td>\n",
       "      <td>86716784</td>\n",
       "      <td>4</td>\n",
       "      <td>NaN</td>\n",
       "      <td>10823714</td>\n",
       "    </tr>\n",
       "    <tr>\n",
       "      <th>850879</th>\n",
       "      <td>O</td>\n",
       "      <td>87036551</td>\n",
       "      <td>1</td>\n",
       "      <td>NaN</td>\n",
       "      <td>10823714</td>\n",
       "    </tr>\n",
       "  </tbody>\n",
       "</table>\n",
       "</div>"
      ],
      "text/plain": [
       "       policytype  policyno  relationshipcode party_id_name_bd party_id_govt\n",
       "850874          O  39925822                 3              NaN      10823783\n",
       "850875          O  39926340                 1              NaN      10823783\n",
       "850876          O  39925822                 1              NaN      10823783\n",
       "850878          O  86716784                 4              NaN      10823714\n",
       "850879          O  87036551                 1              NaN      10823714"
      ]
     },
     "execution_count": 31,
     "metadata": {},
     "output_type": "execute_result"
    }
   ],
   "source": [
    "beneid_df.loc[beneid_df['party_id_govt'].isna(), 'party_id_govt'] = beneid_df.loc[beneid_df['party_id_govt'].isna(), 'party_id_name_bd']\n",
    "mask = ~beneid_df['party_id_govt'].isna()\n",
    "mask &= beneid_df['relationshipcode'].isin([1, 2, 3, 4, 5, 22, 43, 44])\n",
    "beneid_df = beneid_df.loc[mask, :]\n",
    "beneid_df.head()"
   ]
  },
  {
   "cell_type": "code",
   "execution_count": 36,
   "id": "196ac077-9de6-4357-bbcb-89bcbfb5b150",
   "metadata": {
    "tags": []
   },
   "outputs": [
    {
     "data": {
      "text/html": [
       "<div>\n",
       "<style scoped>\n",
       "    .dataframe tbody tr th:only-of-type {\n",
       "        vertical-align: middle;\n",
       "    }\n",
       "\n",
       "    .dataframe tbody tr th {\n",
       "        vertical-align: top;\n",
       "    }\n",
       "\n",
       "    .dataframe thead th {\n",
       "        text-align: right;\n",
       "    }\n",
       "</style>\n",
       "<table border=\"1\" class=\"dataframe\">\n",
       "  <thead>\n",
       "    <tr style=\"text-align: right;\">\n",
       "      <th></th>\n",
       "      <th>policytype</th>\n",
       "      <th>policyno</th>\n",
       "      <th>relationshipcode</th>\n",
       "      <th>party_id_name_bd</th>\n",
       "      <th>party_id_govt</th>\n",
       "    </tr>\n",
       "  </thead>\n",
       "  <tbody>\n",
       "    <tr>\n",
       "      <th>850874</th>\n",
       "      <td>O</td>\n",
       "      <td>39925822</td>\n",
       "      <td>3</td>\n",
       "      <td>NaN</td>\n",
       "      <td>10823783</td>\n",
       "    </tr>\n",
       "    <tr>\n",
       "      <th>850875</th>\n",
       "      <td>O</td>\n",
       "      <td>39926340</td>\n",
       "      <td>1</td>\n",
       "      <td>NaN</td>\n",
       "      <td>10823783</td>\n",
       "    </tr>\n",
       "    <tr>\n",
       "      <th>850878</th>\n",
       "      <td>O</td>\n",
       "      <td>86716784</td>\n",
       "      <td>4</td>\n",
       "      <td>NaN</td>\n",
       "      <td>10823714</td>\n",
       "    </tr>\n",
       "    <tr>\n",
       "      <th>850879</th>\n",
       "      <td>O</td>\n",
       "      <td>87036551</td>\n",
       "      <td>1</td>\n",
       "      <td>NaN</td>\n",
       "      <td>10823714</td>\n",
       "    </tr>\n",
       "    <tr>\n",
       "      <th>850880</th>\n",
       "      <td>O</td>\n",
       "      <td>86833981</td>\n",
       "      <td>4</td>\n",
       "      <td>NaN</td>\n",
       "      <td>10823714</td>\n",
       "    </tr>\n",
       "    <tr>\n",
       "      <th>...</th>\n",
       "      <td>...</td>\n",
       "      <td>...</td>\n",
       "      <td>...</td>\n",
       "      <td>...</td>\n",
       "      <td>...</td>\n",
       "    </tr>\n",
       "    <tr>\n",
       "      <th>18989748</th>\n",
       "      <td>O</td>\n",
       "      <td>37410894</td>\n",
       "      <td>3</td>\n",
       "      <td>NaN</td>\n",
       "      <td>10505282</td>\n",
       "    </tr>\n",
       "    <tr>\n",
       "      <th>18989749</th>\n",
       "      <td>O</td>\n",
       "      <td>23109183</td>\n",
       "      <td>4</td>\n",
       "      <td>NaN</td>\n",
       "      <td>11221824</td>\n",
       "    </tr>\n",
       "    <tr>\n",
       "      <th>18989754</th>\n",
       "      <td>O</td>\n",
       "      <td>80227109</td>\n",
       "      <td>5</td>\n",
       "      <td>NaN</td>\n",
       "      <td>10505306</td>\n",
       "    </tr>\n",
       "    <tr>\n",
       "      <th>18989756</th>\n",
       "      <td>O</td>\n",
       "      <td>80232119</td>\n",
       "      <td>1</td>\n",
       "      <td>NaN</td>\n",
       "      <td>10505308</td>\n",
       "    </tr>\n",
       "    <tr>\n",
       "      <th>18989764</th>\n",
       "      <td>O</td>\n",
       "      <td>23050122</td>\n",
       "      <td>2</td>\n",
       "      <td>NaN</td>\n",
       "      <td>10668342</td>\n",
       "    </tr>\n",
       "  </tbody>\n",
       "</table>\n",
       "<p>2280682 rows × 5 columns</p>\n",
       "</div>"
      ],
      "text/plain": [
       "         policytype  policyno  relationshipcode party_id_name_bd party_id_govt\n",
       "850874            O  39925822                 3              NaN      10823783\n",
       "850875            O  39926340                 1              NaN      10823783\n",
       "850878            O  86716784                 4              NaN      10823714\n",
       "850879            O  87036551                 1              NaN      10823714\n",
       "850880            O  86833981                 4              NaN      10823714\n",
       "...             ...       ...               ...              ...           ...\n",
       "18989748          O  37410894                 3              NaN      10505282\n",
       "18989749          O  23109183                 4              NaN      11221824\n",
       "18989754          O  80227109                 5              NaN      10505306\n",
       "18989756          O  80232119                 1              NaN      10505308\n",
       "18989764          O  23050122                 2              NaN      10668342\n",
       "\n",
       "[2280682 rows x 5 columns]"
      ]
     },
     "execution_count": 36,
     "metadata": {},
     "output_type": "execute_result"
    }
   ],
   "source": [
    "beneid_df.drop_duplicates(subset='policyno')"
   ]
  },
  {
   "cell_type": "code",
   "execution_count": 4,
   "id": "287fcf8b-2ef9-43c8-aeb9-dbc9aba92441",
   "metadata": {
    "tags": []
   },
   "outputs": [
    {
     "data": {
      "text/html": [
       "<div>\n",
       "<style scoped>\n",
       "    .dataframe tbody tr th:only-of-type {\n",
       "        vertical-align: middle;\n",
       "    }\n",
       "\n",
       "    .dataframe tbody tr th {\n",
       "        vertical-align: top;\n",
       "    }\n",
       "\n",
       "    .dataframe thead th {\n",
       "        text-align: right;\n",
       "    }\n",
       "</style>\n",
       "<table border=\"1\" class=\"dataframe\">\n",
       "  <thead>\n",
       "    <tr style=\"text-align: right;\">\n",
       "      <th></th>\n",
       "      <th>party_id</th>\n",
       "      <th>policy_govt</th>\n",
       "    </tr>\n",
       "  </thead>\n",
       "  <tbody>\n",
       "    <tr>\n",
       "      <th>0</th>\n",
       "      <td>4596828</td>\n",
       "      <td>20604519</td>\n",
       "    </tr>\n",
       "    <tr>\n",
       "      <th>1</th>\n",
       "      <td>2060465</td>\n",
       "      <td>20604684</td>\n",
       "    </tr>\n",
       "    <tr>\n",
       "      <th>2</th>\n",
       "      <td>2468579</td>\n",
       "      <td>20605089</td>\n",
       "    </tr>\n",
       "    <tr>\n",
       "      <th>3</th>\n",
       "      <td>3455457</td>\n",
       "      <td>20605591</td>\n",
       "    </tr>\n",
       "    <tr>\n",
       "      <th>4</th>\n",
       "      <td>3328568</td>\n",
       "      <td>20607297</td>\n",
       "    </tr>\n",
       "  </tbody>\n",
       "</table>\n",
       "</div>"
      ],
      "text/plain": [
       "   party_id policy_govt\n",
       "0   4596828    20604519\n",
       "1   2060465    20604684\n",
       "2   2468579    20605089\n",
       "3   3455457    20605591\n",
       "4   3328568    20607297"
      ]
     },
     "execution_count": 4,
     "metadata": {},
     "output_type": "execute_result"
    }
   ],
   "source": [
    "policybene_df.head()"
   ]
  },
  {
   "cell_type": "code",
   "execution_count": 38,
   "id": "201826c3-a7e2-42f1-af9f-2efe3c5e5ab5",
   "metadata": {
    "tags": []
   },
   "outputs": [
    {
     "data": {
      "text/plain": [
       "(17963767, 2)"
      ]
     },
     "execution_count": 38,
     "metadata": {},
     "output_type": "execute_result"
    }
   ],
   "source": [
    "policybene_df.shape"
   ]
  },
  {
   "cell_type": "code",
   "execution_count": null,
   "id": "febdf28e-7b5c-4d8b-b41d-f72df6c310e1",
   "metadata": {},
   "outputs": [],
   "source": [
    "eneid_df.drop_duplicates(subset='policyno')"
   ]
  },
  {
   "cell_type": "code",
   "execution_count": null,
   "id": "94341c19-a74a-4528-8c80-b53ca6659fe4",
   "metadata": {},
   "outputs": [],
   "source": [
    "policyactive_list = set(policy_df['policyno'])\n",
    "policybene_df = "
   ]
  },
  {
   "cell_type": "code",
   "execution_count": null,
   "id": "efd712b2-46df-4a65-9cbb-6a9d945cd0ac",
   "metadata": {},
   "outputs": [],
   "source": [
    "import pandas as pd\n",
    "from package.utils import timer, load_data\n",
    "\n",
    "@timer\n",
    "def createfamilyflag_pipeline(policy_df, policybene_path, beneid_path):\n",
    "    dtypes = {'policyno':str, 'party_id_name_bd':str, 'party_id_govt':str, 'policy_govt':str, 'party_id':str}\n",
    "    policybene_df = load_data(policybene_path, dtype=dtypes)\n",
    "    beneid_df = load_data(beneid_path, dtype=dtypes)\n",
    "    \n",
    "    # get active policyno\n",
    "    policyactive_list = set(policy_df['policy_no'])\n",
    "    \n",
    "    # get active beneficiary partyid\n",
    "    mask = policybene_df['policy_govt'].isin(policyactive_list)\n",
    "    activebeneid_list = set(policybene_df.loc[mask, 'party_id'])\n",
    "    \n",
    "    # get policy that having active beneficiary\n",
    "    beneid_df.loc[beneid_df['party_id_govt'].isna(), 'party_id_govt'] = beneid_df.loc[beneid_df['party_id_govt'].isna(), 'party_id_name_bd']\n",
    "    mask = ~beneid_df['party_id_govt'].isna()\n",
    "    mask &= beneid_df['relationshipcode'].isin([1, 2, 3, 4, 5, 22, 43, 44])\n",
    "    mask &= beneid_df['policyno'].isin(policyactive_list)\n",
    "    mask &= beneid_df['party_id_govt'].isin(activebeneid_list)\n",
    "    familypolicyno_list = set(beneid_df.loc[mask, 'policyno'])\n",
    "    \n",
    "    # get df having party_rk and family flag\n",
    "    proxy = policy_df[['party_rk', 'policy_no']].copy()\n",
    "    proxy['is_family'] = 0\n",
    "    proxy.loc[proxy['policy_no'].isin(familypolicyno_list), 'is_family'] = 1\n",
    "    proxy = proxy[['party_rk', 'is_family']].sort_values(by='is_family', ascending=False)\n",
    "    proxy = proxy.drop_duplicates(subset='party_rk', keep='first')\n",
    "    print(proxy)\n",
    "    return proxy\n",
    "\n",
    "createfamilyflag_pipeline(policy_df, policybene_path, beneid_path)"
   ]
  },
  {
   "cell_type": "code",
   "execution_count": 31,
   "id": "de83898b-8b79-4e87-8eb6-f31ef9965beb",
   "metadata": {
    "tags": []
   },
   "outputs": [],
   "source": [
    "import pandas as pd\n",
    "from package.utils import timer, load_data\n",
    "\n",
    "@timer\n",
    "def createfamilyflag_pipeline(policy_df, policybene_df, beneid_df):\n",
    "    # dtypes = {'policyno':str, 'party_id_name_bd':str, 'party_id_govt':str, 'policy_govt':str, 'dup_party_id_govt':str}\n",
    "    # policybene_df = load_data(policybene_path, dtype=dtypes)\n",
    "    # beneid_df = load_data(beneid_path, dtype=dtypes)\n",
    "    \n",
    "    # get active policyno\n",
    "    policyactive_list = set(policy_df['policy_no'])\n",
    "    print(policy_df['policy_no'])\n",
    "    \n",
    "    # get active beneficiary partyid\n",
    "    mask = policybene_df['policy_govt'].isin(policyactive_list)\n",
    "    activebeneid_list = set(policybene_df.loc[mask, 'party_id'])\n",
    "    print(policybene_df.loc[mask, 'party_id'])\n",
    "    \n",
    "    # get policy that having active beneficiary\n",
    "    beneid_df.loc[beneid_df['party_id_govt'].isna(), 'party_id_govt'] = beneid_df.loc[beneid_df['party_id_govt'].isna(), 'party_id_name_bd']\n",
    "    mask = ~beneid_df['party_id_govt'].isna()\n",
    "    mask &= beneid_df['relationshipcode'].isin([1, 2, 3, 4, 5, 22, 43, 44])\n",
    "    mask &= beneid_df['policyno'].isin(policyactive_list)\n",
    "    mask &= beneid_df['party_id_govt'].isin(activebeneid_list)\n",
    "    beneid_df = beneid_df.loc[mask, :]\n",
    "    print(beneid_df)\n",
    "    # beneid_df = beneid_df.drop_duplicates(subset='party_id_govt')\n",
    "    familypolicyno_list = set(beneid_df['policyno'])\n",
    "    \n",
    "    # get df having party_rk and family flag\n",
    "    proxy = policy_df[['party_rk', 'policy_no']].copy()\n",
    "    proxy['is_family'] = 0\n",
    "    proxy.loc[proxy['policy_no'].isin(familypolicyno_list), 'is_family'] = 1\n",
    "    proxy = proxy[['party_rk', 'is_family']].sort_values(by='is_family', ascending=False)\n",
    "    proxy = proxy.drop_duplicates(subset='party_rk', keep='first')\n",
    "    print(proxy)\n",
    "    return proxy"
   ]
  },
  {
   "cell_type": "code",
   "execution_count": 66,
   "id": "c898efb6-6d74-4422-bd7e-6a5dcdcc5447",
   "metadata": {
    "tags": []
   },
   "outputs": [
    {
     "name": "stdout",
     "output_type": "stream",
     "text": [
      "function: load_data is starting...\n",
      "loading data from: s3://tli-crm-segmentation/data-test/family/stg_tb_policy_policyparticipant_202505220106.csv\n",
      "Succesfully loaded data from: s3://tli-crm-segmentation/data-test/family/stg_tb_policy_policyparticipant_202505220106.csv\n",
      "function: load_data successfully executed at 17.751869916915894s\n",
      "function: load_data is starting...\n",
      "loading data from: s3://dev-tli-eap-inbound-bucket/test2_202505221645.csv\n"
     ]
    },
    {
     "name": "stderr",
     "output_type": "stream",
     "text": [
      "/home/ec2-user/SageMaker/crm_pipeline/package/utils.py:119: DtypeWarning: Columns (1) have mixed types. Specify dtype option on import or set low_memory=False.\n",
      "  data = pd.read_csv(path, dtype=dtype)\n"
     ]
    },
    {
     "name": "stdout",
     "output_type": "stream",
     "text": [
      "Succesfully loaded data from: s3://dev-tli-eap-inbound-bucket/test2_202505221645.csv\n",
      "function: load_data successfully executed at 33.69977307319641s\n",
      "0          36935725\n",
      "1          23012701\n",
      "2          86577924\n",
      "3          86951033\n",
      "4          82274040\n",
      "             ...   \n",
      "4180703    90375835\n",
      "4180704    91043748\n",
      "4180705    91043749\n",
      "4180706    91043753\n",
      "4180707    91043754\n",
      "Name: policy_no, Length: 4180708, dtype: object\n",
      "26           6090194\n",
      "27           3531868\n",
      "29           2219125\n",
      "35          12216290\n",
      "40           1576143\n",
      "              ...   \n",
      "17950951      877950\n",
      "17952137     8940559\n",
      "17952138     9257906\n",
      "17952140     3403441\n",
      "17952144     9355729\n",
      "Name: party_id, Length: 4180704, dtype: object\n"
     ]
    }
   ],
   "source": [
    "bucket_path = 's3://tli-crm-segmentation/data-test/family'\n",
    "policybene_path = f'{bucket_path}/stg_tb_policy_policyparticipant_202505220106.csv'\n",
    "beneid_path = f'{bucket_path}/stg_tb_mstperson_beneficiary_party_id_name_bd_party_id_govt_202505220042.csv'\n",
    "beneid_path = 's3://dev-tli-eap-inbound-bucket/test2_202505221645.csv'\n",
    "\n",
    "dtypes = {'policy_no':str, 'party_id_name_bd':str, 'party_id_govt':str, 'policy_govt':str, 'dup_party_id_govt':str, 'party_rk':str, 'party_id':str}\n",
    "policy_df = pd.read_csv('active_policy.csv', dtype=dtypes)\n",
    "policybene_df = load_data(policybene_path, dtype=dtypes)\n",
    "beneid_df = load_data(beneid_path, dtype=dtypes)\n",
    "\n",
    "policyactive_list = set(policy_df['policy_no'])\n",
    "print(policy_df['policy_no'])\n",
    "\n",
    "mask = policybene_df['policy_govt'].isin(policyactive_list)\n",
    "activebeneid_list = set(policybene_df.loc[mask, 'party_id'])\n",
    "print(policybene_df.loc[mask, 'party_id'])\n",
    "\n",
    "beneid_df.loc[beneid_df['party_id_govt'].isna(), 'party_id_govt'] = beneid_df.loc[beneid_df['party_id_govt'].isna(), 'party_id_name_bd']\n",
    "mask = ~beneid_df['party_id_govt'].isna()\n",
    "mask &= beneid_df['relationshipcode'].isin([1, 2, 3, 4, 5, 22, 43, 44])\n",
    "mask &= beneid_df['policyno'].isin(policyactive_list)\n",
    "mask &= beneid_df['party_id_govt'].isin(activebeneid_list)\n",
    "beneidactive_df = beneid_df.loc[mask, :].head()"
   ]
  },
  {
   "cell_type": "code",
   "execution_count": 89,
   "id": "3b3aa3b9-76a1-4e73-8a4d-f7ac4142997e",
   "metadata": {
    "tags": []
   },
   "outputs": [],
   "source": [
    "beneid_df.loc[beneid_df['party_id_govt'].isna(), 'party_id_govt'] = beneid_df.loc[beneid_df['party_id_govt'].isna(), 'party_id_name_bd']\n",
    "mask = ~beneid_df['party_id_govt'].isna()\n",
    "mask &= beneid_df['relationshipcode'].isin([1, 2, 3, 4, 5, 22, 43, 44])\n",
    "mask &= beneid_df['policyno'].isin(policyactive_list)\n",
    "# mask &= beneid_df['party_id_govt'].isin(activebeneid_list)\n",
    "beneidactive_df = beneid_df.loc[mask, :].head()"
   ]
  },
  {
   "cell_type": "code",
   "execution_count": 90,
   "id": "29e19354-4e3e-49f3-ba21-f0ca909260a3",
   "metadata": {
    "tags": []
   },
   "outputs": [
    {
     "name": "stdout",
     "output_type": "stream",
     "text": [
      "<class 'pandas.core.frame.DataFrame'>\n",
      "Int64Index: 5 entries, 1452333 to 1452349\n",
      "Data columns (total 7 columns):\n",
      " #   Column                Non-Null Count  Dtype  \n",
      "---  ------                --------------  -----  \n",
      " 0   policytype            5 non-null      object \n",
      " 1   policyno              5 non-null      object \n",
      " 2   relationshipcode      5 non-null      int64  \n",
      " 3   party_id_name_bd      0 non-null      object \n",
      " 4   party_id_govt         5 non-null      object \n",
      " 5   dup_party_id_name_bd  0 non-null      float64\n",
      " 6   dup_party_id_govt     0 non-null      object \n",
      "dtypes: float64(1), int64(1), object(5)\n",
      "memory usage: 320.0+ bytes\n"
     ]
    }
   ],
   "source": [
    "beneidactive_df.info()"
   ]
  },
  {
   "cell_type": "code",
   "execution_count": 71,
   "id": "25857822-ecbd-4ae1-8909-94eaf3194cfc",
   "metadata": {
    "tags": []
   },
   "outputs": [
    {
     "data": {
      "text/html": [
       "<div>\n",
       "<style scoped>\n",
       "    .dataframe tbody tr th:only-of-type {\n",
       "        vertical-align: middle;\n",
       "    }\n",
       "\n",
       "    .dataframe tbody tr th {\n",
       "        vertical-align: top;\n",
       "    }\n",
       "\n",
       "    .dataframe thead th {\n",
       "        text-align: right;\n",
       "    }\n",
       "</style>\n",
       "<table border=\"1\" class=\"dataframe\">\n",
       "  <thead>\n",
       "    <tr style=\"text-align: right;\">\n",
       "      <th></th>\n",
       "      <th>party_rk</th>\n",
       "      <th>is_family</th>\n",
       "    </tr>\n",
       "  </thead>\n",
       "  <tbody>\n",
       "    <tr>\n",
       "      <th>2345233</th>\n",
       "      <td>8006345838</td>\n",
       "      <td>1</td>\n",
       "    </tr>\n",
       "    <tr>\n",
       "      <th>2699221</th>\n",
       "      <td>8007273637</td>\n",
       "      <td>1</td>\n",
       "    </tr>\n",
       "    <tr>\n",
       "      <th>2371092</th>\n",
       "      <td>8006405212</td>\n",
       "      <td>1</td>\n",
       "    </tr>\n",
       "    <tr>\n",
       "      <th>2383704</th>\n",
       "      <td>8006435885</td>\n",
       "      <td>1</td>\n",
       "    </tr>\n",
       "    <tr>\n",
       "      <th>647843</th>\n",
       "      <td>8001683555</td>\n",
       "      <td>1</td>\n",
       "    </tr>\n",
       "    <tr>\n",
       "      <th>...</th>\n",
       "      <td>...</td>\n",
       "      <td>...</td>\n",
       "    </tr>\n",
       "    <tr>\n",
       "      <th>1393573</th>\n",
       "      <td>8003650843</td>\n",
       "      <td>0</td>\n",
       "    </tr>\n",
       "    <tr>\n",
       "      <th>1393575</th>\n",
       "      <td>8003650846</td>\n",
       "      <td>0</td>\n",
       "    </tr>\n",
       "    <tr>\n",
       "      <th>1393577</th>\n",
       "      <td>8003650851</td>\n",
       "      <td>0</td>\n",
       "    </tr>\n",
       "    <tr>\n",
       "      <th>1393578</th>\n",
       "      <td>8003650854</td>\n",
       "      <td>0</td>\n",
       "    </tr>\n",
       "    <tr>\n",
       "      <th>4180707</th>\n",
       "      <td>8011617883</td>\n",
       "      <td>0</td>\n",
       "    </tr>\n",
       "  </tbody>\n",
       "</table>\n",
       "<p>3324764 rows × 2 columns</p>\n",
       "</div>"
      ],
      "text/plain": [
       "           party_rk  is_family\n",
       "2345233  8006345838          1\n",
       "2699221  8007273637          1\n",
       "2371092  8006405212          1\n",
       "2383704  8006435885          1\n",
       "647843   8001683555          1\n",
       "...             ...        ...\n",
       "1393573  8003650843          0\n",
       "1393575  8003650846          0\n",
       "1393577  8003650851          0\n",
       "1393578  8003650854          0\n",
       "4180707  8011617883          0\n",
       "\n",
       "[3324764 rows x 2 columns]"
      ]
     },
     "execution_count": 71,
     "metadata": {},
     "output_type": "execute_result"
    }
   ],
   "source": [
    "familypolicyno_list = set(beneidactive_df['policyno'])\n",
    "\n",
    "# get df having party_rk and family flag\n",
    "proxy = policy_df[['party_rk', 'policy_no']].copy()\n",
    "proxy['is_family'] = 0\n",
    "proxy.loc[proxy['policy_no'].isin(familypolicyno_list), 'is_family'] = 1\n",
    "proxy = proxy[['party_rk', 'is_family']].sort_values(by='is_family', ascending=False)\n",
    "proxy = proxy.drop_duplicates(subset='party_rk', keep='first')\n",
    "proxy"
   ]
  },
  {
   "cell_type": "code",
   "execution_count": 73,
   "id": "3052a144-c50c-4bfc-898b-e4dcb88975fa",
   "metadata": {
    "tags": []
   },
   "outputs": [
    {
     "data": {
      "text/html": [
       "<div>\n",
       "<style scoped>\n",
       "    .dataframe tbody tr th:only-of-type {\n",
       "        vertical-align: middle;\n",
       "    }\n",
       "\n",
       "    .dataframe tbody tr th {\n",
       "        vertical-align: top;\n",
       "    }\n",
       "\n",
       "    .dataframe thead th {\n",
       "        text-align: right;\n",
       "    }\n",
       "</style>\n",
       "<table border=\"1\" class=\"dataframe\">\n",
       "  <thead>\n",
       "    <tr style=\"text-align: right;\">\n",
       "      <th></th>\n",
       "      <th>party_rk</th>\n",
       "      <th>is_family</th>\n",
       "    </tr>\n",
       "  </thead>\n",
       "  <tbody>\n",
       "    <tr>\n",
       "      <th>2345233</th>\n",
       "      <td>8006345838</td>\n",
       "      <td>1</td>\n",
       "    </tr>\n",
       "    <tr>\n",
       "      <th>2699221</th>\n",
       "      <td>8007273637</td>\n",
       "      <td>1</td>\n",
       "    </tr>\n",
       "    <tr>\n",
       "      <th>2371092</th>\n",
       "      <td>8006405212</td>\n",
       "      <td>1</td>\n",
       "    </tr>\n",
       "    <tr>\n",
       "      <th>2383704</th>\n",
       "      <td>8006435885</td>\n",
       "      <td>1</td>\n",
       "    </tr>\n",
       "    <tr>\n",
       "      <th>647843</th>\n",
       "      <td>8001683555</td>\n",
       "      <td>1</td>\n",
       "    </tr>\n",
       "    <tr>\n",
       "      <th>2787141</th>\n",
       "      <td>8007513754</td>\n",
       "      <td>0</td>\n",
       "    </tr>\n",
       "    <tr>\n",
       "      <th>2787139</th>\n",
       "      <td>8007513753</td>\n",
       "      <td>0</td>\n",
       "    </tr>\n",
       "    <tr>\n",
       "      <th>2787136</th>\n",
       "      <td>8007513752</td>\n",
       "      <td>0</td>\n",
       "    </tr>\n",
       "    <tr>\n",
       "      <th>2787135</th>\n",
       "      <td>8007513750</td>\n",
       "      <td>0</td>\n",
       "    </tr>\n",
       "    <tr>\n",
       "      <th>2787133</th>\n",
       "      <td>8007513748</td>\n",
       "      <td>0</td>\n",
       "    </tr>\n",
       "    <tr>\n",
       "      <th>2787132</th>\n",
       "      <td>8007513747</td>\n",
       "      <td>0</td>\n",
       "    </tr>\n",
       "    <tr>\n",
       "      <th>2787131</th>\n",
       "      <td>8007513746</td>\n",
       "      <td>0</td>\n",
       "    </tr>\n",
       "    <tr>\n",
       "      <th>2787142</th>\n",
       "      <td>8007513755</td>\n",
       "      <td>0</td>\n",
       "    </tr>\n",
       "    <tr>\n",
       "      <th>0</th>\n",
       "      <td>8000342016</td>\n",
       "      <td>0</td>\n",
       "    </tr>\n",
       "    <tr>\n",
       "      <th>2787144</th>\n",
       "      <td>8007513757</td>\n",
       "      <td>0</td>\n",
       "    </tr>\n",
       "    <tr>\n",
       "      <th>2787145</th>\n",
       "      <td>8007513760</td>\n",
       "      <td>0</td>\n",
       "    </tr>\n",
       "    <tr>\n",
       "      <th>2787146</th>\n",
       "      <td>8007513763</td>\n",
       "      <td>0</td>\n",
       "    </tr>\n",
       "    <tr>\n",
       "      <th>2787147</th>\n",
       "      <td>8007513764</td>\n",
       "      <td>0</td>\n",
       "    </tr>\n",
       "    <tr>\n",
       "      <th>2787148</th>\n",
       "      <td>8007513766</td>\n",
       "      <td>0</td>\n",
       "    </tr>\n",
       "    <tr>\n",
       "      <th>2787149</th>\n",
       "      <td>8007513768</td>\n",
       "      <td>0</td>\n",
       "    </tr>\n",
       "  </tbody>\n",
       "</table>\n",
       "</div>"
      ],
      "text/plain": [
       "           party_rk  is_family\n",
       "2345233  8006345838          1\n",
       "2699221  8007273637          1\n",
       "2371092  8006405212          1\n",
       "2383704  8006435885          1\n",
       "647843   8001683555          1\n",
       "2787141  8007513754          0\n",
       "2787139  8007513753          0\n",
       "2787136  8007513752          0\n",
       "2787135  8007513750          0\n",
       "2787133  8007513748          0\n",
       "2787132  8007513747          0\n",
       "2787131  8007513746          0\n",
       "2787142  8007513755          0\n",
       "0        8000342016          0\n",
       "2787144  8007513757          0\n",
       "2787145  8007513760          0\n",
       "2787146  8007513763          0\n",
       "2787147  8007513764          0\n",
       "2787148  8007513766          0\n",
       "2787149  8007513768          0"
      ]
     },
     "execution_count": 73,
     "metadata": {},
     "output_type": "execute_result"
    }
   ],
   "source": [
    "proxy.head(20)"
   ]
  },
  {
   "cell_type": "code",
   "execution_count": 76,
   "id": "9704b31a-c6b5-40b1-b931-b313918cad96",
   "metadata": {
    "tags": []
   },
   "outputs": [],
   "source": [
    "mask = ~beneidactive_df['party_id_govt'].isna()\n",
    "mask &= beneidactive_df.duplicated(subset='party_id_govt')\n",
    "set_dup = set(beneidactive_df[mask]['policyno'])\n",
    "active_list = set(policy_df['policy_no'])"
   ]
  },
  {
   "cell_type": "code",
   "execution_count": 77,
   "id": "0c1233c1-1037-49ff-a704-4fa67c53a4da",
   "metadata": {
    "tags": []
   },
   "outputs": [
    {
     "data": {
      "text/plain": [
       "0"
      ]
     },
     "execution_count": 77,
     "metadata": {},
     "output_type": "execute_result"
    }
   ],
   "source": [
    "len(set_dup)"
   ]
  },
  {
   "cell_type": "code",
   "execution_count": 78,
   "id": "9097cbce-c3d9-40e4-9618-afd6bd0b750d",
   "metadata": {
    "tags": []
   },
   "outputs": [
    {
     "data": {
      "text/plain": [
       "0"
      ]
     },
     "execution_count": 78,
     "metadata": {},
     "output_type": "execute_result"
    }
   ],
   "source": [
    "len(active_list&set_dup)"
   ]
  },
  {
   "cell_type": "code",
   "execution_count": 79,
   "id": "da54d901-4048-4acc-b4bd-2cb5de4dd7f5",
   "metadata": {
    "tags": []
   },
   "outputs": [
    {
     "data": {
      "text/plain": [
       "0    2728562\n",
       "1     596202\n",
       "Name: is_family, dtype: int64"
      ]
     },
     "execution_count": 79,
     "metadata": {},
     "output_type": "execute_result"
    }
   ],
   "source": [
    "familyv1_df = pd.read_csv('s3://tli-crm-segmentation/data-zones/neutral/processed/family.csv')\n",
    "familyv1_df = familyv1_df.drop_duplicates(subset='party_rk')\n",
    "familyv1_df['is_family'].value_counts()"
   ]
  },
  {
   "cell_type": "code",
   "execution_count": 91,
   "id": "d73852b3-d96d-4b71-9165-bc0876a27eb3",
   "metadata": {
    "tags": []
   },
   "outputs": [
    {
     "data": {
      "text/plain": [
       "0    3324759\n",
       "1          5\n",
       "Name: is_family, dtype: int64"
      ]
     },
     "execution_count": 91,
     "metadata": {},
     "output_type": "execute_result"
    }
   ],
   "source": [
    "proxy = proxy.drop_duplicates(subset='party_rk')\n",
    "proxy['is_family'].value_counts()"
   ]
  },
  {
   "cell_type": "code",
   "execution_count": 13,
   "id": "5eafc54a-c208-4df5-9029-1408fb751440",
   "metadata": {
    "tags": []
   },
   "outputs": [
    {
     "data": {
      "text/html": [
       "<div>\n",
       "<style scoped>\n",
       "    .dataframe tbody tr th:only-of-type {\n",
       "        vertical-align: middle;\n",
       "    }\n",
       "\n",
       "    .dataframe tbody tr th {\n",
       "        vertical-align: top;\n",
       "    }\n",
       "\n",
       "    .dataframe thead th {\n",
       "        text-align: right;\n",
       "    }\n",
       "</style>\n",
       "<table border=\"1\" class=\"dataframe\">\n",
       "  <thead>\n",
       "    <tr style=\"text-align: right;\">\n",
       "      <th></th>\n",
       "      <th>party_rk</th>\n",
       "      <th>is_family</th>\n",
       "    </tr>\n",
       "  </thead>\n",
       "  <tbody>\n",
       "    <tr>\n",
       "      <th>0</th>\n",
       "      <td>8000342016</td>\n",
       "      <td>1</td>\n",
       "    </tr>\n",
       "    <tr>\n",
       "      <th>2764959</th>\n",
       "      <td>8007454937</td>\n",
       "      <td>1</td>\n",
       "    </tr>\n",
       "    <tr>\n",
       "      <th>3567762</th>\n",
       "      <td>8009591575</td>\n",
       "      <td>1</td>\n",
       "    </tr>\n",
       "    <tr>\n",
       "      <th>3567760</th>\n",
       "      <td>8009591571</td>\n",
       "      <td>1</td>\n",
       "    </tr>\n",
       "    <tr>\n",
       "      <th>778968</th>\n",
       "      <td>8002045299</td>\n",
       "      <td>1</td>\n",
       "    </tr>\n",
       "    <tr>\n",
       "      <th>...</th>\n",
       "      <td>...</td>\n",
       "      <td>...</td>\n",
       "    </tr>\n",
       "    <tr>\n",
       "      <th>1588494</th>\n",
       "      <td>8004194570</td>\n",
       "      <td>0</td>\n",
       "    </tr>\n",
       "    <tr>\n",
       "      <th>1588495</th>\n",
       "      <td>8004194572</td>\n",
       "      <td>0</td>\n",
       "    </tr>\n",
       "    <tr>\n",
       "      <th>1588496</th>\n",
       "      <td>8004194573</td>\n",
       "      <td>0</td>\n",
       "    </tr>\n",
       "    <tr>\n",
       "      <th>1588497</th>\n",
       "      <td>8004194578</td>\n",
       "      <td>0</td>\n",
       "    </tr>\n",
       "    <tr>\n",
       "      <th>4180707</th>\n",
       "      <td>8011617883</td>\n",
       "      <td>0</td>\n",
       "    </tr>\n",
       "  </tbody>\n",
       "</table>\n",
       "<p>3324764 rows × 2 columns</p>\n",
       "</div>"
      ],
      "text/plain": [
       "           party_rk  is_family\n",
       "0        8000342016          1\n",
       "2764959  8007454937          1\n",
       "3567762  8009591575          1\n",
       "3567760  8009591571          1\n",
       "778968   8002045299          1\n",
       "...             ...        ...\n",
       "1588494  8004194570          0\n",
       "1588495  8004194572          0\n",
       "1588496  8004194573          0\n",
       "1588497  8004194578          0\n",
       "4180707  8011617883          0\n",
       "\n",
       "[3324764 rows x 2 columns]"
      ]
     },
     "execution_count": 13,
     "metadata": {},
     "output_type": "execute_result"
    }
   ],
   "source": [
    "familyv1_df = familyv1_df.sort_values(by='is_family', ascending=False)\n",
    "familyv1_df = familyv1_df.drop_duplicates(subset='party_rk', keep='first')\n",
    "familyv1_df"
   ]
  },
  {
   "cell_type": "code",
   "execution_count": 14,
   "id": "82dd2b3a-65d7-4b32-ba3b-3dbb4fbaf7cd",
   "metadata": {
    "tags": []
   },
   "outputs": [
    {
     "data": {
      "text/plain": [
       "0    2728562\n",
       "1     596202\n",
       "Name: is_family, dtype: int64"
      ]
     },
     "execution_count": 14,
     "metadata": {},
     "output_type": "execute_result"
    }
   ],
   "source": [
    "familyv1_df['is_family'].value_counts()"
   ]
  },
  {
   "cell_type": "code",
   "execution_count": null,
   "id": "e983fdaf-6798-41de-92fa-dcefc6ec4f07",
   "metadata": {},
   "outputs": [],
   "source": []
  }
 ],
 "metadata": {
  "kernelspec": {
   "display_name": "conda_python3",
   "language": "python",
   "name": "conda_python3"
  },
  "language_info": {
   "codemirror_mode": {
    "name": "ipython",
    "version": 3
   },
   "file_extension": ".py",
   "mimetype": "text/x-python",
   "name": "python",
   "nbconvert_exporter": "python",
   "pygments_lexer": "ipython3",
   "version": "3.10.17"
  }
 },
 "nbformat": 4,
 "nbformat_minor": 5
}
