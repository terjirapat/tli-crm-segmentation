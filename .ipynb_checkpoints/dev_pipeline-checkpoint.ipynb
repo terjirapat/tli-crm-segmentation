{
 "cells": [
  {
   "cell_type": "code",
   "execution_count": 1,
   "id": "047fd3db-b963-4b7c-a06b-b7793e585b58",
   "metadata": {
    "tags": []
   },
   "outputs": [],
   "source": [
    "%load_ext autoreload\n",
    "%autoreload 2"
   ]
  },
  {
   "cell_type": "markdown",
   "id": "355ce600-ee65-4092-929a-724dab4ae630",
   "metadata": {},
   "source": [
    "# Import Libs"
   ]
  },
  {
   "cell_type": "code",
   "execution_count": 2,
   "id": "fe153dc1-c707-490f-b5a1-93f2f1042e78",
   "metadata": {
    "tags": []
   },
   "outputs": [
    {
     "name": "stderr",
     "output_type": "stream",
     "text": [
      "/home/ec2-user/anaconda3/envs/python3/lib/python3.10/site-packages/pandas/core/computation/expressions.py:21: UserWarning: Pandas requires version '2.8.4' or newer of 'numexpr' (version '2.7.3' currently installed).\n",
      "  from pandas.core.computation.check import NUMEXPR_INSTALLED\n"
     ]
    }
   ],
   "source": [
    "import yaml\n",
    "import pandas as pd\n",
    "import numpy as np\n",
    "from package.utils import DotDict"
   ]
  },
  {
   "cell_type": "code",
   "execution_count": 3,
   "id": "2320ad6e-c360-4f75-8f0a-2657da0513eb",
   "metadata": {
    "tags": []
   },
   "outputs": [],
   "source": [
    "with open('sagemaker_configuration.yaml', 'r') as f:\n",
    "    input_dict = yaml.safe_load(f)\n",
    "    conf = DotDict(input_dict=input_dict)"
   ]
  },
  {
   "cell_type": "markdown",
   "id": "06d7fce1-cbd0-4f74-b2d0-4bdbf13e1087",
   "metadata": {},
   "source": [
    "# Set Environment"
   ]
  },
  {
   "cell_type": "code",
   "execution_count": 4,
   "id": "4ca1dfc0-c321-443a-8dc4-ab94f88ac248",
   "metadata": {
    "tags": []
   },
   "outputs": [],
   "source": [
    "ENV = 'local'\n",
    "# ENV = 'cloud'"
   ]
  },
  {
   "cell_type": "code",
   "execution_count": 5,
   "id": "9a2d8638-209d-441c-9b6b-a2b20bffccf2",
   "metadata": {
    "tags": []
   },
   "outputs": [
    {
     "name": "stdout",
     "output_type": "stream",
     "text": [
      "sagemaker.config INFO - Not applying SDK defaults from location: /etc/xdg/sagemaker/config.yaml\n",
      "sagemaker.config INFO - Not applying SDK defaults from location: /home/ec2-user/.config/sagemaker/config.yaml\n",
      "region: ap-southeast-1\n",
      "bucket: tli-crm-segmentation\n",
      "role: arn:aws:iam::140663717579:role/service-role/AmazonSageMaker-ExecutionRole-20220606T212656\n",
      "\n"
     ]
    }
   ],
   "source": [
    "import sys\n",
    "import json\n",
    "\n",
    "import boto3\n",
    "import sagemaker\n",
    "\n",
    "if ENV=='local':\n",
    "    from sagemaker.workflow.pipeline_context import LocalPipelineSession as PipelineSession\n",
    "else:\n",
    "    from sagemaker.workflow.pipeline_context import PipelineSession\n",
    "\n",
    "pipeline_session = PipelineSession(default_bucket=conf.BUCKET)\n",
    "region = pipeline_session.boto_region_name\n",
    "\n",
    "role = sagemaker.get_execution_role()\n",
    "\n",
    "print(f\"\"\"region: {region}\n",
    "bucket: {conf.BUCKET}\n",
    "role: {role}\n",
    "\"\"\")"
   ]
  },
  {
   "cell_type": "markdown",
   "id": "0aa5f887-5996-4b91-ad54-f8cf098678ce",
   "metadata": {},
   "source": [
    "# Pipeline Global Param"
   ]
  },
  {
   "cell_type": "code",
   "execution_count": 6,
   "id": "f83cfde7-2bbf-449f-addb-5e02abec855b",
   "metadata": {
    "tags": []
   },
   "outputs": [],
   "source": [
    "from sagemaker.workflow.parameters import (\n",
    "    ParameterInteger,\n",
    "    ParameterString,\n",
    "    ParameterFloat,\n",
    "    ParameterBoolean\n",
    ")\n",
    "\n",
    "from sagemaker.workflow.functions import Join"
   ]
  },
  {
   "cell_type": "code",
   "execution_count": 7,
   "id": "198a723c-c3d8-4f4a-96a1-1cf7ba4fafea",
   "metadata": {
    "tags": []
   },
   "outputs": [],
   "source": [
    "bucket_param = ParameterString(\n",
    "    name=\"BucketName\",\n",
    "    default_value=conf.BUCKET\n",
    ")\n",
    "model_name_param = ParameterString(\n",
    "    name=\"ModelName\",\n",
    ")\n",
    "# model_param_params = ParameterString(\n",
    "#     name=\"ModelParam\",\n",
    "# )\n",
    "# customer_group_param = ParameterString(\n",
    "#     name=\"CustomerGroup\",\n",
    "# )\n",
    "customer_groups = ['99pct', '0anp', '1hold', 'other']\n",
    "model_params_dict = {\n",
    "    '99pct': {'n_clusters': 3, 'random_state': 0},\n",
    "    '0anp': {'n_clusters': 4, 'random_state': 0},\n",
    "    '1hold': {'n_clusters': 4, 'random_state': 0},\n",
    "    'other': {'n_clusters': 3, 'random_state': 0}\n",
    "}\n",
    "customer_group_params = {}\n",
    "model_param_params = {}\n",
    "for group in customer_groups:\n",
    "    customer_group_params[group] = ParameterString(name=f\"CustomerGroup-{group}\")\n",
    "    model_param_params[group] = ParameterString(name=f\"ModelParam-{group}\")"
   ]
  },
  {
   "cell_type": "markdown",
   "id": "0c330bf5-744d-46aa-a3b9-9138195164d0",
   "metadata": {
    "tags": []
   },
   "source": [
    "# Building a train Pipeline"
   ]
  },
  {
   "cell_type": "markdown",
   "id": "90033f11-e88f-4de6-a83c-eb3cc9c66ad1",
   "metadata": {},
   "source": [
    "## Create a processing"
   ]
  },
  {
   "cell_type": "code",
   "execution_count": 8,
   "id": "f65ccfe0-89d7-4a4a-98fd-f205a3d798d5",
   "metadata": {
    "tags": []
   },
   "outputs": [],
   "source": [
    "from sagemaker.sklearn.processing import SKLearnProcessor\n",
    "from sagemaker.processing import ProcessingInput, ProcessingOutput\n",
    "\n",
    "sklearn_processor = SKLearnProcessor(\n",
    "    framework_version=conf.FRAMEWORK_VERSION,\n",
    "    instance_type=conf.INSTANCE_TYPE,\n",
    "    instance_count=conf.INSTANCE_COUNT,\n",
    "    base_job_name=conf.STEP_PROCESSING,\n",
    "    role=role,\n",
    "    sagemaker_session=pipeline_session,\n",
    ")"
   ]
  },
  {
   "cell_type": "code",
   "execution_count": 9,
   "id": "7ac01275-ccf8-4234-921c-2457dfb8c478",
   "metadata": {
    "tags": []
   },
   "outputs": [],
   "source": [
    "input_raw_var = Join(on='', values=['s3://', bucket_param, '/data-zones/neutral/raw/'])\n",
    "input_model_var = Join(on='', values=['s3://', bucket_param, '/data-zones/neutral/artifact/bene_model.pkl'])\n",
    "output_processing_var = Join(on='', values=['s3://', bucket_param, '/data-zones/neutral/processed'])\n",
    "\n",
    "processing_inputs = [\n",
    "    ProcessingInput(input_name=\"RawInput\", source=input_raw_var, destination=\"/opt/ml/processing/input/raw\"),\n",
    "    ProcessingInput(input_name=\"ModelInput\", source=input_model_var, destination=\"/opt/ml/processing/input/model\"),\n",
    "    ProcessingInput(input_name='Package', source='package', destination=\"/opt/ml/processing/input/code/package\"),\n",
    "]\n",
    "\n",
    "processing_outputs = [\n",
    "    ProcessingOutput(output_name=\"FeatureOutput\", source=\"/opt/ml/processing/output\", destination=output_processing_var),\n",
    "]"
   ]
  },
  {
   "cell_type": "code",
   "execution_count": 10,
   "id": "c5426407-e2c6-4a7b-9335-4be3a5117bbe",
   "metadata": {
    "tags": []
   },
   "outputs": [
    {
     "name": "stderr",
     "output_type": "stream",
     "text": [
      "/home/ec2-user/anaconda3/envs/python3/lib/python3.10/site-packages/sagemaker/workflow/pipeline_context.py:332: UserWarning: Running within a PipelineSession, there will be No Wait, No Logs, and No Job being started.\n",
      "  warnings.warn(\n"
     ]
    }
   ],
   "source": [
    "from sagemaker.workflow.steps import ProcessingStep\n",
    "\n",
    "processing_args = sklearn_processor.run(\n",
    "    code='01_processing.py',\n",
    "    inputs=processing_inputs,\n",
    "    outputs=processing_outputs,\n",
    ")\n",
    "\n",
    "step_processing = ProcessingStep(name=conf.STEP_PROCESSING, \n",
    "                                 step_args=processing_args, \n",
    "                           )"
   ]
  },
  {
   "cell_type": "markdown",
   "id": "c5954a07-a010-4054-a16e-e67b3d2a095a",
   "metadata": {},
   "source": [
    "## Create a grouping"
   ]
  },
  {
   "cell_type": "code",
   "execution_count": 11,
   "id": "a603c025-ee8b-4b7b-8d2a-13e0c691ff6f",
   "metadata": {
    "tags": []
   },
   "outputs": [],
   "source": [
    "from sagemaker.sklearn.processing import SKLearnProcessor\n",
    "from sagemaker.processing import ProcessingInput, ProcessingOutput\n",
    "\n",
    "sklearn_processor = SKLearnProcessor(\n",
    "    framework_version=conf.FRAMEWORK_VERSION,\n",
    "    instance_type=conf.INSTANCE_TYPE,\n",
    "    instance_count=conf.INSTANCE_COUNT,\n",
    "    base_job_name=conf.STEP_GROUPING,\n",
    "    role=role,\n",
    "    sagemaker_session=pipeline_session,\n",
    ")"
   ]
  },
  {
   "cell_type": "code",
   "execution_count": 12,
   "id": "e4d21e8d-0a56-4401-a712-2cafe1490790",
   "metadata": {
    "tags": []
   },
   "outputs": [],
   "source": [
    "# input_processing_var = Join(on='', values=['s3://', bucket_param, '/data-zones/neutral/processed'])\n",
    "# output_grouping_feature_var = Join(on='', values=['s3://', bucket_param, '/data-zones/neutral/grouped'])\n",
    "# output_grouping_scaler_var = Join(on='', values=['s3://', bucket_param, '/data-zones/neutral/artifact/scaler'])\n",
    "\n",
    "# grouping_inputs = [\n",
    "#     ProcessingInput(input_name=\"ProcessingInput\", source=input_processing_var, destination=\"/opt/ml/processing/input/\"),\n",
    "#     ProcessingInput(input_name='Package', source='package', destination=\"/opt/ml/processing/input/code/package\"),\n",
    "# ]\n",
    "\n",
    "# grouping_outputs = [\n",
    "#     ProcessingOutput(output_name=\"FeatureOutput\", source=\"/opt/ml/processing/output/feature\", destination=output_grouping_feature_var),\n",
    "#     ProcessingOutput(output_name=\"ScalerOutput\", source=\"/opt/ml/processing/output/scaler\", destination=output_grouping_scaler_var),\n",
    "# ]"
   ]
  },
  {
   "cell_type": "code",
   "execution_count": 13,
   "id": "8b6bf79c-0c33-4fe6-b9e6-22ca59edcf47",
   "metadata": {
    "tags": []
   },
   "outputs": [],
   "source": [
    "input_processing_var = Join(on='', values=['s3://', bucket_param, '/data-zones/neutral/processed'])\n",
    "input_raw_var = Join(on='', values=['s3://', bucket_param, '/data-zones/neutral/raw/tay_ds_customer_profile_202505091441.csv'])\n",
    "\n",
    "output_grouping_feature_var = Join(on='', values=['s3://', bucket_param, '/data-zones/neutral/grouped'])\n",
    "output_grouping_scaler_var = Join(on='', values=['s3://', bucket_param, '/data-zones/neutral/artifact/scaler'])\n",
    "\n",
    "grouping_inputs = [\n",
    "    ProcessingInput(input_name=\"ProcessingInput\", source=input_processing_var, destination=\"/opt/ml/processing/input/processed\"),\n",
    "    ProcessingInput(input_name=\"CustomerProfileInput\", source=input_raw_var, destination=\"/opt/ml/processing/input/raw\"),\n",
    "    ProcessingInput(input_name='Package', source='package', destination=\"/opt/ml/processing/input/code/package\"),\n",
    "]\n",
    "\n",
    "grouping_outputs = [\n",
    "    ProcessingOutput(output_name=\"FeatureOutput\", source=\"/opt/ml/processing/output/feature\", destination=output_grouping_feature_var),\n",
    "    ProcessingOutput(output_name=\"ScalerOutput\", source=\"/opt/ml/processing/output/scaler\", destination=output_grouping_scaler_var),\n",
    "]"
   ]
  },
  {
   "cell_type": "code",
   "execution_count": 14,
   "id": "268df41f-2104-4f88-98b5-589a418f136d",
   "metadata": {
    "tags": []
   },
   "outputs": [],
   "source": [
    "from sagemaker.workflow.steps import ProcessingStep\n",
    "\n",
    "grouping_args = sklearn_processor.run(\n",
    "    code='02_grouping.py',\n",
    "    inputs=grouping_inputs,\n",
    "    outputs=grouping_outputs,\n",
    ")\n",
    "\n",
    "step_grouping = ProcessingStep(name=conf.STEP_GROUPING, \n",
    "                               step_args=grouping_args, \n",
    "                               depends_on=[step_processing.name]\n",
    "                               )"
   ]
  },
  {
   "cell_type": "markdown",
   "id": "05b11179-f017-497c-84a5-6710f15442a4",
   "metadata": {
    "tags": []
   },
   "source": [
    "## Create a clustering"
   ]
  },
  {
   "cell_type": "code",
   "execution_count": 15,
   "id": "b0f0a1f3-c161-4942-b5b4-44b726bbd21a",
   "metadata": {
    "tags": []
   },
   "outputs": [],
   "source": [
    "from sagemaker.sklearn.processing import SKLearnProcessor\n",
    "from sagemaker.processing import ProcessingInput, ProcessingOutput\n",
    "\n",
    "sklearn_processor = SKLearnProcessor(\n",
    "    framework_version=conf.FRAMEWORK_VERSION,\n",
    "    instance_type=conf.INSTANCE_TYPE,\n",
    "    instance_count=conf.INSTANCE_COUNT,\n",
    "    base_job_name=conf.STEP_CLUSTERING,\n",
    "    role=role,\n",
    "    sagemaker_session=pipeline_session,\n",
    ")"
   ]
  },
  {
   "cell_type": "code",
   "execution_count": 16,
   "id": "2ba3d502-968c-4151-8b19-3e7f089e340d",
   "metadata": {
    "tags": []
   },
   "outputs": [],
   "source": [
    "input_grouping_var = Join(on='', values=['s3://', bucket_param, '/data-zones/neutral/grouped'])\n",
    "output_clustering_model_var = Join(on='', values=['s3://', bucket_param, '/data-zones/neutral/artifact/model'])\n",
    "output_clustering_log_var = Join(on='', values=['s3://', bucket_param, '/data-zones/neutral/log'])\n",
    "output_clustering_predict_var = Join(on='', values=['s3://', bucket_param, '/data-zones/neutral/inferenced'])\n",
    "\n",
    "clustering_inputs = [\n",
    "    ProcessingInput(input_name=\"ClusteringInput\", source=input_grouping_var, destination=\"/opt/ml/processing/input/\"),\n",
    "    ProcessingInput(input_name='Package', source='package', destination=\"/opt/ml/processing/input/code/package\"),\n",
    "]\n",
    "\n",
    "clustering_outputs = [\n",
    "    ProcessingOutput(output_name=\"ModelOutput\", source=\"/opt/ml/processing/output/model\", destination=output_clustering_model_var),\n",
    "    ProcessingOutput(output_name=\"LogOutput\", source=\"/opt/ml/processing/output/log\", destination=output_clustering_log_var),\n",
    "    ProcessingOutput(output_name=\"PredictOutput\", source=\"/opt/ml/processing/output/inferenced\", destination=output_clustering_predict_var),\n",
    "]"
   ]
  },
  {
   "cell_type": "code",
   "execution_count": 17,
   "id": "37c8b865-8a13-4557-8b63-0b565abef3ac",
   "metadata": {
    "tags": []
   },
   "outputs": [],
   "source": [
    "# Initialize an empty list to store processing steps\n",
    "clustering_steps = []\n",
    "\n",
    "for group in customer_groups:\n",
    "    # Create processing arguments for this specific customer group\n",
    "    clustering_args = sklearn_processor.run(\n",
    "        code='03_clustering.py',\n",
    "        inputs=clustering_inputs,\n",
    "        outputs=clustering_outputs,\n",
    "        arguments=[\n",
    "            \"--model-name\", model_name_param,\n",
    "            \"--model-param\", model_param_params[group],\n",
    "            \"--customer-group\", customer_group_params[group]  # Passing the customer group parameter dynamically\n",
    "        ]\n",
    "    )\n",
    "    \n",
    "    # Create the ProcessingStep\n",
    "    step_clustering = ProcessingStep(\n",
    "        name=f\"{conf.STEP_CLUSTERING}-{group}\",  # Step name includes the customer group\n",
    "        step_args=clustering_args,\n",
    "        # depends_on=[step_grouping.name],\n",
    "    )\n",
    "\n",
    "    # Add the step to the list of clustering steps\n",
    "    clustering_steps.append(step_clustering)"
   ]
  },
  {
   "cell_type": "code",
   "execution_count": 18,
   "id": "80715784-6ede-4843-a5eb-ba4ded6f51e3",
   "metadata": {
    "tags": []
   },
   "outputs": [],
   "source": [
    "# from sagemaker.workflow.steps import ProcessingStep\n",
    "\n",
    "# clustering_args = sklearn_processor.run(\n",
    "#         code='0x_clustering_test-Copy1.py',\n",
    "#         inputs=clustering_inputs,\n",
    "#         outputs=clustering_outputs,\n",
    "#         arguments=[\n",
    "#             \"--model-name\", model_name_param,\n",
    "#             \"--model-param\", model_param_params,\n",
    "#             \"--customer-group\", customer_group_param\n",
    "#         ]\n",
    "#     )\n",
    "\n",
    "# step_clustering = ProcessingStep(\n",
    "#         name=conf.STEP_CLUSTERING,\n",
    "#         step_args=clustering_args,\n",
    "#         depends_on=[step_grouping.name],\n",
    "#     )"
   ]
  },
  {
   "cell_type": "markdown",
   "id": "5764be9a-4fc2-4909-bc4a-74cbcaf37cad",
   "metadata": {
    "tags": []
   },
   "source": [
    "# Create a train pipeline"
   ]
  },
  {
   "cell_type": "code",
   "execution_count": 19,
   "id": "2bcb436e-4b68-48f0-86cc-0726734355df",
   "metadata": {
    "tags": []
   },
   "outputs": [],
   "source": [
    "# from sagemaker.workflow.pipeline import Pipeline\n",
    "# import json\n",
    "\n",
    "# # model_param = {'n_clusters': 3, 'random_state': 0}\n",
    "# model_name = 'kmeans'\n",
    "\n",
    "# train_pipeline = Pipeline(\n",
    "#     name=f'{conf.PIPELINE_NAME}-neutral',\n",
    "#     parameters=[\n",
    "#         bucket_param,\n",
    "#         model_name_param,\n",
    "#         *model_param_params.values(),\n",
    "#         *customer_group_params.values(),  # Add all customer group parameters here\n",
    "#     ],\n",
    "#     steps=\n",
    "#     # [\n",
    "#     #     step_processing, \n",
    "#     #     step_grouping] +\n",
    "#     clustering_steps,\n",
    "#     sagemaker_session=pipeline_session,\n",
    "# )\n",
    "\n",
    "# train_pipeline.upsert(role_arn=role)\n",
    "\n",
    "# execution = train_pipeline.start(\n",
    "#     parameters={\n",
    "#         \"ModelName\": model_name,\n",
    "#         **{f\"ModelParam-{group}\": json.dumps(model_params_dict[group]) for group in customer_groups},\n",
    "#         **{f\"CustomerGroup-{group}\": group for group in customer_groups}  # Pass each customer group parameter dynamically\n",
    "#     }\n",
    "# )"
   ]
  },
  {
   "cell_type": "code",
   "execution_count": 20,
   "id": "fae7a38a-6c4c-4c92-9813-5bcce0584606",
   "metadata": {
    "tags": []
   },
   "outputs": [
    {
     "name": "stderr",
     "output_type": "stream",
     "text": [
      "INFO:sagemaker.telemetry.telemetry_logging:SageMaker Python SDK will collect telemetry to help us better understand our user's needs, diagnose issues, and deliver additional features.\n",
      "To opt out of telemetry, please disable via TelemetryOptOut parameter in SDK defaults config. For more information, refer to https://sagemaker.readthedocs.io/en/stable/overview.html#configuring-and-using-defaults-with-the-sagemaker-python-sdk.\n",
      "WARNING:sagemaker.workflow.utilities:Popping out 'ProcessingJobName' from the pipeline definition by default since it will be overridden at pipeline execution time. Please utilize the PipelineDefinitionConfig to persist this field in the pipeline definition if desired.\n",
      "WARNING:sagemaker.workflow.utilities:Popping out 'ProcessingJobName' from the pipeline definition by default since it will be overridden at pipeline execution time. Please utilize the PipelineDefinitionConfig to persist this field in the pipeline definition if desired.\n",
      "INFO:sagemaker.local.entities:Starting execution for pipeline CustomerSegmentation-neutral. Execution ID is 1b46e846-350e-4cd6-bf44-fe2410e76234\n",
      "WARNING:sagemaker.workflow.utilities:Popping out 'ProcessingJobName' from the pipeline definition by default since it will be overridden at pipeline execution time. Please utilize the PipelineDefinitionConfig to persist this field in the pipeline definition if desired.\n",
      "WARNING:sagemaker.workflow.utilities:Popping out 'ProcessingJobName' from the pipeline definition by default since it will be overridden at pipeline execution time. Please utilize the PipelineDefinitionConfig to persist this field in the pipeline definition if desired.\n",
      "INFO:sagemaker.local.entities:Starting pipeline step: 'PROCESSING'\n",
      "INFO:sagemaker.telemetry.telemetry_logging:SageMaker Python SDK will collect telemetry to help us better understand our user's needs, diagnose issues, and deliver additional features.\n",
      "To opt out of telemetry, please disable via TelemetryOptOut parameter in SDK defaults config. For more information, refer to https://sagemaker.readthedocs.io/en/stable/overview.html#configuring-and-using-defaults-with-the-sagemaker-python-sdk.\n",
      "INFO:sagemaker.local.image:'Docker Compose' is not installed. Proceeding to check for 'docker-compose' CLI.\n",
      "INFO:sagemaker.local.image:'Docker Compose' found using Docker Compose CLI.\n",
      "INFO:sagemaker.local.local_session:Starting processing job\n",
      "INFO:botocore.credentials:Found credentials from IAM Role: BaseNotebookInstanceEc2InstanceRole\n",
      "INFO:sagemaker.local.image:No AWS credentials found in session but credentials from EC2 Metadata Service are available.\n",
      "INFO:sagemaker.local.image:docker compose file: \n",
      "networks:\n",
      "  sagemaker-local:\n",
      "    name: sagemaker-local\n",
      "services:\n",
      "  algo-1-ktj2r:\n",
      "    container_name: 8o9mmnn39u-algo-1-ktj2r\n",
      "    entrypoint:\n",
      "    - python3\n",
      "    - /opt/ml/processing/input/code/01_processing.py\n",
      "    environment: []\n",
      "    image: 121021644041.dkr.ecr.ap-southeast-1.amazonaws.com/sagemaker-scikit-learn:1.2-1-cpu-py3\n",
      "    networks:\n",
      "      sagemaker-local:\n",
      "        aliases:\n",
      "        - algo-1-ktj2r\n",
      "    stdin_open: true\n",
      "    tty: true\n",
      "    volumes:\n",
      "    - /tmp/tmpml34fbnk/algo-1-ktj2r/output:/opt/ml/output\n",
      "    - /tmp/tmpml34fbnk/algo-1-ktj2r/config:/opt/ml/config\n",
      "    - /tmp/tmpk00xyhjh:/opt/ml/processing/input/raw\n",
      "    - /tmp/tmpcxq7qo1q:/opt/ml/processing/input/model\n",
      "    - /tmp/tmpbzh306q5:/opt/ml/processing/input/code/package\n",
      "    - /tmp/tmplodpe4cv:/opt/ml/processing/input/code\n",
      "    - /tmp/tmpd39w1iyj/output/FeatureOutput:/opt/ml/processing/output\n",
      "    - /tmp/tmpml34fbnk/shared:/opt/ml/shared\n",
      "version: '2.3'\n",
      "\n",
      "INFO:sagemaker.local.image:docker command: docker-compose -f /tmp/tmpml34fbnk/docker-compose.yaml up --build --abort-on-container-exit\n"
     ]
    },
    {
     "name": "stdout",
     "output_type": "stream",
     "text": [
      " Container 8o9mmnn39u-algo-1-ktj2r  Creating\n",
      " Container 8o9mmnn39u-algo-1-ktj2r  Created\n",
      "Attaching to 8o9mmnn39u-algo-1-ktj2r\n",
      "8o9mmnn39u-algo-1-ktj2r  | Requirement already satisfied: tqdm in /miniconda3/lib/python3.9/site-packages (from -r /opt/ml/processing/input/code/package/requirements.txt (line 1)) (4.66.4)\n",
      "8o9mmnn39u-algo-1-ktj2r  | Collecting pyyaml (from -r /opt/ml/processing/input/code/package/requirements.txt (line 2))\n",
      "8o9mmnn39u-algo-1-ktj2r  |   Downloading PyYAML-6.0.2-cp39-cp39-manylinux_2_17_x86_64.manylinux2014_x86_64.whl.metadata (2.1 kB)\n",
      "8o9mmnn39u-algo-1-ktj2r  | Downloading PyYAML-6.0.2-cp39-cp39-manylinux_2_17_x86_64.manylinux2014_x86_64.whl (737 kB)\n",
      "\u001b[2K   \u001b[90m━━━━━━━━━━━━━━━━━━━━━━━━━━━━━━━━━━━━━━━━\u001b[0m \u001b[32m737.4/737.4 kB\u001b[0m \u001b[31m50.7 MB/s\u001b[0m eta \u001b[36m0:00:00\u001b[0mta \u001b[36m-:--:--\u001b[0m\n",
      "8o9mmnn39u-algo-1-ktj2r  | \u001b[?25hInstalling collected packages: pyyaml\n",
      "8o9mmnn39u-algo-1-ktj2r  | Successfully installed pyyaml-6.0.2\n",
      "8o9mmnn39u-algo-1-ktj2r  | function: get_config is starting...\n",
      "8o9mmnn39u-algo-1-ktj2r  | function: get_config successfully executed at 0.004592180252075195s\n",
      "8o9mmnn39u-algo-1-ktj2r  | current dir: ['bin', 'boot', 'dev', 'etc', 'home', 'lib', 'lib32', 'lib64', 'libx32', 'media', 'mnt', 'opt', 'proc', 'root', 'run', 'sbin', 'srv', 'sys', 'tmp', 'usr', 'var', 'miniconda3', '.dockerenv', 'libffi7_3.3-4_amd64.deb']\n",
      "8o9mmnn39u-algo-1-ktj2r  | input dir: ['raw', 'model', 'code']\n",
      "8o9mmnn39u-algo-1-ktj2r  | input raw dir: ['ds_mst_policy_profile_202505091742.csv', 'stg_tb_mstperson_beneficiary_party_id_name_bd_party_id_govt_202505251050.csv', 'stg_tb_policy_policyparticipant_202505220106.csv', 'tay_ds_customer_profile_202505091441.csv', 'tay_ds_mst_rider_profile_202504090908.csv']\n",
      "8o9mmnn39u-algo-1-ktj2r  | input model dir: ['bene_model.pkl']\n",
      "8o9mmnn39u-algo-1-ktj2r  | function: main is starting...\n",
      "8o9mmnn39u-algo-1-ktj2r  | function: load_data is starting...\n",
      "8o9mmnn39u-algo-1-ktj2r  | loading data from: /opt/ml/processing/input/raw/ds_mst_policy_profile_202505091742.csv\n",
      "8o9mmnn39u-algo-1-ktj2r  | /opt/ml/processing/input/code/package/utils.py:34: DtypeWarning: Columns (1,6,30,31,58) have mixed types.Specify dtype option on import or set low_memory=False.\n",
      "8o9mmnn39u-algo-1-ktj2r  |   result = func(*args, **kwargs)\n",
      "8o9mmnn39u-algo-1-ktj2r  | Succesfully loaded data from: /opt/ml/processing/input/raw/ds_mst_policy_profile_202505091742.csv\n",
      "8o9mmnn39u-algo-1-ktj2r  | function: load_data successfully executed at 98.44661927223206s\n",
      "8o9mmnn39u-algo-1-ktj2r  | function: get_premium_baseplan is starting...\n",
      "8o9mmnn39u-algo-1-ktj2r  | function: get_premium_baseplan successfully executed at 1.8194522857666016s\n",
      "8o9mmnn39u-algo-1-ktj2r  | function: get_anp is starting...\n",
      "8o9mmnn39u-algo-1-ktj2r  | function: get_anp successfully executed at 1.966954231262207s\n",
      "8o9mmnn39u-algo-1-ktj2r  | function: impute_0anp_driver is starting...\n",
      "8o9mmnn39u-algo-1-ktj2r  | function: impute_0anp_driver successfully executed at 1.9010035991668701s\n",
      "8o9mmnn39u-algo-1-ktj2r  | function: prep_feature_policy is starting...\n",
      "8o9mmnn39u-algo-1-ktj2r  | function: prep_feature_policy successfully executed at 26.91597843170166s\n",
      "8o9mmnn39u-algo-1-ktj2r  | function: createfamilyflag_pipeline is starting...\n",
      "8o9mmnn39u-algo-1-ktj2r  | function: load_data is starting...\n",
      "8o9mmnn39u-algo-1-ktj2r  | loading data from: /opt/ml/processing/input/raw/stg_tb_policy_policyparticipant_202505220106.csv\n",
      "8o9mmnn39u-algo-1-ktj2r  | Succesfully loaded data from: /opt/ml/processing/input/raw/stg_tb_policy_policyparticipant_202505220106.csv\n",
      "8o9mmnn39u-algo-1-ktj2r  | function: load_data successfully executed at 12.664029121398926s\n",
      "8o9mmnn39u-algo-1-ktj2r  | function: load_data is starting...\n",
      "8o9mmnn39u-algo-1-ktj2r  | loading data from: /opt/ml/processing/input/raw/stg_tb_mstperson_beneficiary_party_id_name_bd_party_id_govt_202505251050.csv\n",
      "8o9mmnn39u-algo-1-ktj2r  | Succesfully loaded data from: /opt/ml/processing/input/raw/stg_tb_mstperson_beneficiary_party_id_name_bd_party_id_govt_202505251050.csv\n",
      "8o9mmnn39u-algo-1-ktj2r  | function: load_data successfully executed at 14.939812898635864s\n",
      "8o9mmnn39u-algo-1-ktj2r  | 702869\n",
      "8o9mmnn39u-algo-1-ktj2r  | <class 'pandas.core.frame.DataFrame'>\n",
      "8o9mmnn39u-algo-1-ktj2r  | Int64Index: 814852 entries, 853301 to 17828387\n",
      "8o9mmnn39u-algo-1-ktj2r  | Data columns (total 7 columns):\n",
      "8o9mmnn39u-algo-1-ktj2r  |  #   Column                Non-Null Count   Dtype  \n",
      "8o9mmnn39u-algo-1-ktj2r  | ---  ------                --------------   -----  \n",
      "8o9mmnn39u-algo-1-ktj2r  |  0   policytype            814852 non-null  object \n",
      "8o9mmnn39u-algo-1-ktj2r  |  1   policyno              814852 non-null  object \n",
      "8o9mmnn39u-algo-1-ktj2r  |  2   relationshipcode      814852 non-null  int64  \n",
      "8o9mmnn39u-algo-1-ktj2r  |  3   party_id_govt         814852 non-null  object \n",
      "8o9mmnn39u-algo-1-ktj2r  |  4   dup_party_id_govt     2849 non-null    object \n",
      "8o9mmnn39u-algo-1-ktj2r  |  5   party_id_name_bd      460932 non-null  object \n",
      "8o9mmnn39u-algo-1-ktj2r  |  6   dup_party_id_name_bd  24852 non-null   float64\n",
      "8o9mmnn39u-algo-1-ktj2r  | dtypes: float64(1), int64(1), object(5)\n",
      "8o9mmnn39u-algo-1-ktj2r  | memory usage: 49.7+ MB\n",
      "8o9mmnn39u-algo-1-ktj2r  | None\n",
      "8o9mmnn39u-algo-1-ktj2r  |          policytype  ... dup_party_id_name_bd\n",
      "8o9mmnn39u-algo-1-ktj2r  | 1452528           O  ...                  NaN\n",
      "8o9mmnn39u-algo-1-ktj2r  | 1452544           O  ...                  NaN\n",
      "8o9mmnn39u-algo-1-ktj2r  | 1452549           O  ...                  NaN\n",
      "8o9mmnn39u-algo-1-ktj2r  | 1452560           O  ...                  NaN\n",
      "8o9mmnn39u-algo-1-ktj2r  | 1452574           O  ...                  NaN\n",
      "8o9mmnn39u-algo-1-ktj2r  | ...             ...  ...                  ...\n",
      "8o9mmnn39u-algo-1-ktj2r  | 17828162          O  ...                  NaN\n",
      "8o9mmnn39u-algo-1-ktj2r  | 17828360          O  ...                  2.0\n",
      "8o9mmnn39u-algo-1-ktj2r  | 17828375          O  ...                  NaN\n",
      "8o9mmnn39u-algo-1-ktj2r  | 17828376          O  ...                  NaN\n",
      "8o9mmnn39u-algo-1-ktj2r  | 17828383          O  ...                  NaN\n",
      "8o9mmnn39u-algo-1-ktj2r  | \n",
      "8o9mmnn39u-algo-1-ktj2r  | [281055 rows x 7 columns]\n",
      "8o9mmnn39u-algo-1-ktj2r  | no of active policy on duplicate partyid:251060\n",
      "8o9mmnn39u-algo-1-ktj2r  | 0    2726456\n",
      "8o9mmnn39u-algo-1-ktj2r  | 1     598308\n",
      "8o9mmnn39u-algo-1-ktj2r  | Name: is_family, dtype: int64\n",
      "8o9mmnn39u-algo-1-ktj2r  | function: createfamilyflag_pipeline successfully executed at 64.05836009979248s\n",
      "8o9mmnn39u-algo-1-ktj2r  | function: prep_feature_beneficiary is starting...\n",
      "8o9mmnn39u-algo-1-ktj2r  | function: prep_feature_beneficiary successfully executed at 46.06795597076416s\n",
      "8o9mmnn39u-algo-1-ktj2r  | function: load_data is starting...\n",
      "8o9mmnn39u-algo-1-ktj2r  | loading data from: /opt/ml/processing/input/raw/tay_ds_mst_rider_profile_202504090908.csv\n",
      "8o9mmnn39u-algo-1-ktj2r  | Succesfully loaded data from: /opt/ml/processing/input/raw/tay_ds_mst_rider_profile_202504090908.csv\n",
      "8o9mmnn39u-algo-1-ktj2r  | function: load_data successfully executed at 50.30067038536072s\n",
      "8o9mmnn39u-algo-1-ktj2r  | function: get_partyrk_rider is starting...\n",
      "8o9mmnn39u-algo-1-ktj2r  | function: get_partyrk_rider successfully executed at 53.156190156936646s\n",
      "8o9mmnn39u-algo-1-ktj2r  | function: get_premium_rider is starting...\n",
      "8o9mmnn39u-algo-1-ktj2r  | function: get_premium_rider successfully executed at 0.6866292953491211s\n",
      "8o9mmnn39u-algo-1-ktj2r  | function: get_anp is starting...\n",
      "8o9mmnn39u-algo-1-ktj2r  | function: get_anp successfully executed at 3.3890159130096436s\n",
      "8o9mmnn39u-algo-1-ktj2r  | function: prep_feature_rider is starting...\n",
      "8o9mmnn39u-algo-1-ktj2r  | function: prep_feature_rider successfully executed at 6.869208335876465s\n",
      "8o9mmnn39u-algo-1-ktj2r  | function: split_onlytermpa_driver is starting...\n",
      "8o9mmnn39u-algo-1-ktj2r  | function: split_onlytermpa_driver successfully executed at 2.31941556930542s\n",
      "8o9mmnn39u-algo-1-ktj2r  | total_premium_saving\n",
      "8o9mmnn39u-algo-1-ktj2r  |        min       max\n",
      "8o9mmnn39u-algo-1-ktj2r  | 0    620.0   13524.0\n",
      "8o9mmnn39u-algo-1-ktj2r  | 1  13525.0   34913.0\n",
      "8o9mmnn39u-algo-1-ktj2r  | 2  34914.0   74370.0\n",
      "8o9mmnn39u-algo-1-ktj2r  | 3  74380.0  126990.0\n",
      "8o9mmnn39u-algo-1-ktj2r  | function: get_feature_bin is starting...\n",
      "8o9mmnn39u-algo-1-ktj2r  | function: get_feature_bin successfully executed at 0.9771127700805664s\n",
      "8o9mmnn39u-algo-1-ktj2r  | total_premium_wholelife\n",
      "8o9mmnn39u-algo-1-ktj2r  |        min      max\n",
      "8o9mmnn39u-algo-1-ktj2r  | 0    466.0   6368.0\n",
      "8o9mmnn39u-algo-1-ktj2r  | 1   6369.0  13442.0\n",
      "8o9mmnn39u-algo-1-ktj2r  | 2  13444.0  23190.0\n",
      "8o9mmnn39u-algo-1-ktj2r  | 3  23191.0  38010.0\n",
      "8o9mmnn39u-algo-1-ktj2r  | function: get_feature_bin is starting...\n",
      "8o9mmnn39u-algo-1-ktj2r  | function: get_feature_bin successfully executed at 0.978675127029419s\n",
      "8o9mmnn39u-algo-1-ktj2r  | total_premium_health\n",
      "8o9mmnn39u-algo-1-ktj2r  |        min      max\n",
      "8o9mmnn39u-algo-1-ktj2r  | 0    180.0   7080.0\n",
      "8o9mmnn39u-algo-1-ktj2r  | 1   7082.0  15130.0\n",
      "8o9mmnn39u-algo-1-ktj2r  | 2  15131.0  24972.0\n",
      "8o9mmnn39u-algo-1-ktj2r  | 3  24973.0  40213.0\n",
      "8o9mmnn39u-algo-1-ktj2r  | function: get_feature_bin is starting...\n",
      "8o9mmnn39u-algo-1-ktj2r  | function: get_feature_bin successfully executed at 0.9992096424102783s\n",
      "8o9mmnn39u-algo-1-ktj2r  | total_premium_ci\n",
      "8o9mmnn39u-algo-1-ktj2r  |       min     max\n",
      "8o9mmnn39u-algo-1-ktj2r  | 0    34.0  1248.0\n",
      "8o9mmnn39u-algo-1-ktj2r  | 1  1250.0  2350.0\n",
      "8o9mmnn39u-algo-1-ktj2r  | 2  2352.0  3838.0\n",
      "8o9mmnn39u-algo-1-ktj2r  | 3  3840.0  5750.0\n",
      "8o9mmnn39u-algo-1-ktj2r  | function: get_feature_bin is starting...\n",
      "8o9mmnn39u-algo-1-ktj2r  | function: get_feature_bin successfully executed at 1.1482462882995605s\n",
      "8o9mmnn39u-algo-1-ktj2r  | total_premium\n",
      "8o9mmnn39u-algo-1-ktj2r  |        min       max\n",
      "8o9mmnn39u-algo-1-ktj2r  | 0     42.0   15243.0\n",
      "8o9mmnn39u-algo-1-ktj2r  | 1  15244.0   36695.0\n",
      "8o9mmnn39u-algo-1-ktj2r  | 2  36696.0   78563.0\n",
      "8o9mmnn39u-algo-1-ktj2r  | 3  78566.0  162554.0\n",
      "8o9mmnn39u-algo-1-ktj2r  | function: get_feature_bin is starting...\n",
      "8o9mmnn39u-algo-1-ktj2r  | function: get_feature_bin successfully executed at 1.1345248222351074s\n",
      "8o9mmnn39u-algo-1-ktj2r  | /miniconda3/lib/python3.9/site-packages/sklearn/base.py:299: UserWarning: Trying to unpickle estimator KMeans from version 1.6.1 when using version 1.2.1. This might lead to breaking code or invalid results. Use at your own risk. For more info please refer to:\n",
      "8o9mmnn39u-algo-1-ktj2r  | https://scikit-learn.org/stable/model_persistence.html#security-maintainability-limitations\n",
      "8o9mmnn39u-algo-1-ktj2r  |   warnings.warn(\n",
      "8o9mmnn39u-algo-1-ktj2r  | function: save_file is starting...\n",
      "8o9mmnn39u-algo-1-ktj2r  | saved successfully at /opt/ml/processing/output/feature.csv\n",
      "8o9mmnn39u-algo-1-ktj2r  | function: save_file successfully executed at 38.01629590988159s\n",
      "8o9mmnn39u-algo-1-ktj2r  | function: save_file is starting...\n",
      "8o9mmnn39u-algo-1-ktj2r  | saved successfully at /opt/ml/processing/output/feature_termpa.csv\n",
      "8o9mmnn39u-algo-1-ktj2r  | function: save_file successfully executed at 0.8902976512908936s\n",
      "8o9mmnn39u-algo-1-ktj2r  | function: save_file is starting...\n",
      "8o9mmnn39u-algo-1-ktj2r  | saved successfully at /opt/ml/processing/output/family.csv\n",
      "8o9mmnn39u-algo-1-ktj2r  | function: save_file successfully executed at 3.8344154357910156s\n",
      "8o9mmnn39u-algo-1-ktj2r  | output dir: ['feature.csv', 'feature_termpa.csv', 'family.csv']\n",
      "8o9mmnn39u-algo-1-ktj2r  | function: main successfully executed at 452.56708121299744s\n",
      "8o9mmnn39u-algo-1-ktj2r  | Successfully clustering\n",
      "8o9mmnn39u-algo-1-ktj2r exited with code 0\n",
      "Aborting on container exit...\n",
      " Container 8o9mmnn39u-algo-1-ktj2r  Stopping\n",
      " Container 8o9mmnn39u-algo-1-ktj2r  Stopped\n"
     ]
    },
    {
     "name": "stderr",
     "output_type": "stream",
     "text": [
      "INFO:sagemaker.local.image:===== Job Complete =====\n",
      "INFO:sagemaker.local.entities:Pipeline step 'PROCESSING' SUCCEEDED.\n",
      "INFO:sagemaker.local.entities:Starting pipeline step: 'GROUPING'\n",
      "INFO:sagemaker.telemetry.telemetry_logging:SageMaker Python SDK will collect telemetry to help us better understand our user's needs, diagnose issues, and deliver additional features.\n",
      "To opt out of telemetry, please disable via TelemetryOptOut parameter in SDK defaults config. For more information, refer to https://sagemaker.readthedocs.io/en/stable/overview.html#configuring-and-using-defaults-with-the-sagemaker-python-sdk.\n",
      "INFO:sagemaker.local.image:'Docker Compose' is not installed. Proceeding to check for 'docker-compose' CLI.\n",
      "INFO:sagemaker.local.image:'Docker Compose' found using Docker Compose CLI.\n",
      "INFO:sagemaker.local.local_session:Starting processing job\n",
      "INFO:botocore.credentials:Found credentials from IAM Role: BaseNotebookInstanceEc2InstanceRole\n",
      "INFO:sagemaker.local.image:No AWS credentials found in session but credentials from EC2 Metadata Service are available.\n",
      "INFO:sagemaker.local.image:docker compose file: \n",
      "networks:\n",
      "  sagemaker-local:\n",
      "    name: sagemaker-local\n",
      "services:\n",
      "  algo-1-m5qx5:\n",
      "    container_name: nkmky5lolm-algo-1-m5qx5\n",
      "    entrypoint:\n",
      "    - python3\n",
      "    - /opt/ml/processing/input/code/02_grouping.py\n",
      "    environment: []\n",
      "    image: 121021644041.dkr.ecr.ap-southeast-1.amazonaws.com/sagemaker-scikit-learn:1.2-1-cpu-py3\n",
      "    networks:\n",
      "      sagemaker-local:\n",
      "        aliases:\n",
      "        - algo-1-m5qx5\n",
      "    stdin_open: true\n",
      "    tty: true\n",
      "    volumes:\n",
      "    - /tmp/tmpf7853kgu/algo-1-m5qx5/output:/opt/ml/output\n",
      "    - /tmp/tmpf7853kgu/algo-1-m5qx5/config:/opt/ml/config\n",
      "    - /tmp/tmp1snfxp6h:/opt/ml/processing/input/processed\n",
      "    - /tmp/tmpo7qupk6l:/opt/ml/processing/input/raw\n",
      "    - /tmp/tmp1ptomd_t:/opt/ml/processing/input/code/package\n",
      "    - /tmp/tmph7dzbn6b:/opt/ml/processing/input/code\n",
      "    - /tmp/tmpu6ob15mj/output/FeatureOutput:/opt/ml/processing/output/feature\n",
      "    - /tmp/tmpu6ob15mj/output/ScalerOutput:/opt/ml/processing/output/scaler\n",
      "    - /tmp/tmpf7853kgu/shared:/opt/ml/shared\n",
      "version: '2.3'\n",
      "\n",
      "INFO:sagemaker.local.image:docker command: docker-compose -f /tmp/tmpf7853kgu/docker-compose.yaml up --build --abort-on-container-exit\n"
     ]
    },
    {
     "name": "stdout",
     "output_type": "stream",
     "text": [
      " Container nkmky5lolm-algo-1-m5qx5  Creating\n",
      " Container nkmky5lolm-algo-1-m5qx5  Created\n",
      "Attaching to nkmky5lolm-algo-1-m5qx5\n",
      "nkmky5lolm-algo-1-m5qx5  | current dir: ['bin', 'boot', 'dev', 'etc', 'home', 'lib', 'lib32', 'lib64', 'libx32', 'media', 'mnt', 'opt', 'proc', 'root', 'run', 'sbin', 'srv', 'sys', 'tmp', 'usr', 'var', '.dockerenv', 'miniconda3', 'libffi7_3.3-4_amd64.deb']\n",
      "nkmky5lolm-algo-1-m5qx5  | package dir: ['.ipynb_checkpoints', '__pycache__', 'clustering', 'grouping', 'preprocessing', 'requirements.txt', 'utils.py']\n",
      "nkmky5lolm-algo-1-m5qx5  | input processed dir: ['raw', 'code', 'processed']\n",
      "nkmky5lolm-algo-1-m5qx5  | input raw dir: ['tay_ds_customer_profile_202505091441.csv']\n",
      "nkmky5lolm-algo-1-m5qx5  | Requirement already satisfied: tqdm in /miniconda3/lib/python3.9/site-packages (from -r /opt/ml/processing/input/code/package/requirements.txt (line 1)) (4.66.4)\n",
      "nkmky5lolm-algo-1-m5qx5  | Collecting pyyaml (from -r /opt/ml/processing/input/code/package/requirements.txt (line 2))\n",
      "nkmky5lolm-algo-1-m5qx5  |   Downloading PyYAML-6.0.2-cp39-cp39-manylinux_2_17_x86_64.manylinux2014_x86_64.whl.metadata (2.1 kB)\n",
      "nkmky5lolm-algo-1-m5qx5  | Downloading PyYAML-6.0.2-cp39-cp39-manylinux_2_17_x86_64.manylinux2014_x86_64.whl (737 kB)\n",
      "\u001b[2K   \u001b[90m━━━━━━━━━━━━━━━━━━━━━━━━━━━━━━━━━━━━━━━━\u001b[0m \u001b[32m737.4/737.4 kB\u001b[0m \u001b[31m53.8 MB/s\u001b[0m eta \u001b[36m0:00:00\u001b[0mta \u001b[36m-:--:--\u001b[0m\n",
      "nkmky5lolm-algo-1-m5qx5  | \u001b[?25hInstalling collected packages: pyyaml\n",
      "nkmky5lolm-algo-1-m5qx5  | Successfully installed pyyaml-6.0.2\n",
      "nkmky5lolm-algo-1-m5qx5  | function: get_config is starting...\n",
      "nkmky5lolm-algo-1-m5qx5  | function: get_config successfully executed at 0.001987934112548828s\n",
      "nkmky5lolm-algo-1-m5qx5  | function: main is starting...\n",
      "nkmky5lolm-algo-1-m5qx5  | function: load_data is starting...\n",
      "nkmky5lolm-algo-1-m5qx5  | loading data from: /opt/ml/processing/input/processed/feature.csv\n",
      "nkmky5lolm-algo-1-m5qx5  | Succesfully loaded data from: /opt/ml/processing/input/processed/feature.csv\n",
      "nkmky5lolm-algo-1-m5qx5  | function: load_data successfully executed at 5.090092182159424s\n",
      "nkmky5lolm-algo-1-m5qx5  | function: group_rider is starting...\n",
      "nkmky5lolm-algo-1-m5qx5  | function: group_rider successfully executed at 0.762596607208252s\n",
      "nkmky5lolm-algo-1-m5qx5  | function: group_family is starting...\n",
      "nkmky5lolm-algo-1-m5qx5  | function: load_data is starting...\n",
      "nkmky5lolm-algo-1-m5qx5  | loading data from: /opt/ml/processing/input/processed/family.csv\n",
      "nkmky5lolm-algo-1-m5qx5  | Succesfully loaded data from: /opt/ml/processing/input/processed/family.csv\n",
      "nkmky5lolm-algo-1-m5qx5  | function: load_data successfully executed at 1.421675682067871s\n",
      "nkmky5lolm-algo-1-m5qx5  | function: group_family successfully executed at 3.661149740219116s\n",
      "nkmky5lolm-algo-1-m5qx5  | function: group_behavior is starting...\n",
      "nkmky5lolm-algo-1-m5qx5  | function: group_behavior successfully executed at 2.2876951694488525s\n",
      "nkmky5lolm-algo-1-m5qx5  | function: group_lifestage is starting...\n",
      "nkmky5lolm-algo-1-m5qx5  | function: load_data is starting...\n",
      "nkmky5lolm-algo-1-m5qx5  | loading data from: /opt/ml/processing/input/raw/tay_ds_customer_profile_202505091441.csv\n",
      "nkmky5lolm-algo-1-m5qx5  | /opt/ml/processing/input/code/package/utils.py:34: DtypeWarning: Columns (4) have mixed types.Specify dtype option on import or set low_memory=False.\n",
      "nkmky5lolm-algo-1-m5qx5  |   result = func(*args, **kwargs)\n",
      "nkmky5lolm-algo-1-m5qx5  | Succesfully loaded data from: /opt/ml/processing/input/raw/tay_ds_customer_profile_202505091441.csv\n",
      "nkmky5lolm-algo-1-m5qx5  | function: load_data successfully executed at 13.52016282081604s\n",
      "nkmky5lolm-algo-1-m5qx5  | function: group_lifestage successfully executed at 38.35655927658081s\n",
      "nkmky5lolm-algo-1-m5qx5  | function: save_file is starting...\n",
      "nkmky5lolm-algo-1-m5qx5  | saved successfully at /opt/ml/processing/output/feature/feature_main.csv\n",
      "nkmky5lolm-algo-1-m5qx5  | function: save_file successfully executed at 43.719422578811646s\n",
      "nkmky5lolm-algo-1-m5qx5  | function: save_file is starting...\n",
      "nkmky5lolm-algo-1-m5qx5  | saved successfully at /opt/ml/processing/output/feature/feature_0anp_family_norider_.csv\n",
      "nkmky5lolm-algo-1-m5qx5  | function: save_file successfully executed at 0.6401515007019043s\n",
      "nkmky5lolm-algo-1-m5qx5  | function: save_file is starting...\n",
      "nkmky5lolm-algo-1-m5qx5  | saved successfully at /opt/ml/processing/output/feature/feature_normalized_0anp_family_norider_.csv\n",
      "nkmky5lolm-algo-1-m5qx5  | function: save_file successfully executed at 0.517275333404541s\n",
      "nkmky5lolm-algo-1-m5qx5  | function: save_file is starting...\n",
      "nkmky5lolm-algo-1-m5qx5  | saved successfully at /opt/ml/processing/output/feature/feature_0anp_family_rider_.csv\n",
      "nkmky5lolm-algo-1-m5qx5  | function: save_file successfully executed at 0.0011811256408691406s\n",
      "nkmky5lolm-algo-1-m5qx5  | function: save_file is starting...\n",
      "nkmky5lolm-algo-1-m5qx5  | saved successfully at /opt/ml/processing/output/feature/feature_normalized_0anp_family_rider_.csv\n",
      "nkmky5lolm-algo-1-m5qx5  | function: save_file successfully executed at 0.0008687973022460938s\n",
      "nkmky5lolm-algo-1-m5qx5  | function: save_file is starting...\n",
      "nkmky5lolm-algo-1-m5qx5  | saved successfully at /opt/ml/processing/output/feature/feature_0anp_nofamily_norider_.csv\n",
      "nkmky5lolm-algo-1-m5qx5  | function: save_file successfully executed at 6.9185802936553955s\n",
      "nkmky5lolm-algo-1-m5qx5  | function: save_file is starting...\n",
      "nkmky5lolm-algo-1-m5qx5  | saved successfully at /opt/ml/processing/output/feature/feature_normalized_0anp_nofamily_norider_.csv\n",
      "nkmky5lolm-algo-1-m5qx5  | function: save_file successfully executed at 5.706788539886475s\n",
      "nkmky5lolm-algo-1-m5qx5  | function: save_file is starting...\n",
      "nkmky5lolm-algo-1-m5qx5  | saved successfully at /opt/ml/processing/output/feature/feature_0anp_nofamily_rider_.csv\n",
      "nkmky5lolm-algo-1-m5qx5  | function: save_file successfully executed at 0.0011870861053466797s\n",
      "nkmky5lolm-algo-1-m5qx5  | function: save_file is starting...\n",
      "nkmky5lolm-algo-1-m5qx5  | saved successfully at /opt/ml/processing/output/feature/feature_normalized_0anp_nofamily_rider_.csv\n",
      "nkmky5lolm-algo-1-m5qx5  | function: save_file successfully executed at 0.0007801055908203125s\n",
      "nkmky5lolm-algo-1-m5qx5  | function: save_file is starting...\n",
      "nkmky5lolm-algo-1-m5qx5  | saved successfully at /opt/ml/processing/output/feature/feature_1hold_family_norider_.csv\n",
      "nkmky5lolm-algo-1-m5qx5  | function: save_file successfully executed at 2.3455810546875s\n",
      "nkmky5lolm-algo-1-m5qx5  | function: save_file is starting...\n",
      "nkmky5lolm-algo-1-m5qx5  | saved successfully at /opt/ml/processing/output/feature/feature_normalized_1hold_family_norider_.csv\n",
      "nkmky5lolm-algo-1-m5qx5  | function: save_file successfully executed at 2.151412010192871s\n",
      "nkmky5lolm-algo-1-m5qx5  | function: save_file is starting...\n",
      "nkmky5lolm-algo-1-m5qx5  | saved successfully at /opt/ml/processing/output/feature/feature_1hold_family_rider_.csv\n",
      "nkmky5lolm-algo-1-m5qx5  | function: save_file successfully executed at 2.8114094734191895s\n",
      "nkmky5lolm-algo-1-m5qx5  | function: save_file is starting...\n",
      "nkmky5lolm-algo-1-m5qx5  | saved successfully at /opt/ml/processing/output/feature/feature_normalized_1hold_family_rider_.csv\n",
      "nkmky5lolm-algo-1-m5qx5  | function: save_file successfully executed at 2.866015672683716s\n",
      "nkmky5lolm-algo-1-m5qx5  | function: save_file is starting...\n",
      "nkmky5lolm-algo-1-m5qx5  | saved successfully at /opt/ml/processing/output/feature/feature_1hold_nofamily_norider_.csv\n",
      "nkmky5lolm-algo-1-m5qx5  | function: save_file successfully executed at 12.144977331161499s\n",
      "nkmky5lolm-algo-1-m5qx5  | function: save_file is starting...\n",
      "nkmky5lolm-algo-1-m5qx5  | saved successfully at /opt/ml/processing/output/feature/feature_normalized_1hold_nofamily_norider_.csv\n",
      "nkmky5lolm-algo-1-m5qx5  | function: save_file successfully executed at 11.158811330795288s\n",
      "nkmky5lolm-algo-1-m5qx5  | function: save_file is starting...\n",
      "nkmky5lolm-algo-1-m5qx5  | saved successfully at /opt/ml/processing/output/feature/feature_1hold_nofamily_rider_.csv\n",
      "nkmky5lolm-algo-1-m5qx5  | function: save_file successfully executed at 12.276959419250488s\n",
      "nkmky5lolm-algo-1-m5qx5  | function: save_file is starting...\n",
      "nkmky5lolm-algo-1-m5qx5  | saved successfully at /opt/ml/processing/output/feature/feature_normalized_1hold_nofamily_rider_.csv\n",
      "nkmky5lolm-algo-1-m5qx5  | function: save_file successfully executed at 12.677385330200195s\n",
      "nkmky5lolm-algo-1-m5qx5  | function: save_file is starting...\n",
      "nkmky5lolm-algo-1-m5qx5  | saved successfully at /opt/ml/processing/output/feature/feature_99pct_family_norider_.csv\n",
      "nkmky5lolm-algo-1-m5qx5  | function: save_file successfully executed at 0.0445256233215332s\n",
      "nkmky5lolm-algo-1-m5qx5  | function: save_file is starting...\n",
      "nkmky5lolm-algo-1-m5qx5  | saved successfully at /opt/ml/processing/output/feature/feature_normalized_99pct_family_norider_.csv\n",
      "nkmky5lolm-algo-1-m5qx5  | function: save_file successfully executed at 0.03766751289367676s\n",
      "nkmky5lolm-algo-1-m5qx5  | function: save_file is starting...\n",
      "nkmky5lolm-algo-1-m5qx5  | saved successfully at /opt/ml/processing/output/feature/feature_99pct_family_rider_.csv\n",
      "nkmky5lolm-algo-1-m5qx5  | function: save_file successfully executed at 0.09988784790039062s\n",
      "nkmky5lolm-algo-1-m5qx5  | function: save_file is starting...\n",
      "nkmky5lolm-algo-1-m5qx5  | saved successfully at /opt/ml/processing/output/feature/feature_normalized_99pct_family_rider_.csv\n",
      "nkmky5lolm-algo-1-m5qx5  | function: save_file successfully executed at 0.09163331985473633s\n",
      "nkmky5lolm-algo-1-m5qx5  | function: save_file is starting...\n",
      "nkmky5lolm-algo-1-m5qx5  | saved successfully at /opt/ml/processing/output/feature/feature_99pct_nofamily_norider_.csv\n",
      "nkmky5lolm-algo-1-m5qx5  | function: save_file successfully executed at 0.20882558822631836s\n",
      "nkmky5lolm-algo-1-m5qx5  | function: save_file is starting...\n",
      "nkmky5lolm-algo-1-m5qx5  | saved successfully at /opt/ml/processing/output/feature/feature_normalized_99pct_nofamily_norider_.csv\n",
      "nkmky5lolm-algo-1-m5qx5  | function: save_file successfully executed at 0.18845081329345703s\n",
      "nkmky5lolm-algo-1-m5qx5  | function: save_file is starting...\n",
      "nkmky5lolm-algo-1-m5qx5  | saved successfully at /opt/ml/processing/output/feature/feature_99pct_nofamily_rider_.csv\n",
      "nkmky5lolm-algo-1-m5qx5  | function: save_file successfully executed at 0.12027406692504883s\n",
      "nkmky5lolm-algo-1-m5qx5  | function: save_file is starting...\n",
      "nkmky5lolm-algo-1-m5qx5  | saved successfully at /opt/ml/processing/output/feature/feature_normalized_99pct_nofamily_rider_.csv\n",
      "nkmky5lolm-algo-1-m5qx5  | function: save_file successfully executed at 0.11522054672241211s\n",
      "nkmky5lolm-algo-1-m5qx5  | function: save_file is starting...\n",
      "nkmky5lolm-algo-1-m5qx5  | saved successfully at /opt/ml/processing/output/feature/feature_other_family_norider_.csv\n",
      "nkmky5lolm-algo-1-m5qx5  | function: save_file successfully executed at 0.7504007816314697s\n",
      "nkmky5lolm-algo-1-m5qx5  | function: save_file is starting...\n",
      "nkmky5lolm-algo-1-m5qx5  | saved successfully at /opt/ml/processing/output/feature/feature_normalized_other_family_norider_.csv\n",
      "nkmky5lolm-algo-1-m5qx5  | function: save_file successfully executed at 0.6623444557189941s\n",
      "nkmky5lolm-algo-1-m5qx5  | function: save_file is starting...\n",
      "nkmky5lolm-algo-1-m5qx5  | saved successfully at /opt/ml/processing/output/feature/feature_other_family_rider_.csv\n",
      "nkmky5lolm-algo-1-m5qx5  | function: save_file successfully executed at 1.5281391143798828s\n",
      "nkmky5lolm-algo-1-m5qx5  | function: save_file is starting...\n",
      "nkmky5lolm-algo-1-m5qx5  | saved successfully at /opt/ml/processing/output/feature/feature_normalized_other_family_rider_.csv\n",
      "nkmky5lolm-algo-1-m5qx5  | function: save_file successfully executed at 1.4967024326324463s\n",
      "nkmky5lolm-algo-1-m5qx5  | function: save_file is starting...\n",
      "nkmky5lolm-algo-1-m5qx5  | saved successfully at /opt/ml/processing/output/feature/feature_other_nofamily_norider_.csv\n",
      "nkmky5lolm-algo-1-m5qx5  | function: save_file successfully executed at 1.8251264095306396s\n",
      "nkmky5lolm-algo-1-m5qx5  | function: save_file is starting...\n",
      "nkmky5lolm-algo-1-m5qx5  | saved successfully at /opt/ml/processing/output/feature/feature_normalized_other_nofamily_norider_.csv\n",
      "nkmky5lolm-algo-1-m5qx5  | function: save_file successfully executed at 1.6590001583099365s\n",
      "nkmky5lolm-algo-1-m5qx5  | function: save_file is starting...\n",
      "nkmky5lolm-algo-1-m5qx5  | saved successfully at /opt/ml/processing/output/feature/feature_other_nofamily_rider_.csv\n",
      "nkmky5lolm-algo-1-m5qx5  | function: save_file successfully executed at 2.238248348236084s\n",
      "nkmky5lolm-algo-1-m5qx5  | function: save_file is starting...\n",
      "nkmky5lolm-algo-1-m5qx5  | saved successfully at /opt/ml/processing/output/feature/feature_normalized_other_nofamily_rider_.csv\n",
      "nkmky5lolm-algo-1-m5qx5  | function: save_file successfully executed at 2.199384927749634s\n",
      "nkmky5lolm-algo-1-m5qx5  | output dir: ['scaler', 'feature']\n",
      "nkmky5lolm-algo-1-m5qx5  | function: main successfully executed at 188.6762776374817s\n",
      "nkmky5lolm-algo-1-m5qx5  | Successfully clustering\n",
      "nkmky5lolm-algo-1-m5qx5 exited with code 0\n",
      "Aborting on container exit...\n",
      " Container nkmky5lolm-algo-1-m5qx5  Stopping\n",
      " Container nkmky5lolm-algo-1-m5qx5  Stopped\n"
     ]
    },
    {
     "name": "stderr",
     "output_type": "stream",
     "text": [
      "INFO:sagemaker.local.image:===== Job Complete =====\n",
      "INFO:sagemaker.local.entities:Pipeline step 'GROUPING' SUCCEEDED.\n",
      "INFO:sagemaker.local.entities:Pipeline execution 1b46e846-350e-4cd6-bf44-fe2410e76234 SUCCEEDED\n"
     ]
    }
   ],
   "source": [
    "from sagemaker.workflow.pipeline import Pipeline\n",
    "import json\n",
    "\n",
    "model_name = 'kmeans'\n",
    "\n",
    "train_pipeline = Pipeline(\n",
    "    name=f'{conf.PIPELINE_NAME}-neutral',\n",
    "    parameters=[\n",
    "        bucket_param,\n",
    "        # model_name_param,\n",
    "        # *model_param_params.values(),\n",
    "        # *customer_group_params.values(),  # Add all customer group parameters here\n",
    "    ],\n",
    "    steps=\n",
    "    [\n",
    "        # step_processing, \n",
    "        step_grouping\n",
    "    ],\n",
    "    # clustering_steps,\n",
    "    sagemaker_session=pipeline_session,\n",
    ")\n",
    "\n",
    "train_pipeline.upsert(role_arn=role)\n",
    "\n",
    "execution = train_pipeline.start(\n",
    "    parameters={\n",
    "        # \"ModelName\": model_name,\n",
    "        # **{f\"ModelParam-{group}\": json.dumps(model_params_dict[group]) for group in customer_groups},\n",
    "        # **{f\"CustomerGroup-{group}\": group for group in customer_groups}  # Pass each customer group parameter dynamically\n",
    "    }\n",
    ")"
   ]
  },
  {
   "cell_type": "code",
   "execution_count": 76,
   "id": "0594bacd-74f9-431e-988b-af76a1af15a4",
   "metadata": {
    "tags": []
   },
   "outputs": [
    {
     "data": {
      "text/plain": [
       "{'pipeline': <sagemaker.workflow.pipeline.Pipeline at 0x7f4fbdbf7be0>,\n",
       " 'pipeline_execution_name': '22d71b13-7e91-4841-836e-cae6a9cd4938',\n",
       " 'pipeline_execution_description': None,\n",
       " 'pipeline_execution_display_name': None,\n",
       " 'local_session': <sagemaker.workflow.pipeline_context.LocalPipelineSession at 0x7f4fbe16b4f0>,\n",
       " 'status': 'Failed',\n",
       " 'failure_reason': \"Step 'GROUPING' failed with message: RuntimeError: Failed to run: ['docker-compose', '-f', '/tmp/tmpjqlgf4m5/docker-compose.yaml', 'up', '--build', '--abort-on-container-exit']. Process exited with code: 1\",\n",
       " 'creation_time': 1749103563.499863,\n",
       " 'last_modified_time': 1749103583.34354,\n",
       " 'step_execution': {'GROUPING': <sagemaker.local.entities._LocalPipelineExecutionStep at 0x7f4fbde778e0>},\n",
       " 'pipeline_dag': <sagemaker.workflow.pipeline.PipelineGraph at 0x7f4fbdbf5960>,\n",
       " 'pipeline_parameters': {'BucketName': 'tli-crm-segmentation'},\n",
       " '_blocked_steps': {}}"
      ]
     },
     "execution_count": 76,
     "metadata": {},
     "output_type": "execute_result"
    }
   ],
   "source": [
    "execution.__dict__"
   ]
  },
  {
   "cell_type": "code",
   "execution_count": 40,
   "id": "b8807521-c43d-443e-8d46-1041076e21a6",
   "metadata": {
    "tags": []
   },
   "outputs": [],
   "source": [
    "# definition['Parameters']"
   ]
  },
  {
   "cell_type": "markdown",
   "id": "e5593588-5ccf-429d-9a19-381dc40cd5f0",
   "metadata": {},
   "source": [
    "# Create an inference pipeline"
   ]
  },
  {
   "cell_type": "code",
   "execution_count": 41,
   "id": "dd483906-a6f7-467f-b4d9-20d06d5fcdd9",
   "metadata": {
    "tags": []
   },
   "outputs": [],
   "source": [
    "# from sagemaker.workflow.pipeline import Pipeline\n",
    "\n",
    "# inference_pipeline = Pipeline(\n",
    "#     name=f'{conf.PIPELINE_NAME}-inference-sumas-neutral-ter',\n",
    "#     parameters=[\n",
    "#         bucket_param, train_dt_param\n",
    "#     ],\n",
    "#     steps=[\n",
    "#         step_process,\n",
    "#         step_inference,\n",
    "#         step_pack,\n",
    "#         step_strategy\n",
    "#     ],\n",
    "#     sagemaker_session=pipeline_session,\n",
    "# )\n",
    "\n",
    "# definition = json.loads(inference_pipeline.definition())\n",
    "# inference_pipeline.upsert(role_arn=role)\n",
    "# execution = inference_pipeline.start(parameters={\n",
    "#     'train_dt':'202410'\n",
    "# })"
   ]
  },
  {
   "cell_type": "markdown",
   "id": "81b3e5d3-2d2a-476b-ab16-b21d78140bb9",
   "metadata": {},
   "source": [
    "# Start Flow with StepFunctions"
   ]
  },
  {
   "cell_type": "markdown",
   "id": "65d6b0d6-e81b-43b7-88e6-92c83a1d6234",
   "metadata": {},
   "source": [
    "## Train flow"
   ]
  },
  {
   "cell_type": "code",
   "execution_count": 19,
   "id": "6d6501e4-d885-4c2f-a612-2155d4090591",
   "metadata": {
    "tags": []
   },
   "outputs": [],
   "source": [
    "# import boto3\n",
    "# import json\n",
    "\n",
    "# load_dt = '202410'\n",
    "\n",
    "# stepfunctions_client = boto3.client('stepfunctions')\n",
    "# state_machine_arn = 'arn:aws:states:ap-southeast-1:140663717579:stateMachine:RecSysStemFunctionPipeline'\n",
    "\n",
    "# run_input = {\n",
    "#     \"input_param\": {\n",
    "#         \"flow\":\"train\",\n",
    "#         \"load_dt\":load_dt,\n",
    "#         \"sagemaker_pipeline\": f'{conf.PIPELINE_NAME}-train-sumas-neutral-ter',\n",
    "#     }\n",
    "# }\n",
    "\n",
    "# stepfunctions_client.start_execution(\n",
    "#                 stateMachineArn=state_machine_arn, input=json.dumps(run_input)\n",
    "#             )"
   ]
  },
  {
   "cell_type": "markdown",
   "id": "8e949852-d416-4a28-bebd-202c76c4d139",
   "metadata": {},
   "source": [
    "## Inference flow"
   ]
  },
  {
   "cell_type": "code",
   "execution_count": 4,
   "id": "c7095dff-1c3b-48e9-bd34-1748eb3942ce",
   "metadata": {
    "tags": []
   },
   "outputs": [
    {
     "data": {
      "text/plain": [
       "{'executionArn': 'arn:aws:states:ap-southeast-1:140663717579:execution:RecSysStemFunctionPipeline:5107f11e-e173-4dad-9f9f-bc0d82772b34',\n",
       " 'startDate': datetime.datetime(2025, 2, 26, 10, 7, 39, 24000, tzinfo=tzlocal()),\n",
       " 'ResponseMetadata': {'RequestId': '9cb3c6f2-b679-4da3-8b8a-0ee90ea60826',\n",
       "  'HTTPStatusCode': 200,\n",
       "  'HTTPHeaders': {'x-amzn-requestid': '9cb3c6f2-b679-4da3-8b8a-0ee90ea60826',\n",
       "   'date': 'Wed, 26 Feb 2025 10:07:39 GMT',\n",
       "   'content-type': 'application/x-amz-json-1.0',\n",
       "   'content-length': '164',\n",
       "   'connection': 'keep-alive'},\n",
       "  'RetryAttempts': 0}}"
      ]
     },
     "execution_count": 4,
     "metadata": {},
     "output_type": "execute_result"
    }
   ],
   "source": [
    "import yaml\n",
    "from package.utils import DotDict\n",
    "\n",
    "with open('sagemaker_configuration.yaml', 'r') as f:\n",
    "    input_dict = yaml.safe_load(f)\n",
    "    conf = DotDict(input_dict=input_dict)\n",
    "\n",
    "import boto3\n",
    "import json\n",
    "\n",
    "load_dt = '202502'\n",
    "train_dt = '202410'\n",
    "\n",
    "stepfunctions_client = boto3.client('stepfunctions')\n",
    "state_machine_arn = 'arn:aws:states:ap-southeast-1:140663717579:stateMachine:RecSysStemFunctionPipeline'\n",
    "\n",
    "run_input = {\n",
    "    \"input_param\": {\n",
    "        \"flow\":\"inference\",\n",
    "        \"load_dt\":load_dt,\n",
    "        \"sagemaker_pipeline\": f'{conf.PIPELINE_NAME}-inference-sumas-neutral-ter',\n",
    "        \"train_dt\":train_dt,\n",
    "    }\n",
    "}\n",
    "\n",
    "stepfunctions_client.start_execution(\n",
    "                stateMachineArn=state_machine_arn, input=json.dumps(run_input)\n",
    "            )"
   ]
  },
  {
   "cell_type": "code",
   "execution_count": null,
   "id": "84d3656d-e434-4e75-abdc-e5ef144305b0",
   "metadata": {},
   "outputs": [],
   "source": []
  }
 ],
 "metadata": {
  "kernelspec": {
   "display_name": "conda_python3",
   "language": "python",
   "name": "conda_python3"
  },
  "language_info": {
   "codemirror_mode": {
    "name": "ipython",
    "version": 3
   },
   "file_extension": ".py",
   "mimetype": "text/x-python",
   "name": "python",
   "nbconvert_exporter": "python",
   "pygments_lexer": "ipython3",
   "version": "3.10.18"
  }
 },
 "nbformat": 4,
 "nbformat_minor": 5
}
