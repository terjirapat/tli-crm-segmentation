{
 "cells": [
  {
   "cell_type": "code",
   "execution_count": 1,
   "id": "dca71049-d1a1-4b84-962d-9b5b42f5e04a",
   "metadata": {
    "tags": []
   },
   "outputs": [],
   "source": [
    "%load_ext autoreload\n",
    "%autoreload 2"
   ]
  },
  {
   "cell_type": "code",
   "execution_count": 2,
   "id": "7284e794-d1d0-43e2-aba6-f464e99f87ec",
   "metadata": {
    "tags": []
   },
   "outputs": [
    {
     "name": "stdout",
     "output_type": "stream",
     "text": [
      "function: get_config is starting...\n",
      "function: get_config successfully executed at 0.002460479736328125s\n"
     ]
    }
   ],
   "source": [
    "import pandas as pd\n",
    "import seaborn as sns\n",
    "import matplotlib.pyplot as plt\n",
    "import numpy as np\n",
    "from package.utils import DotDict, timer, get_config, load_data, merge_data\n",
    "\n",
    "# from package.cluster_analysis import plot_elbow, plot_box_cluster, plot_box_cluster_sns, show_size_cluster, validate_decisiontree_cluster, plot_centroidsim_cluster, cal_featureimportance, plot_pca\n",
    "\n",
    "from package.clustering import CONFIG_PATH\n",
    "\n",
    "conf = get_config(CONFIG_PATH)\n",
    "\n",
    "from sklearn.preprocessing import StandardScaler"
   ]
  },
  {
   "cell_type": "code",
   "execution_count": 3,
   "id": "db21c497-97f5-4f76-96a1-08953509f563",
   "metadata": {
    "tags": []
   },
   "outputs": [],
   "source": [
    "from package.clustering.get_model import get_model\n",
    "from package.clustering.predict import predict_model, add_labels\n",
    "\n",
    "# @timer\n",
    "def train_model(model, X):\n",
    "    return model.fit(X)"
   ]
  },
  {
   "cell_type": "code",
   "execution_count": 4,
   "id": "e8d05bb5-2d82-4e93-acb1-0a33fce21549",
   "metadata": {
    "tags": []
   },
   "outputs": [],
   "source": [
    "# # test data remove bene\n",
    "\n",
    "# for group in group_list:\n",
    "#     path = f's3://tli-crm-segmentation/data-zones/neutral/grouped/feature_{group}.csv'\n",
    "#     raw_df = load_data(path=path).set_index(conf.PARTY_ID_COLUMN)\n",
    "\n",
    "#     path = f's3://tli-crm-segmentation/data-zones/neutral/grouped/feature_normalized_{group}.csv'\n",
    "#     scaled_df = load_data(path=path).set_index(conf.PARTY_ID_COLUMN)\n",
    "    \n",
    "#     X = scaled_df.copy()\n",
    "    \n",
    "#     ####\n",
    "#     col_list = [col for col in X.columns if 'bene' not in col]\n",
    "#     X = X[col_list]\n",
    "#     ####\n",
    "    \n",
    "#     label_df = None\n",
    "\n",
    "#     for k in range(2, 5):\n",
    "#         model_name = 'kmeans'\n",
    "#         model_param = {'n_clusters': k, 'random_state': 0}\n",
    "\n",
    "#         model = get_model(method=model_name, params=model_param)\n",
    "#         model = train_model(model=model, X=X)\n",
    "#         labels = predict_model(model=model, method=model_name, X=X)\n",
    "#         result = add_labels(X=X, labels=labels)\n",
    "#         result = result.rename(columns={'labels':f'K{k}'})\n",
    "#         result = result.set_index(conf.PARTY_ID_COLUMN)\n",
    "#         label_df = pd.concat(objs=[label_df, result], axis=1)\n",
    "\n",
    "#     raw_df.columns = [col.upper() for col in raw_df.columns]\n",
    "#     scaled_df.columns = [f'SCALED_{col}'.upper() for col in scaled_df.columns]\n",
    "\n",
    "#     main_df = pd.concat(objs=[raw_df, scaled_df, label_df], axis=1)\n",
    "#     main_df.index.name = 'PARTY_RK'\n",
    "    \n",
    "#     ####\n",
    "#     col_list = [col for col in main_df.columns if 'BENE' not in col]\n",
    "#     main_df = main_df[col_list]\n",
    "#     ####\n",
    "    \n",
    "#     main_df = main_df.reset_index()\n",
    "    \n",
    "#     file_name = f'EXPERIMENT_CRM_SEGMENTATION_{group.upper()}_KMEANS'\n",
    "#     main_df.to_csv(f'{landing_path}/{file_name}.csv', index=False)"
   ]
  },
  {
   "cell_type": "code",
   "execution_count": 6,
   "id": "935661fb-d30e-4d54-a500-ec3982433a3d",
   "metadata": {
    "tags": []
   },
   "outputs": [],
   "source": [
    "def run_test_data(raw_df, scaled_df):\n",
    "    X = scaled_df.copy()\n",
    "\n",
    "    label_df = None\n",
    "\n",
    "    for k in range(2, 5):\n",
    "        model_name = 'kmeans'\n",
    "        model_param = {'n_clusters': k, 'random_state': 0}\n",
    "\n",
    "        model = get_model(method=model_name, params=model_param)\n",
    "        model = train_model(model=model, X=X)\n",
    "        labels = predict_model(model=model, method=model_name, X=X)\n",
    "        result = add_labels(X=X, labels=labels)\n",
    "        result = result.rename(columns={'labels':f'K{k}'})\n",
    "        result = result.set_index(conf.PARTY_ID_COLUMN)\n",
    "        label_df = pd.concat(objs=[label_df, result], axis=1)\n",
    "\n",
    "    raw_df.columns = [col.upper() for col in raw_df.columns]\n",
    "    # scaled_df.columns = [f'SCALED_{col}'.upper() for col in scaled_df.columns]\n",
    "\n",
    "    main_df = pd.concat(objs=[raw_df, label_df], axis=1)\n",
    "    main_df.index.name = 'PARTY_RK'\n",
    "\n",
    "    return main_df.reset_index()\n",
    "\n",
    "def norm_feature(data):\n",
    "    scaler = StandardScaler()\n",
    "    feature_norm = scaler.fit_transform(data)\n",
    "    feature_norm_df = pd.DataFrame(data=feature_norm, columns=data.columns, index=data.index)\n",
    "    return scaler, feature_norm_df"
   ]
  },
  {
   "cell_type": "code",
   "execution_count": 7,
   "id": "1f856570-56d6-43e4-b480-00753a74a412",
   "metadata": {
    "tags": []
   },
   "outputs": [],
   "source": [
    "col_list = ['POLICY_COUNT_SAVING',\n",
    "     'POLICY_COUNT_WHOLELIFE',\n",
    "     'POLICY_COUNT_OTHER',\n",
    "     'IS_BENE_PARENT',\n",
    "     'IS_BENE_CHILD',\n",
    "     'IS_BENE_SPOUSE']\n",
    "col_list = [col.lower() for col in col_list]"
   ]
  },
  {
   "cell_type": "code",
   "execution_count": 8,
   "id": "827e7fc4-5265-439e-ae7a-311070410651",
   "metadata": {
    "tags": []
   },
   "outputs": [
    {
     "name": "stdout",
     "output_type": "stream",
     "text": [
      "function: load_data is starting...\n",
      "loading data from: s3://tli-crm-segmentation/data-zones/neutral/grouped/feature_0anp.csv\n"
     ]
    },
    {
     "name": "stderr",
     "output_type": "stream",
     "text": [
      "/home/ec2-user/anaconda3/envs/pytorch_p310/lib/python3.10/site-packages/fsspec/registry.py:286: UserWarning: Your installed version of s3fs is very old and known to cause\n",
      "severe performance issues, see also https://github.com/dask/dask/issues/10276\n",
      "\n",
      "To fix, you should specify a lower version bound on s3fs, or\n",
      "update the current installation.\n",
      "\n",
      "  warnings.warn(s3_msg)\n"
     ]
    },
    {
     "name": "stdout",
     "output_type": "stream",
     "text": [
      "Succesfully loaded data from: s3://tli-crm-segmentation/data-zones/neutral/grouped/feature_0anp.csv\n",
      "function: load_data successfully executed at 2.5920231342315674s\n",
      "function: load_data is starting...\n",
      "loading data from: s3://tli-crm-segmentation/data-zones/neutral/grouped/feature_normalized_0anp.csv\n",
      "Succesfully loaded data from: s3://tli-crm-segmentation/data-zones/neutral/grouped/feature_normalized_0anp.csv\n",
      "function: load_data successfully executed at 2.7047500610351562s\n",
      "function: get_model is starting...\n",
      "function: get_model successfully executed at 5.650520324707031e-05s\n",
      "function: predict_model is starting...\n",
      "function: predict_model successfully executed at 0.006945371627807617s\n",
      "function: get_model is starting...\n",
      "function: get_model successfully executed at 4.076957702636719e-05s\n",
      "function: predict_model is starting...\n",
      "function: predict_model successfully executed at 0.007114410400390625s\n",
      "function: get_model is starting...\n",
      "function: get_model successfully executed at 4.363059997558594e-05s\n",
      "function: predict_model is starting...\n",
      "function: predict_model successfully executed at 0.007330894470214844s\n"
     ]
    }
   ],
   "source": [
    "landing_path = 's3://tli-crm-segmentation/data-test/load_dt=20250512'\n",
    "group_list = ['0anp']\n",
    "\n",
    "for group in group_list:\n",
    "    path = f's3://tli-crm-segmentation/data-zones/neutral/grouped/feature_{group}.csv'\n",
    "    raw_df = load_data(path=path).set_index(conf.PARTY_ID_COLUMN)\n",
    "\n",
    "    path = f's3://tli-crm-segmentation/data-zones/neutral/grouped/feature_normalized_{group}.csv'\n",
    "    scaled_df = load_data(path=path).set_index(conf.PARTY_ID_COLUMN)\n",
    "    scaled_df = scaled_df[col_list]\n",
    "    \n",
    "    main_df = run_test_data(raw_df, scaled_df)\n",
    "    \n",
    "    file_name = f'EXPERIMENT_CRM_SEGMENTATION_{group.upper()}_KMEANS'\n",
    "    main_df.to_csv(f'{landing_path}/{file_name}.csv', index=False)"
   ]
  },
  {
   "cell_type": "code",
   "execution_count": 9,
   "id": "209907d7-493b-400a-b431-66b99ea1b47f",
   "metadata": {
    "tags": []
   },
   "outputs": [
    {
     "name": "stdout",
     "output_type": "stream",
     "text": [
      "function: load_data is starting...\n",
      "loading data from: s3://tli-crm-segmentation/data-zones/neutral/grouped/feature_99pct.csv\n",
      "Succesfully loaded data from: s3://tli-crm-segmentation/data-zones/neutral/grouped/feature_99pct.csv\n",
      "function: load_data successfully executed at 0.17867374420166016s\n",
      "function: load_data is starting...\n",
      "loading data from: s3://tli-crm-segmentation/data-zones/neutral/grouped/feature_normalized_99pct.csv\n",
      "Succesfully loaded data from: s3://tli-crm-segmentation/data-zones/neutral/grouped/feature_normalized_99pct.csv\n",
      "function: load_data successfully executed at 0.3755178451538086s\n",
      "function: get_model is starting...\n",
      "function: get_model successfully executed at 3.814697265625e-05s\n",
      "function: predict_model is starting...\n",
      "function: predict_model successfully executed at 0.0006818771362304688s\n",
      "function: get_model is starting...\n",
      "function: get_model successfully executed at 3.314018249511719e-05s\n",
      "function: predict_model is starting...\n",
      "function: predict_model successfully executed at 0.000705718994140625s\n",
      "function: get_model is starting...\n",
      "function: get_model successfully executed at 3.0040740966796875e-05s\n",
      "function: predict_model is starting...\n",
      "function: predict_model successfully executed at 0.0008466243743896484s\n",
      "function: load_data is starting...\n",
      "loading data from: s3://tli-crm-segmentation/data-zones/neutral/grouped/feature_1hold.csv\n",
      "Succesfully loaded data from: s3://tli-crm-segmentation/data-zones/neutral/grouped/feature_1hold.csv\n",
      "function: load_data successfully executed at 5.691314220428467s\n",
      "function: load_data is starting...\n",
      "loading data from: s3://tli-crm-segmentation/data-zones/neutral/grouped/feature_normalized_1hold.csv\n",
      "Succesfully loaded data from: s3://tli-crm-segmentation/data-zones/neutral/grouped/feature_normalized_1hold.csv\n",
      "function: load_data successfully executed at 19.03561496734619s\n",
      "function: get_model is starting...\n",
      "function: get_model successfully executed at 5.269050598144531e-05s\n",
      "function: predict_model is starting...\n",
      "function: predict_model successfully executed at 0.0965721607208252s\n",
      "function: get_model is starting...\n",
      "function: get_model successfully executed at 0.00010251998901367188s\n",
      "function: predict_model is starting...\n",
      "function: predict_model successfully executed at 0.0951383113861084s\n",
      "function: get_model is starting...\n",
      "function: get_model successfully executed at 9.989738464355469e-05s\n",
      "function: predict_model is starting...\n",
      "function: predict_model successfully executed at 0.09437894821166992s\n",
      "function: load_data is starting...\n",
      "loading data from: s3://tli-crm-segmentation/data-zones/neutral/grouped/feature_other.csv\n",
      "Succesfully loaded data from: s3://tli-crm-segmentation/data-zones/neutral/grouped/feature_other.csv\n",
      "function: load_data successfully executed at 1.3386340141296387s\n",
      "function: load_data is starting...\n",
      "loading data from: s3://tli-crm-segmentation/data-zones/neutral/grouped/feature_normalized_other.csv\n",
      "Succesfully loaded data from: s3://tli-crm-segmentation/data-zones/neutral/grouped/feature_normalized_other.csv\n",
      "function: load_data successfully executed at 4.032451868057251s\n",
      "function: get_model is starting...\n",
      "function: get_model successfully executed at 5.1975250244140625e-05s\n",
      "function: predict_model is starting...\n",
      "function: predict_model successfully executed at 0.007689476013183594s\n",
      "function: get_model is starting...\n",
      "function: get_model successfully executed at 4.220008850097656e-05s\n",
      "function: predict_model is starting...\n",
      "function: predict_model successfully executed at 0.006854057312011719s\n",
      "function: get_model is starting...\n",
      "function: get_model successfully executed at 4.57763671875e-05s\n",
      "function: predict_model is starting...\n",
      "function: predict_model successfully executed at 0.007140398025512695s\n",
      "function: load_data is starting...\n",
      "loading data from: s3://tli-crm-segmentation/data-zones/neutral/processed/feature.csv\n",
      "Succesfully loaded data from: s3://tli-crm-segmentation/data-zones/neutral/processed/feature.csv\n",
      "function: load_data successfully executed at 8.905128717422485s\n",
      "function: get_model is starting...\n",
      "function: get_model successfully executed at 0.00010919570922851562s\n",
      "function: predict_model is starting...\n",
      "function: predict_model successfully executed at 0.13397598266601562s\n",
      "function: get_model is starting...\n",
      "function: get_model successfully executed at 0.00010800361633300781s\n",
      "function: predict_model is starting...\n",
      "function: predict_model successfully executed at 0.13482046127319336s\n",
      "function: get_model is starting...\n",
      "function: get_model successfully executed at 0.0005681514739990234s\n",
      "function: predict_model is starting...\n",
      "function: predict_model successfully executed at 0.1350240707397461s\n"
     ]
    }
   ],
   "source": [
    "# landing_path = 's3://tli-crm-segmentation/data-test/load_dt=20250509'\n",
    "group_list = ['99pct', '1hold', 'other']\n",
    "\n",
    "for group in group_list:\n",
    "    path = f's3://tli-crm-segmentation/data-zones/neutral/grouped/feature_{group}.csv'\n",
    "    raw_df = load_data(path=path).set_index(conf.PARTY_ID_COLUMN)\n",
    "\n",
    "    path = f's3://tli-crm-segmentation/data-zones/neutral/grouped/feature_normalized_{group}.csv'\n",
    "    scaled_df = load_data(path=path).set_index(conf.PARTY_ID_COLUMN)\n",
    "    \n",
    "    main_df = run_test_data(raw_df, scaled_df)\n",
    "    \n",
    "    file_name = f'EXPERIMENT_CRM_SEGMENTATION_{group.upper()}_KMEANS'\n",
    "    main_df.to_csv(f'{landing_path}/{file_name}.csv', index=False)\n",
    "\n",
    "path = 's3://tli-crm-segmentation/data-zones/neutral/processed/feature.csv'\n",
    "raw_df = load_data(path=path).set_index(conf.PARTY_ID_COLUMN)\n",
    "\n",
    "_, scaled_df = norm_feature(data=raw_df)\n",
    "\n",
    "main_df = run_test_data(raw_df, scaled_df)\n",
    "\n",
    "file_name = f'EXPERIMENT_CRM_SEGMENTATION_ALL_KMEANS'\n",
    "main_df.to_csv(f'{landing_path}/{file_name}.csv', index=False)"
   ]
  }
 ],
 "metadata": {
  "kernelspec": {
   "display_name": "conda_pytorch_p310",
   "language": "python",
   "name": "conda_pytorch_p310"
  },
  "language_info": {
   "codemirror_mode": {
    "name": "ipython",
    "version": 3
   },
   "file_extension": ".py",
   "mimetype": "text/x-python",
   "name": "python",
   "nbconvert_exporter": "python",
   "pygments_lexer": "ipython3",
   "version": "3.10.14"
  }
 },
 "nbformat": 4,
 "nbformat_minor": 5
}
